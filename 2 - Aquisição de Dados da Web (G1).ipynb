{
  "nbformat": 4,
  "nbformat_minor": 0,
  "metadata": {
    "colab": {
      "name": "2 - Aquisição de Dados da Web (G1)",
      "version": "0.3.2",
      "provenance": [],
      "toc_visible": true,
      "include_colab_link": true
    },
    "language_info": {
      "codemirror_mode": "r",
      "file_extension": ".r",
      "mimetype": "text/x-r-source",
      "name": "R",
      "pygments_lexer": "r",
      "version": "3.3.1"
    },
    "kernelspec": {
      "display_name": "R",
      "language": "R",
      "name": "ir"
    }
  },
  "cells": [
    {
      "cell_type": "markdown",
      "metadata": {
        "id": "view-in-github",
        "colab_type": "text"
      },
      "source": [
        "<a href=\"https://colab.research.google.com/github/lauramoraes/Analise_de_Clusters/blob/master/2%20-%20Aquisi%C3%A7%C3%A3o%20de%20Dados%20da%20Web%20(G1).ipynb\" target=\"_parent\"><img src=\"https://colab.research.google.com/assets/colab-badge.svg\" alt=\"Open In Colab\"/></a>"
      ]
    },
    {
      "cell_type": "markdown",
      "metadata": {
        "id": "wn9t4aUDQH2z",
        "colab_type": "text"
      },
      "source": [
        "# Aquisição de Dados\n",
        "\n",
        "O primeiro processo da Mineração de Texto, é garantir que temos os dados necessários para análise. A mineração de texto é muito dinâmica e provavelmente temos que montar um **fluxo contínuo** de aquisição dos dados necessário. Neste notebook vamos exemplificar como recuperar dados de uma página HTML e estruturá-los."
      ]
    },
    {
      "cell_type": "markdown",
      "metadata": {
        "id": "UixQ-Y9VKjwy",
        "colab_type": "text"
      },
      "source": [
        "### Importando bibliotecas a serem usadas"
      ]
    },
    {
      "cell_type": "code",
      "metadata": {
        "id": "SvGJ9AF0OH45",
        "colab_type": "code",
        "outputId": "7861daa4-28e5-4123-a1be-0ae45afb27cb",
        "colab": {
          "base_uri": "https://localhost:8080/",
          "height": 51
        }
      },
      "source": [
        "install.packages('rvest')"
      ],
      "execution_count": 51,
      "outputs": [
        {
          "output_type": "stream",
          "text": [
            "Installing package into ‘/usr/local/lib/R/site-library’\n",
            "(as ‘lib’ is unspecified)\n"
          ],
          "name": "stderr"
        }
      ]
    },
    {
      "cell_type": "code",
      "metadata": {
        "id": "Unsb8k4MKWgb",
        "colab_type": "code",
        "colab": {}
      },
      "source": [
        "suppressMessages(suppressWarnings(library(rvest)))\n",
        "suppressMessages(suppressWarnings(library(dplyr)))\n",
        "suppressMessages(suppressWarnings(library('ggplot2')))"
      ],
      "execution_count": 0,
      "outputs": []
    },
    {
      "cell_type": "markdown",
      "metadata": {
        "id": "J2pa0m1z05Om",
        "colab_type": "text"
      },
      "source": [
        "### Download dos dados\n",
        "\n",
        "### 1) Escolha uma URL para fazer download dos dados"
      ]
    },
    {
      "cell_type": "code",
      "metadata": {
        "id": "Hq3wcLq-axpx",
        "colab_type": "code",
        "colab": {}
      },
      "source": [
        "#Specifying the url for desired website to be scraped\n",
        "url <- 'https://g1.globo.com/'"
      ],
      "execution_count": 0,
      "outputs": []
    },
    {
      "cell_type": "code",
      "metadata": {
        "id": "Cnbxwzj6rESP",
        "colab_type": "code",
        "colab": {}
      },
      "source": [
        "#Reading the HTML code from the website\n",
        "webpage <- read_html(url)"
      ],
      "execution_count": 0,
      "outputs": []
    },
    {
      "cell_type": "markdown",
      "metadata": {
        "id": "DwNngnbNrT8k",
        "colab_type": "text"
      },
      "source": [
        "###  2) Escreva quais informações você gostaria de estruturar:"
      ]
    },
    {
      "cell_type": "markdown",
      "metadata": {
        "id": "LwwLw1OxwacO",
        "colab_type": "text"
      },
      "source": [
        "1. Título\n",
        "2. Subtítulo\n",
        "3. Link"
      ]
    },
    {
      "cell_type": "markdown",
      "metadata": {
        "id": "FHfHkw6cwlHE",
        "colab_type": "text"
      },
      "source": [
        "### 3) Escreva o código  para recuperar essas informações a partir da página especificada"
      ]
    },
    {
      "cell_type": "markdown",
      "metadata": {
        "id": "6_gykeJayWVX",
        "colab_type": "text"
      },
      "source": [
        "Título"
      ]
    },
    {
      "cell_type": "code",
      "metadata": {
        "id": "f_Tv9F8owqT0",
        "colab_type": "code",
        "outputId": "d8897161-ba1a-4adc-8f4e-af329c36c420",
        "colab": {
          "base_uri": "https://localhost:8080/",
          "height": 215
        }
      },
      "source": [
        "#Using CSS selectors to scrap the rankings section\n",
        "title_data_html <- html_nodes(webpage,'.feed-post-link')\n",
        "\n",
        "#Converting the title data to text\n",
        "title_data <- html_text(title_data_html)\n",
        "\n",
        "title_data"
      ],
      "execution_count": 55,
      "outputs": [
        {
          "output_type": "display_data",
          "data": {
            "text/plain": [
              " [1] \"Governo bloqueia mais 2,7 mil bolsas de pesquisa\"                  \n",
              " [2] \"Bolsonaro propõe eliminar multa a quem leva criança sem cadeirinha\"\n",
              " [3] \"Entenda como será o pente-fino no INSS aprovado pelo Congresso\"    \n",
              " [4] \"Guedes: 'Em pouco tempo faltará dinheiro para saúde e educação'\"   \n",
              " [5] \"Ministério Público diz ao STJ que Lula pode ir para o semiaberto\"  \n",
              " [6] \"Ex-advogado de mulher que acusa Neymar diz ter certeza de agressão\"\n",
              " [7] \"STJ determina que João de Deus volte para a cadeia\"                \n",
              " [8] \"O que mais você precisa saber hoje\"                                \n",
              " [9] \"Câmara aprova ajuda financeira a famílias em Brumadinho\"           \n",
              "[10] \"Pernambuco registra surto de doença de Chagas com 27 casos\"        "
            ],
            "text/latex": "\\begin{enumerate*}\n\\item 'Governo bloqueia mais 2,7 mil bolsas de pesquisa'\n\\item 'Bolsonaro propõe eliminar multa a quem leva criança sem cadeirinha'\n\\item 'Entenda como será o pente-fino no INSS aprovado pelo Congresso'\n\\item 'Guedes: \\textbackslash{}'Em pouco tempo faltará dinheiro para saúde e educação\\textbackslash{}''\n\\item 'Ministério Público diz ao STJ que Lula pode ir para o semiaberto'\n\\item 'Ex-advogado de mulher que acusa Neymar diz ter certeza de agressão'\n\\item 'STJ determina que João de Deus volte para a cadeia'\n\\item 'O que mais você precisa saber hoje'\n\\item 'Câmara aprova ajuda financeira a famílias em Brumadinho'\n\\item 'Pernambuco registra surto de doença de Chagas com 27 casos'\n\\end{enumerate*}\n",
            "text/markdown": "1. 'Governo bloqueia mais 2,7 mil bolsas de pesquisa'\n2. 'Bolsonaro propõe eliminar multa a quem leva criança sem cadeirinha'\n3. 'Entenda como será o pente-fino no INSS aprovado pelo Congresso'\n4. 'Guedes: \\'Em pouco tempo faltará dinheiro para saúde e educação\\''\n5. 'Ministério Público diz ao STJ que Lula pode ir para o semiaberto'\n6. 'Ex-advogado de mulher que acusa Neymar diz ter certeza de agressão'\n7. 'STJ determina que João de Deus volte para a cadeia'\n8. 'O que mais você precisa saber hoje'\n9. 'Câmara aprova ajuda financeira a famílias em Brumadinho'\n10. 'Pernambuco registra surto de doença de Chagas com 27 casos'\n\n\n",
            "text/html": [
              "<ol class=list-inline>\n",
              "\t<li>'Governo bloqueia mais 2,7 mil bolsas de pesquisa'</li>\n",
              "\t<li>'Bolsonaro propõe eliminar multa a quem leva criança sem cadeirinha'</li>\n",
              "\t<li>'Entenda como será o pente-fino no INSS aprovado pelo Congresso'</li>\n",
              "\t<li>'Guedes: \\'Em pouco tempo faltará dinheiro para saúde e educação\\''</li>\n",
              "\t<li>'Ministério Público diz ao STJ que Lula pode ir para o semiaberto'</li>\n",
              "\t<li>'Ex-advogado de mulher que acusa Neymar diz ter certeza de agressão'</li>\n",
              "\t<li>'STJ determina que João de Deus volte para a cadeia'</li>\n",
              "\t<li>'O que mais você precisa saber hoje'</li>\n",
              "\t<li>'Câmara aprova ajuda financeira a famílias em Brumadinho'</li>\n",
              "\t<li>'Pernambuco registra surto de doença de Chagas com 27 casos'</li>\n",
              "</ol>\n"
            ]
          },
          "metadata": {
            "tags": []
          }
        }
      ]
    },
    {
      "cell_type": "markdown",
      "metadata": {
        "id": "fA3qyv4FyX2A",
        "colab_type": "text"
      },
      "source": [
        "Subtitulo"
      ]
    },
    {
      "cell_type": "code",
      "metadata": {
        "id": "EVZDCXuOyZvk",
        "colab_type": "code",
        "outputId": "bc8cb728-58f0-499e-c384-576afc989ead",
        "colab": {
          "base_uri": "https://localhost:8080/",
          "height": 147
        }
      },
      "source": [
        "#Using CSS selectors to scrap the rankings section\n",
        "subtitle_data_html <- html_nodes(webpage,'.feed-post-body-resumo')\n",
        "\n",
        "#Converting the title data to text\n",
        "subtitle_data <- html_text(subtitle_data_html)\n",
        "\n",
        "subtitle_data"
      ],
      "execution_count": 56,
      "outputs": [
        {
          "output_type": "display_data",
          "data": {
            "text/plain": [
              "[1] \"Congelamento de recursos vale para bolsas que ainda seriam concedidas e não afeta quem já recebe os recursos. \"\n",
              "[2] \"Medida define regras para benefícios como aposentadoria rural e salário-maternidade. \"                         \n",
              "[3] \"Ministro afirmou que, em alguns estados, gasto com pessoal chega a 70% do total.\"                              \n",
              "[4] \"Réu por crimes sexuais, médium está internado e pedia para ficar preso em casa.\"                               \n",
              "[5] \"'Baby Trump' em Londres, revisão de benefícios e mais destaques.\"                                              \n",
              "[6] \"Todos os pacientes fazem parte de grupo que esteve em retiro religioso.\"                                       "
            ],
            "text/latex": "\\begin{enumerate*}\n\\item 'Congelamento de recursos vale para bolsas que ainda seriam concedidas e não afeta quem já recebe os recursos. '\n\\item 'Medida define regras para benefícios como aposentadoria rural e salário-maternidade. '\n\\item 'Ministro afirmou que, em alguns estados, gasto com pessoal chega a 70\\% do total.'\n\\item 'Réu por crimes sexuais, médium está internado e pedia para ficar preso em casa.'\n\\item '\\textbackslash{}'Baby Trump\\textbackslash{}' em Londres, revisão de benefícios e mais destaques.'\n\\item 'Todos os pacientes fazem parte de grupo que esteve em retiro religioso.'\n\\end{enumerate*}\n",
            "text/markdown": "1. 'Congelamento de recursos vale para bolsas que ainda seriam concedidas e não afeta quem já recebe os recursos. '\n2. 'Medida define regras para benefícios como aposentadoria rural e salário-maternidade. '\n3. 'Ministro afirmou que, em alguns estados, gasto com pessoal chega a 70% do total.'\n4. 'Réu por crimes sexuais, médium está internado e pedia para ficar preso em casa.'\n5. '\\'Baby Trump\\' em Londres, revisão de benefícios e mais destaques.'\n6. 'Todos os pacientes fazem parte de grupo que esteve em retiro religioso.'\n\n\n",
            "text/html": [
              "<ol class=list-inline>\n",
              "\t<li>'Congelamento de recursos vale para bolsas que ainda seriam concedidas e não afeta quem já recebe os recursos. '</li>\n",
              "\t<li>'Medida define regras para benefícios como aposentadoria rural e salário-maternidade. '</li>\n",
              "\t<li>'Ministro afirmou que, em alguns estados, gasto com pessoal chega a 70% do total.'</li>\n",
              "\t<li>'Réu por crimes sexuais, médium está internado e pedia para ficar preso em casa.'</li>\n",
              "\t<li>'\\'Baby Trump\\' em Londres, revisão de benefícios e mais destaques.'</li>\n",
              "\t<li>'Todos os pacientes fazem parte de grupo que esteve em retiro religioso.'</li>\n",
              "</ol>\n"
            ]
          },
          "metadata": {
            "tags": []
          }
        }
      ]
    },
    {
      "cell_type": "markdown",
      "metadata": {
        "id": "icyiQmzT04RM",
        "colab_type": "text"
      },
      "source": [
        "Oh oh! Algumas notícias não possuem subtitulo. Vamos verificar e adicionar vazio nelas."
      ]
    },
    {
      "cell_type": "code",
      "metadata": {
        "id": "JY5sNTtm1AQt",
        "colab_type": "code",
        "outputId": "0af727a2-bfe0-4fc3-a490-06952420094f",
        "colab": {
          "base_uri": "https://localhost:8080/",
          "height": 219
        }
      },
      "source": [
        "for (i in c(7,9)){\n",
        "  a<-subtitle_data[1:(i-1)]\n",
        "  b<-subtitle_data[i:length(subtitle_data)]\n",
        "  subtitle_data<-append(a,list(\"NA\"))\n",
        "  subtitle_data<-append(subtitle_data,b)\n",
        "}\n",
        "\n",
        "subtitle_data <- as.character(subtitle_data)\n",
        "subtitle_data"
      ],
      "execution_count": 0,
      "outputs": [
        {
          "output_type": "display_data",
          "data": {
            "text/plain": [
              " [1] \"Presidente foi à Câmara entregar proposta. Outras mudanças são: tempo maior de validade da CNH e fim da exigência de exame toxicológico para motoristas profissionais.\"\n",
              " [2] \"Medida vai estabelecer novas regras para benefícios como aposentadoria rural e salários-maternidade. \"                                                                 \n",
              " [3] \"Maior parte das doações vem dos 2 países. Ministério quer usar fundo para indenizar proprietários rurais.\"                                                             \n",
              " [4] \"Um deles será para famílias de baixíssima renda, com 100% de financiamento.\"                                                                                           \n",
              " [5] \"Ministério da Cidadania diz que página está sendo 'migrada e atualizada'.\"                                                                                             \n",
              " [6] \"Defesa do jogador relatou pedido de um 'cala boca' durante reunião em SP.\"                                                                                             \n",
              " [7] \"NA\"                                                                                                                                                                    \n",
              " [8] \"Réu por crimes sexuais, médium está internado e pedia para ficar preso em casa.\"                                                                                       \n",
              " [9] \"NA\"                                                                                                                                                                    \n",
              "[10] \"Todos os pacientes fazem parte de grupo que esteve em retiro religioso.\"                                                                                               "
            ],
            "text/latex": "\\begin{enumerate*}\n\\item 'Presidente foi à Câmara entregar proposta. Outras mudanças são: tempo maior de validade da CNH e fim da exigência de exame toxicológico para motoristas profissionais.'\n\\item 'Medida vai estabelecer novas regras para benefícios como aposentadoria rural e salários-maternidade. '\n\\item 'Maior parte das doações vem dos 2 países. Ministério quer usar fundo para indenizar proprietários rurais.'\n\\item 'Um deles será para famílias de baixíssima renda, com 100\\% de financiamento.'\n\\item 'Ministério da Cidadania diz que página está sendo \\textbackslash{}'migrada e atualizada\\textbackslash{}'.'\n\\item 'Defesa do jogador relatou pedido de um \\textbackslash{}'cala boca\\textbackslash{}' durante reunião em SP.'\n\\item 'NA'\n\\item 'Réu por crimes sexuais, médium está internado e pedia para ficar preso em casa.'\n\\item 'NA'\n\\item 'Todos os pacientes fazem parte de grupo que esteve em retiro religioso.'\n\\end{enumerate*}\n",
            "text/markdown": "1. 'Presidente foi à Câmara entregar proposta. Outras mudanças são: tempo maior de validade da CNH e fim da exigência de exame toxicológico para motoristas profissionais.'\n2. 'Medida vai estabelecer novas regras para benefícios como aposentadoria rural e salários-maternidade. '\n3. 'Maior parte das doações vem dos 2 países. Ministério quer usar fundo para indenizar proprietários rurais.'\n4. 'Um deles será para famílias de baixíssima renda, com 100% de financiamento.'\n5. 'Ministério da Cidadania diz que página está sendo \\'migrada e atualizada\\'.'\n6. 'Defesa do jogador relatou pedido de um \\'cala boca\\' durante reunião em SP.'\n7. 'NA'\n8. 'Réu por crimes sexuais, médium está internado e pedia para ficar preso em casa.'\n9. 'NA'\n10. 'Todos os pacientes fazem parte de grupo que esteve em retiro religioso.'\n\n\n",
            "text/html": [
              "<ol class=list-inline>\n",
              "\t<li>'Presidente foi à Câmara entregar proposta. Outras mudanças são: tempo maior de validade da CNH e fim da exigência de exame toxicológico para motoristas profissionais.'</li>\n",
              "\t<li>'Medida vai estabelecer novas regras para benefícios como aposentadoria rural e salários-maternidade. '</li>\n",
              "\t<li>'Maior parte das doações vem dos 2 países. Ministério quer usar fundo para indenizar proprietários rurais.'</li>\n",
              "\t<li>'Um deles será para famílias de baixíssima renda, com 100% de financiamento.'</li>\n",
              "\t<li>'Ministério da Cidadania diz que página está sendo \\'migrada e atualizada\\'.'</li>\n",
              "\t<li>'Defesa do jogador relatou pedido de um \\'cala boca\\' durante reunião em SP.'</li>\n",
              "\t<li>'NA'</li>\n",
              "\t<li>'Réu por crimes sexuais, médium está internado e pedia para ficar preso em casa.'</li>\n",
              "\t<li>'NA'</li>\n",
              "\t<li>'Todos os pacientes fazem parte de grupo que esteve em retiro religioso.'</li>\n",
              "</ol>\n"
            ]
          },
          "metadata": {
            "tags": []
          }
        }
      ]
    },
    {
      "cell_type": "markdown",
      "metadata": {
        "id": "1Nwo9g24zM6U",
        "colab_type": "text"
      },
      "source": [
        "Links"
      ]
    },
    {
      "cell_type": "code",
      "metadata": {
        "id": "rCZoFKcHzOZa",
        "colab_type": "code",
        "outputId": "b4641aac-f891-4a00-cedc-181638e371f1",
        "colab": {
          "base_uri": "https://localhost:8080/",
          "height": 215
        }
      },
      "source": [
        "link_data <- html_attr(title_data_html, 'href')\n",
        "link_data"
      ],
      "execution_count": 57,
      "outputs": [
        {
          "output_type": "display_data",
          "data": {
            "text/plain": [
              " [1] \"https://g1.globo.com/educacao/noticia/2019/06/04/capes-anuncia-corte-de-27-mil-bolsas-de-mestrado-doutorado-e-pos-doutorado.ghtml\"                                                \n",
              " [2] \"https://g1.globo.com/carros/noticia/2019/06/04/projeto-de-bolsonaro-preve-eliminar-multa-para-motorista-que-levar-crianca-sem-cadeirinha.ghtml\"                                   \n",
              " [3] \"https://g1.globo.com/economia/noticia/2019/06/04/entenda-como-sera-o-pente-fino-no-inss-aprovado-pelo-congresso.ghtml\"                                                            \n",
              " [4] \"https://g1.globo.com/politica/noticia/2019/06/04/gasto-com-pessoal-nos-estados-cresce-e-faltarao-recursos-para-saude-e-educacao-diz-guedes.ghtml\"                                 \n",
              " [5] \"https://g1.globo.com/politica/noticia/2019/06/04/ministerio-publico-diz-a-stj-que-lula-tem-direito-a-progredir-para-regime-semiaberto.ghtml\"                                      \n",
              " [6] \"https://g1.globo.com/sp/sao-paulo/noticia/2019/06/04/ex-advogados-de-mulher-que-acusa-neymar-dizem-ter-certeza-da-agressao-e-que-autoridades-podem-decidir-se-houve-estupro.ghtml\"\n",
              " [7] \"https://g1.globo.com/go/goias/noticia/2019/06/04/maioria-do-stj-vota-a-favor-de-mandar-joao-de-deus-de-volta-para-a-cadeia.ghtml\"                                                 \n",
              " [8] \"https://g1.globo.com/resumo-do-dia/noticia/2019/06/04/terca-feira-4-de-junho.ghtml\"                                                                                               \n",
              " [9] \"https://g1.globo.com/politica/noticia/2019/06/04/camara-aprova-mp-que-da-ajuda-financeira-a-familias-atingidas-pela-tragedia-de-brumadinho.ghtml\"                                 \n",
              "[10] \"https://g1.globo.com/pe/pernambuco/noticia/2019/06/04/sobe-para-27-numero-de-pacientes-em-tratamento-devido-a-surto-agudo-de-doenca-de-chagas.ghtml\"                              "
            ],
            "text/latex": "\\begin{enumerate*}\n\\item 'https://g1.globo.com/educacao/noticia/2019/06/04/capes-anuncia-corte-de-27-mil-bolsas-de-mestrado-doutorado-e-pos-doutorado.ghtml'\n\\item 'https://g1.globo.com/carros/noticia/2019/06/04/projeto-de-bolsonaro-preve-eliminar-multa-para-motorista-que-levar-crianca-sem-cadeirinha.ghtml'\n\\item 'https://g1.globo.com/economia/noticia/2019/06/04/entenda-como-sera-o-pente-fino-no-inss-aprovado-pelo-congresso.ghtml'\n\\item 'https://g1.globo.com/politica/noticia/2019/06/04/gasto-com-pessoal-nos-estados-cresce-e-faltarao-recursos-para-saude-e-educacao-diz-guedes.ghtml'\n\\item 'https://g1.globo.com/politica/noticia/2019/06/04/ministerio-publico-diz-a-stj-que-lula-tem-direito-a-progredir-para-regime-semiaberto.ghtml'\n\\item 'https://g1.globo.com/sp/sao-paulo/noticia/2019/06/04/ex-advogados-de-mulher-que-acusa-neymar-dizem-ter-certeza-da-agressao-e-que-autoridades-podem-decidir-se-houve-estupro.ghtml'\n\\item 'https://g1.globo.com/go/goias/noticia/2019/06/04/maioria-do-stj-vota-a-favor-de-mandar-joao-de-deus-de-volta-para-a-cadeia.ghtml'\n\\item 'https://g1.globo.com/resumo-do-dia/noticia/2019/06/04/terca-feira-4-de-junho.ghtml'\n\\item 'https://g1.globo.com/politica/noticia/2019/06/04/camara-aprova-mp-que-da-ajuda-financeira-a-familias-atingidas-pela-tragedia-de-brumadinho.ghtml'\n\\item 'https://g1.globo.com/pe/pernambuco/noticia/2019/06/04/sobe-para-27-numero-de-pacientes-em-tratamento-devido-a-surto-agudo-de-doenca-de-chagas.ghtml'\n\\end{enumerate*}\n",
            "text/markdown": "1. 'https://g1.globo.com/educacao/noticia/2019/06/04/capes-anuncia-corte-de-27-mil-bolsas-de-mestrado-doutorado-e-pos-doutorado.ghtml'\n2. 'https://g1.globo.com/carros/noticia/2019/06/04/projeto-de-bolsonaro-preve-eliminar-multa-para-motorista-que-levar-crianca-sem-cadeirinha.ghtml'\n3. 'https://g1.globo.com/economia/noticia/2019/06/04/entenda-como-sera-o-pente-fino-no-inss-aprovado-pelo-congresso.ghtml'\n4. 'https://g1.globo.com/politica/noticia/2019/06/04/gasto-com-pessoal-nos-estados-cresce-e-faltarao-recursos-para-saude-e-educacao-diz-guedes.ghtml'\n5. 'https://g1.globo.com/politica/noticia/2019/06/04/ministerio-publico-diz-a-stj-que-lula-tem-direito-a-progredir-para-regime-semiaberto.ghtml'\n6. 'https://g1.globo.com/sp/sao-paulo/noticia/2019/06/04/ex-advogados-de-mulher-que-acusa-neymar-dizem-ter-certeza-da-agressao-e-que-autoridades-podem-decidir-se-houve-estupro.ghtml'\n7. 'https://g1.globo.com/go/goias/noticia/2019/06/04/maioria-do-stj-vota-a-favor-de-mandar-joao-de-deus-de-volta-para-a-cadeia.ghtml'\n8. 'https://g1.globo.com/resumo-do-dia/noticia/2019/06/04/terca-feira-4-de-junho.ghtml'\n9. 'https://g1.globo.com/politica/noticia/2019/06/04/camara-aprova-mp-que-da-ajuda-financeira-a-familias-atingidas-pela-tragedia-de-brumadinho.ghtml'\n10. 'https://g1.globo.com/pe/pernambuco/noticia/2019/06/04/sobe-para-27-numero-de-pacientes-em-tratamento-devido-a-surto-agudo-de-doenca-de-chagas.ghtml'\n\n\n",
            "text/html": [
              "<ol class=list-inline>\n",
              "\t<li>'https://g1.globo.com/educacao/noticia/2019/06/04/capes-anuncia-corte-de-27-mil-bolsas-de-mestrado-doutorado-e-pos-doutorado.ghtml'</li>\n",
              "\t<li>'https://g1.globo.com/carros/noticia/2019/06/04/projeto-de-bolsonaro-preve-eliminar-multa-para-motorista-que-levar-crianca-sem-cadeirinha.ghtml'</li>\n",
              "\t<li>'https://g1.globo.com/economia/noticia/2019/06/04/entenda-como-sera-o-pente-fino-no-inss-aprovado-pelo-congresso.ghtml'</li>\n",
              "\t<li>'https://g1.globo.com/politica/noticia/2019/06/04/gasto-com-pessoal-nos-estados-cresce-e-faltarao-recursos-para-saude-e-educacao-diz-guedes.ghtml'</li>\n",
              "\t<li>'https://g1.globo.com/politica/noticia/2019/06/04/ministerio-publico-diz-a-stj-que-lula-tem-direito-a-progredir-para-regime-semiaberto.ghtml'</li>\n",
              "\t<li>'https://g1.globo.com/sp/sao-paulo/noticia/2019/06/04/ex-advogados-de-mulher-que-acusa-neymar-dizem-ter-certeza-da-agressao-e-que-autoridades-podem-decidir-se-houve-estupro.ghtml'</li>\n",
              "\t<li>'https://g1.globo.com/go/goias/noticia/2019/06/04/maioria-do-stj-vota-a-favor-de-mandar-joao-de-deus-de-volta-para-a-cadeia.ghtml'</li>\n",
              "\t<li>'https://g1.globo.com/resumo-do-dia/noticia/2019/06/04/terca-feira-4-de-junho.ghtml'</li>\n",
              "\t<li>'https://g1.globo.com/politica/noticia/2019/06/04/camara-aprova-mp-que-da-ajuda-financeira-a-familias-atingidas-pela-tragedia-de-brumadinho.ghtml'</li>\n",
              "\t<li>'https://g1.globo.com/pe/pernambuco/noticia/2019/06/04/sobe-para-27-numero-de-pacientes-em-tratamento-devido-a-surto-agudo-de-doenca-de-chagas.ghtml'</li>\n",
              "</ol>\n"
            ]
          },
          "metadata": {
            "tags": []
          }
        }
      ]
    },
    {
      "cell_type": "markdown",
      "metadata": {
        "colab_type": "text",
        "id": "BHBVVBv7wjfB"
      },
      "source": [
        "## Estruturando os dados\n",
        "\n",
        "#### 4) Coloque seus dados em um dataframe e salve em CSV para recuperarmos mais tarde"
      ]
    },
    {
      "cell_type": "code",
      "metadata": {
        "id": "9SBhnmGdu2oL",
        "colab_type": "code",
        "outputId": "f577168b-aef4-4ab0-97d1-2c4b804d3fff",
        "colab": {
          "base_uri": "https://localhost:8080/",
          "height": 373
        }
      },
      "source": [
        "#Combining all the lists to form a data frame\n",
        "g1_df <- data.frame(Titulo=title_data,\n",
        "#                    Legenda=subtitle_data,\n",
        "                   Link=link_data)\n",
        "\n",
        "g1_df\n",
        "write.csv(file='g1.csv', x=g1_df)"
      ],
      "execution_count": 58,
      "outputs": [
        {
          "output_type": "display_data",
          "data": {
            "text/plain": [
              "   Titulo                                                            \n",
              "1  Governo bloqueia mais 2,7 mil bolsas de pesquisa                  \n",
              "2  Bolsonaro propõe eliminar multa a quem leva criança sem cadeirinha\n",
              "3  Entenda como será o pente-fino no INSS aprovado pelo Congresso    \n",
              "4  Guedes: 'Em pouco tempo faltará dinheiro para saúde e educação'   \n",
              "5  Ministério Público diz ao STJ que Lula pode ir para o semiaberto  \n",
              "6  Ex-advogado de mulher que acusa Neymar diz ter certeza de agressão\n",
              "7  STJ determina que João de Deus volte para a cadeia                \n",
              "8  O que mais você precisa saber hoje                                \n",
              "9  Câmara aprova ajuda financeira a famílias em Brumadinho           \n",
              "10 Pernambuco registra surto de doença de Chagas com 27 casos        \n",
              "   Link                                                                                                                                                                             \n",
              "1  https://g1.globo.com/educacao/noticia/2019/06/04/capes-anuncia-corte-de-27-mil-bolsas-de-mestrado-doutorado-e-pos-doutorado.ghtml                                                \n",
              "2  https://g1.globo.com/carros/noticia/2019/06/04/projeto-de-bolsonaro-preve-eliminar-multa-para-motorista-que-levar-crianca-sem-cadeirinha.ghtml                                   \n",
              "3  https://g1.globo.com/economia/noticia/2019/06/04/entenda-como-sera-o-pente-fino-no-inss-aprovado-pelo-congresso.ghtml                                                            \n",
              "4  https://g1.globo.com/politica/noticia/2019/06/04/gasto-com-pessoal-nos-estados-cresce-e-faltarao-recursos-para-saude-e-educacao-diz-guedes.ghtml                                 \n",
              "5  https://g1.globo.com/politica/noticia/2019/06/04/ministerio-publico-diz-a-stj-que-lula-tem-direito-a-progredir-para-regime-semiaberto.ghtml                                      \n",
              "6  https://g1.globo.com/sp/sao-paulo/noticia/2019/06/04/ex-advogados-de-mulher-que-acusa-neymar-dizem-ter-certeza-da-agressao-e-que-autoridades-podem-decidir-se-houve-estupro.ghtml\n",
              "7  https://g1.globo.com/go/goias/noticia/2019/06/04/maioria-do-stj-vota-a-favor-de-mandar-joao-de-deus-de-volta-para-a-cadeia.ghtml                                                 \n",
              "8  https://g1.globo.com/resumo-do-dia/noticia/2019/06/04/terca-feira-4-de-junho.ghtml                                                                                               \n",
              "9  https://g1.globo.com/politica/noticia/2019/06/04/camara-aprova-mp-que-da-ajuda-financeira-a-familias-atingidas-pela-tragedia-de-brumadinho.ghtml                                 \n",
              "10 https://g1.globo.com/pe/pernambuco/noticia/2019/06/04/sobe-para-27-numero-de-pacientes-em-tratamento-devido-a-surto-agudo-de-doenca-de-chagas.ghtml                              "
            ],
            "text/latex": "A data.frame: 10 × 2\n\\begin{tabular}{r|ll}\n Titulo & Link\\\\\n <fct> & <fct>\\\\\n\\hline\n\t Governo bloqueia mais 2,7 mil bolsas de pesquisa                   & https://g1.globo.com/educacao/noticia/2019/06/04/capes-anuncia-corte-de-27-mil-bolsas-de-mestrado-doutorado-e-pos-doutorado.ghtml                                                \\\\\n\t Bolsonaro propõe eliminar multa a quem leva criança sem cadeirinha & https://g1.globo.com/carros/noticia/2019/06/04/projeto-de-bolsonaro-preve-eliminar-multa-para-motorista-que-levar-crianca-sem-cadeirinha.ghtml                                   \\\\\n\t Entenda como será o pente-fino no INSS aprovado pelo Congresso     & https://g1.globo.com/economia/noticia/2019/06/04/entenda-como-sera-o-pente-fino-no-inss-aprovado-pelo-congresso.ghtml                                                            \\\\\n\t Guedes: 'Em pouco tempo faltará dinheiro para saúde e educação'    & https://g1.globo.com/politica/noticia/2019/06/04/gasto-com-pessoal-nos-estados-cresce-e-faltarao-recursos-para-saude-e-educacao-diz-guedes.ghtml                                 \\\\\n\t Ministério Público diz ao STJ que Lula pode ir para o semiaberto   & https://g1.globo.com/politica/noticia/2019/06/04/ministerio-publico-diz-a-stj-que-lula-tem-direito-a-progredir-para-regime-semiaberto.ghtml                                      \\\\\n\t Ex-advogado de mulher que acusa Neymar diz ter certeza de agressão & https://g1.globo.com/sp/sao-paulo/noticia/2019/06/04/ex-advogados-de-mulher-que-acusa-neymar-dizem-ter-certeza-da-agressao-e-que-autoridades-podem-decidir-se-houve-estupro.ghtml\\\\\n\t STJ determina que João de Deus volte para a cadeia                 & https://g1.globo.com/go/goias/noticia/2019/06/04/maioria-do-stj-vota-a-favor-de-mandar-joao-de-deus-de-volta-para-a-cadeia.ghtml                                                 \\\\\n\t O que mais você precisa saber hoje                                 & https://g1.globo.com/resumo-do-dia/noticia/2019/06/04/terca-feira-4-de-junho.ghtml                                                                                               \\\\\n\t Câmara aprova ajuda financeira a famílias em Brumadinho            & https://g1.globo.com/politica/noticia/2019/06/04/camara-aprova-mp-que-da-ajuda-financeira-a-familias-atingidas-pela-tragedia-de-brumadinho.ghtml                                 \\\\\n\t Pernambuco registra surto de doença de Chagas com 27 casos         & https://g1.globo.com/pe/pernambuco/noticia/2019/06/04/sobe-para-27-numero-de-pacientes-em-tratamento-devido-a-surto-agudo-de-doenca-de-chagas.ghtml                              \\\\\n\\end{tabular}\n",
            "text/markdown": "\nA data.frame: 10 × 2\n\n| Titulo &lt;fct&gt; | Link &lt;fct&gt; |\n|---|---|\n| Governo bloqueia mais 2,7 mil bolsas de pesquisa                   | https://g1.globo.com/educacao/noticia/2019/06/04/capes-anuncia-corte-de-27-mil-bolsas-de-mestrado-doutorado-e-pos-doutorado.ghtml                                                 |\n| Bolsonaro propõe eliminar multa a quem leva criança sem cadeirinha | https://g1.globo.com/carros/noticia/2019/06/04/projeto-de-bolsonaro-preve-eliminar-multa-para-motorista-que-levar-crianca-sem-cadeirinha.ghtml                                    |\n| Entenda como será o pente-fino no INSS aprovado pelo Congresso     | https://g1.globo.com/economia/noticia/2019/06/04/entenda-como-sera-o-pente-fino-no-inss-aprovado-pelo-congresso.ghtml                                                             |\n| Guedes: 'Em pouco tempo faltará dinheiro para saúde e educação'    | https://g1.globo.com/politica/noticia/2019/06/04/gasto-com-pessoal-nos-estados-cresce-e-faltarao-recursos-para-saude-e-educacao-diz-guedes.ghtml                                  |\n| Ministério Público diz ao STJ que Lula pode ir para o semiaberto   | https://g1.globo.com/politica/noticia/2019/06/04/ministerio-publico-diz-a-stj-que-lula-tem-direito-a-progredir-para-regime-semiaberto.ghtml                                       |\n| Ex-advogado de mulher que acusa Neymar diz ter certeza de agressão | https://g1.globo.com/sp/sao-paulo/noticia/2019/06/04/ex-advogados-de-mulher-que-acusa-neymar-dizem-ter-certeza-da-agressao-e-que-autoridades-podem-decidir-se-houve-estupro.ghtml |\n| STJ determina que João de Deus volte para a cadeia                 | https://g1.globo.com/go/goias/noticia/2019/06/04/maioria-do-stj-vota-a-favor-de-mandar-joao-de-deus-de-volta-para-a-cadeia.ghtml                                                  |\n| O que mais você precisa saber hoje                                 | https://g1.globo.com/resumo-do-dia/noticia/2019/06/04/terca-feira-4-de-junho.ghtml                                                                                                |\n| Câmara aprova ajuda financeira a famílias em Brumadinho            | https://g1.globo.com/politica/noticia/2019/06/04/camara-aprova-mp-que-da-ajuda-financeira-a-familias-atingidas-pela-tragedia-de-brumadinho.ghtml                                  |\n| Pernambuco registra surto de doença de Chagas com 27 casos         | https://g1.globo.com/pe/pernambuco/noticia/2019/06/04/sobe-para-27-numero-de-pacientes-em-tratamento-devido-a-surto-agudo-de-doenca-de-chagas.ghtml                               |\n\n",
            "text/html": [
              "<table>\n",
              "<caption>A data.frame: 10 × 2</caption>\n",
              "<thead>\n",
              "\t<tr><th scope=col>Titulo</th><th scope=col>Link</th></tr>\n",
              "\t<tr><th scope=col>&lt;fct&gt;</th><th scope=col>&lt;fct&gt;</th></tr>\n",
              "</thead>\n",
              "<tbody>\n",
              "\t<tr><td>Governo bloqueia mais 2,7 mil bolsas de pesquisa                  </td><td>https://g1.globo.com/educacao/noticia/2019/06/04/capes-anuncia-corte-de-27-mil-bolsas-de-mestrado-doutorado-e-pos-doutorado.ghtml                                                </td></tr>\n",
              "\t<tr><td>Bolsonaro propõe eliminar multa a quem leva criança sem cadeirinha</td><td>https://g1.globo.com/carros/noticia/2019/06/04/projeto-de-bolsonaro-preve-eliminar-multa-para-motorista-que-levar-crianca-sem-cadeirinha.ghtml                                   </td></tr>\n",
              "\t<tr><td>Entenda como será o pente-fino no INSS aprovado pelo Congresso    </td><td>https://g1.globo.com/economia/noticia/2019/06/04/entenda-como-sera-o-pente-fino-no-inss-aprovado-pelo-congresso.ghtml                                                            </td></tr>\n",
              "\t<tr><td>Guedes: 'Em pouco tempo faltará dinheiro para saúde e educação'   </td><td>https://g1.globo.com/politica/noticia/2019/06/04/gasto-com-pessoal-nos-estados-cresce-e-faltarao-recursos-para-saude-e-educacao-diz-guedes.ghtml                                 </td></tr>\n",
              "\t<tr><td>Ministério Público diz ao STJ que Lula pode ir para o semiaberto  </td><td>https://g1.globo.com/politica/noticia/2019/06/04/ministerio-publico-diz-a-stj-que-lula-tem-direito-a-progredir-para-regime-semiaberto.ghtml                                      </td></tr>\n",
              "\t<tr><td>Ex-advogado de mulher que acusa Neymar diz ter certeza de agressão</td><td>https://g1.globo.com/sp/sao-paulo/noticia/2019/06/04/ex-advogados-de-mulher-que-acusa-neymar-dizem-ter-certeza-da-agressao-e-que-autoridades-podem-decidir-se-houve-estupro.ghtml</td></tr>\n",
              "\t<tr><td>STJ determina que João de Deus volte para a cadeia                </td><td>https://g1.globo.com/go/goias/noticia/2019/06/04/maioria-do-stj-vota-a-favor-de-mandar-joao-de-deus-de-volta-para-a-cadeia.ghtml                                                 </td></tr>\n",
              "\t<tr><td>O que mais você precisa saber hoje                                </td><td>https://g1.globo.com/resumo-do-dia/noticia/2019/06/04/terca-feira-4-de-junho.ghtml                                                                                               </td></tr>\n",
              "\t<tr><td>Câmara aprova ajuda financeira a famílias em Brumadinho           </td><td>https://g1.globo.com/politica/noticia/2019/06/04/camara-aprova-mp-que-da-ajuda-financeira-a-familias-atingidas-pela-tragedia-de-brumadinho.ghtml                                 </td></tr>\n",
              "\t<tr><td>Pernambuco registra surto de doença de Chagas com 27 casos        </td><td>https://g1.globo.com/pe/pernambuco/noticia/2019/06/04/sobe-para-27-numero-de-pacientes-em-tratamento-devido-a-surto-agudo-de-doenca-de-chagas.ghtml                              </td></tr>\n",
              "</tbody>\n",
              "</table>\n"
            ]
          },
          "metadata": {
            "tags": []
          }
        }
      ]
    }
  ]
}