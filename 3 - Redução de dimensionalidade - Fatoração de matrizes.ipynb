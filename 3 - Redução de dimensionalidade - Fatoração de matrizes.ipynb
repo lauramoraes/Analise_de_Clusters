{
  "nbformat": 4,
  "nbformat_minor": 0,
  "metadata": {
    "colab": {
      "name": "3 - Redução de dimensionalidade - Fatoração de matrizes.ipynb",
      "version": "0.3.2",
      "provenance": [],
      "collapsed_sections": [],
      "include_colab_link": true
    },
    "language_info": {
      "codemirror_mode": "r",
      "file_extension": ".r",
      "mimetype": "text/x-r-source",
      "name": "R",
      "pygments_lexer": "r",
      "version": "3.3.1"
    },
    "kernelspec": {
      "display_name": "R",
      "language": "R",
      "name": "ir"
    }
  },
  "cells": [
    {
      "cell_type": "markdown",
      "metadata": {
        "id": "view-in-github",
        "colab_type": "text"
      },
      "source": [
        "<a href=\"https://colab.research.google.com/github/lauramoraes/Analise_de_Clusters/blob/master/3%20-%20Redu%C3%A7%C3%A3o%20de%20dimensionalidade%20-%20Fatora%C3%A7%C3%A3o%20de%20matrizes.ipynb\" target=\"_parent\"><img src=\"https://colab.research.google.com/assets/colab-badge.svg\" alt=\"Open In Colab\"/></a>"
      ]
    },
    {
      "cell_type": "markdown",
      "metadata": {
        "id": "wn9t4aUDQH2z",
        "colab_type": "text"
      },
      "source": [
        "# Redução de dimensionalidade - Fatoração de matrizes "
      ]
    },
    {
      "cell_type": "markdown",
      "metadata": {
        "id": "UixQ-Y9VKjwy",
        "colab_type": "text"
      },
      "source": [
        "### Importando bibliotecas a serem usadas"
      ]
    },
    {
      "cell_type": "code",
      "metadata": {
        "id": "t5zWuPjFfo1I",
        "colab_type": "code",
        "outputId": "13659d21-02da-4444-ede5-d6bc83f74411",
        "colab": {
          "base_uri": "https://localhost:8080/",
          "height": 91
        }
      },
      "source": [
        "install.packages(\"NMF\")"
      ],
      "execution_count": 1,
      "outputs": [
        {
          "output_type": "stream",
          "text": [
            "Installing package into ‘/usr/local/lib/R/site-library’\n",
            "(as ‘lib’ is unspecified)\n",
            "also installing the dependencies ‘xtable’, ‘bibtex’, ‘pkgmaker’, ‘registry’, ‘rngtools’, ‘gridBase’, ‘doParallel’\n",
            "\n"
          ],
          "name": "stderr"
        }
      ]
    },
    {
      "cell_type": "code",
      "metadata": {
        "id": "Unsb8k4MKWgb",
        "colab_type": "code",
        "colab": {}
      },
      "source": [
        "suppressMessages(suppressWarnings(library(tidyverse)))\n",
        "suppressMessages(suppressWarnings(library(NMF)))"
      ],
      "execution_count": 0,
      "outputs": []
    },
    {
      "cell_type": "markdown",
      "metadata": {
        "id": "cIdW_b-zLU2W",
        "colab_type": "text"
      },
      "source": [
        "### Vamos inventar uns usuários, filmes e gostos\n",
        "\n",
        "\n"
      ]
    },
    {
      "cell_type": "code",
      "metadata": {
        "id": "IFpAx9EQaqVg",
        "colab_type": "code",
        "colab": {}
      },
      "source": [
        "# Usuarios\n",
        "usuarios <- c(\"Joao\", \"Maria\", \"Camila\", \"Andre\")\n",
        "# Filmes\n",
        "filmes <- c(\"Quem vai ficar com Mary?\", \n",
        "            \"Friends\",\n",
        "            \"Pequena Miss Sunshine\", \n",
        "            \"A Vida é Bela\", \n",
        "            \"Game of Thrones\")\n",
        "# Generos\n",
        "generos <- c(\"comedia\",\"drama\")"
      ],
      "execution_count": 0,
      "outputs": []
    },
    {
      "cell_type": "markdown",
      "metadata": {
        "id": "FPEALNQYtSsw",
        "colab_type": "text"
      },
      "source": [
        "Associando os filmes e os usuários aos gêneros"
      ]
    },
    {
      "cell_type": "code",
      "metadata": {
        "id": "-Nmg_TtHs9hO",
        "colab_type": "code",
        "outputId": "7e480db0-8b40-441a-d2b0-dde532fbe641",
        "colab": {
          "base_uri": "https://localhost:8080/",
          "height": 244
        }
      },
      "source": [
        "options(repr.plot.width=9, repr.plot.height=3)\n",
        "# Definindo os gostos de cada usuário por genero\n",
        "usuario_genero <- rbind(c(10,0), c(1,0), c(0,3), c(0,1))\n",
        "rownames(usuario_genero) <- usuarios\n",
        "colnames(usuario_genero) <- generos\n",
        "usuario_genero\n",
        "\n",
        "# Definindo os generos de cada filme\n",
        "genero_filme <- rbind(c(1,2,3,0.1,0.1), c(0.1,0.1,0.1,1,2))\n",
        "rownames(genero_filme) <- generos\n",
        "colnames(genero_filme) <- filmes\n",
        "genero_filme"
      ],
      "execution_count": 5,
      "outputs": [
        {
          "output_type": "display_data",
          "data": {
            "text/plain": [
              "       comedia drama\n",
              "Joao   10      0    \n",
              "Maria   1      0    \n",
              "Camila  0      3    \n",
              "Andre   0      1    "
            ],
            "text/latex": "A matrix: 4 × 2 of type dbl\n\\begin{tabular}{r|ll}\n  & comedia & drama\\\\\n\\hline\n\tJoao & 10 & 0\\\\\n\tMaria &  1 & 0\\\\\n\tCamila &  0 & 3\\\\\n\tAndre &  0 & 1\\\\\n\\end{tabular}\n",
            "text/markdown": "\nA matrix: 4 × 2 of type dbl\n\n| <!--/--> | comedia | drama |\n|---|---|---|\n| Joao | 10 | 0 |\n| Maria |  1 | 0 |\n| Camila |  0 | 3 |\n| Andre |  0 | 1 |\n\n",
            "text/html": [
              "<table>\n",
              "<caption>A matrix: 4 × 2 of type dbl</caption>\n",
              "<thead>\n",
              "\t<tr><th></th><th scope=col>comedia</th><th scope=col>drama</th></tr>\n",
              "</thead>\n",
              "<tbody>\n",
              "\t<tr><th scope=row>Joao</th><td>10</td><td>0</td></tr>\n",
              "\t<tr><th scope=row>Maria</th><td> 1</td><td>0</td></tr>\n",
              "\t<tr><th scope=row>Camila</th><td> 0</td><td>3</td></tr>\n",
              "\t<tr><th scope=row>Andre</th><td> 0</td><td>1</td></tr>\n",
              "</tbody>\n",
              "</table>\n"
            ]
          },
          "metadata": {
            "tags": []
          }
        },
        {
          "output_type": "display_data",
          "data": {
            "text/plain": [
              "        Quem vai ficar com Mary? Friends Pequena Miss Sunshine A Vida é Bela\n",
              "comedia 1.0                      2.0     3.0                   0.1          \n",
              "drama   0.1                      0.1     0.1                   1.0          \n",
              "        Game of Thrones\n",
              "comedia 0.1            \n",
              "drama   2.0            "
            ],
            "text/latex": "A matrix: 2 × 5 of type dbl\n\\begin{tabular}{r|lllll}\n  & Quem vai ficar com Mary? & Friends & Pequena Miss Sunshine & A Vida é Bela & Game of Thrones\\\\\n\\hline\n\tcomedia & 1.0 & 2.0 & 3.0 & 0.1 & 0.1\\\\\n\tdrama & 0.1 & 0.1 & 0.1 & 1.0 & 2.0\\\\\n\\end{tabular}\n",
            "text/markdown": "\nA matrix: 2 × 5 of type dbl\n\n| <!--/--> | Quem vai ficar com Mary? | Friends | Pequena Miss Sunshine | A Vida é Bela | Game of Thrones |\n|---|---|---|---|---|---|\n| comedia | 1.0 | 2.0 | 3.0 | 0.1 | 0.1 |\n| drama | 0.1 | 0.1 | 0.1 | 1.0 | 2.0 |\n\n",
            "text/html": [
              "<table>\n",
              "<caption>A matrix: 2 × 5 of type dbl</caption>\n",
              "<thead>\n",
              "\t<tr><th></th><th scope=col>Quem vai ficar com Mary?</th><th scope=col>Friends</th><th scope=col>Pequena Miss Sunshine</th><th scope=col>A Vida é Bela</th><th scope=col>Game of Thrones</th></tr>\n",
              "</thead>\n",
              "<tbody>\n",
              "\t<tr><th scope=row>comedia</th><td>1.0</td><td>2.0</td><td>3.0</td><td>0.1</td><td>0.1</td></tr>\n",
              "\t<tr><th scope=row>drama</th><td>0.1</td><td>0.1</td><td>0.1</td><td>1.0</td><td>2.0</td></tr>\n",
              "</tbody>\n",
              "</table>\n"
            ]
          },
          "metadata": {
            "tags": []
          }
        }
      ]
    },
    {
      "cell_type": "markdown",
      "metadata": {
        "id": "Rcbc-kuutg1_",
        "colab_type": "text"
      },
      "source": [
        "Agora vamos criar uma matriz que quantifica o gosto de cada usuário pelo filme baseado nas informações que temos"
      ]
    },
    {
      "cell_type": "code",
      "metadata": {
        "id": "mbrx__8UtR0n",
        "colab_type": "code",
        "outputId": "4034fed8-9e61-4647-e64a-49cb9f3b23a0",
        "colab": {
          "base_uri": "https://localhost:8080/",
          "height": 143
        }
      },
      "source": [
        "usuario_filme <- usuario_genero %*% genero_filme\n",
        "usuario_filme"
      ],
      "execution_count": 6,
      "outputs": [
        {
          "output_type": "display_data",
          "data": {
            "text/plain": [
              "       Quem vai ficar com Mary? Friends Pequena Miss Sunshine A Vida é Bela\n",
              "Joao   10.0                     20.0    30.0                  1.0          \n",
              "Maria   1.0                      2.0     3.0                  0.1          \n",
              "Camila  0.3                      0.3     0.3                  3.0          \n",
              "Andre   0.1                      0.1     0.1                  1.0          \n",
              "       Game of Thrones\n",
              "Joao   1.0            \n",
              "Maria  0.1            \n",
              "Camila 6.0            \n",
              "Andre  2.0            "
            ],
            "text/latex": "A matrix: 4 × 5 of type dbl\n\\begin{tabular}{r|lllll}\n  & Quem vai ficar com Mary? & Friends & Pequena Miss Sunshine & A Vida é Bela & Game of Thrones\\\\\n\\hline\n\tJoao & 10.0 & 20.0 & 30.0 & 1.0 & 1.0\\\\\n\tMaria &  1.0 &  2.0 &  3.0 & 0.1 & 0.1\\\\\n\tCamila &  0.3 &  0.3 &  0.3 & 3.0 & 6.0\\\\\n\tAndre &  0.1 &  0.1 &  0.1 & 1.0 & 2.0\\\\\n\\end{tabular}\n",
            "text/markdown": "\nA matrix: 4 × 5 of type dbl\n\n| <!--/--> | Quem vai ficar com Mary? | Friends | Pequena Miss Sunshine | A Vida é Bela | Game of Thrones |\n|---|---|---|---|---|---|\n| Joao | 10.0 | 20.0 | 30.0 | 1.0 | 1.0 |\n| Maria |  1.0 |  2.0 |  3.0 | 0.1 | 0.1 |\n| Camila |  0.3 |  0.3 |  0.3 | 3.0 | 6.0 |\n| Andre |  0.1 |  0.1 |  0.1 | 1.0 | 2.0 |\n\n",
            "text/html": [
              "<table>\n",
              "<caption>A matrix: 4 × 5 of type dbl</caption>\n",
              "<thead>\n",
              "\t<tr><th></th><th scope=col>Quem vai ficar com Mary?</th><th scope=col>Friends</th><th scope=col>Pequena Miss Sunshine</th><th scope=col>A Vida é Bela</th><th scope=col>Game of Thrones</th></tr>\n",
              "</thead>\n",
              "<tbody>\n",
              "\t<tr><th scope=row>Joao</th><td>10.0</td><td>20.0</td><td>30.0</td><td>1.0</td><td>1.0</td></tr>\n",
              "\t<tr><th scope=row>Maria</th><td> 1.0</td><td> 2.0</td><td> 3.0</td><td>0.1</td><td>0.1</td></tr>\n",
              "\t<tr><th scope=row>Camila</th><td> 0.3</td><td> 0.3</td><td> 0.3</td><td>3.0</td><td>6.0</td></tr>\n",
              "\t<tr><th scope=row>Andre</th><td> 0.1</td><td> 0.1</td><td> 0.1</td><td>1.0</td><td>2.0</td></tr>\n",
              "</tbody>\n",
              "</table>\n"
            ]
          },
          "metadata": {
            "tags": []
          }
        }
      ]
    },
    {
      "cell_type": "markdown",
      "metadata": {
        "id": "gWzbLuojtolG",
        "colab_type": "text"
      },
      "source": [
        "Será que conseguimos obter as matrizes originais? Com os modelos de filmes e usuários?"
      ]
    },
    {
      "cell_type": "code",
      "metadata": {
        "id": "SM4fEtojs7Fw",
        "colab_type": "code",
        "outputId": "b438fffa-652b-459d-c640-2aed015739bb",
        "colab": {
          "base_uri": "https://localhost:8080/",
          "height": 205
        }
      },
      "source": [
        "resultado <- nmf(usuario_filme, 2)\n",
        "w <- resultado@fit@W\n",
        "h <- resultado@fit@H\n",
        "w\n",
        "h"
      ],
      "execution_count": 7,
      "outputs": [
        {
          "output_type": "display_data",
          "data": {
            "text/plain": [
              "       [,1]       [,2]      \n",
              "Joao   63.3405591  2.4173616\n",
              "Maria   6.3340559  0.2417362\n",
              "Camila  0.5447557 19.0313183\n",
              "Andre   0.1815852  6.3437728"
            ],
            "text/latex": "A matrix: 4 × 2 of type dbl\n\\begin{tabular}{r|ll}\n\tJoao & 63.3405591 &  2.4173616\\\\\n\tMaria &  6.3340559 &  0.2417362\\\\\n\tCamila &  0.5447557 & 19.0313183\\\\\n\tAndre &  0.1815852 &  6.3437728\\\\\n\\end{tabular}\n",
            "text/markdown": "\nA matrix: 4 × 2 of type dbl\n\n| Joao | 63.3405591 |  2.4173616 |\n| Maria |  6.3340559 |  0.2417362 |\n| Camila |  0.5447557 | 19.0313183 |\n| Andre |  0.1815852 |  6.3437728 |\n\n",
            "text/html": [
              "<table>\n",
              "<caption>A matrix: 4 × 2 of type dbl</caption>\n",
              "<tbody>\n",
              "\t<tr><th scope=row>Joao</th><td>63.3405591</td><td> 2.4173616</td></tr>\n",
              "\t<tr><th scope=row>Maria</th><td> 6.3340559</td><td> 0.2417362</td></tr>\n",
              "\t<tr><th scope=row>Camila</th><td> 0.5447557</td><td>19.0313183</td></tr>\n",
              "\t<tr><th scope=row>Andre</th><td> 0.1815852</td><td> 6.3437728</td></tr>\n",
              "</tbody>\n",
              "</table>\n"
            ]
          },
          "metadata": {
            "tags": []
          }
        },
        {
          "output_type": "display_data",
          "data": {
            "text/plain": [
              "     Quem vai ficar com Mary? Friends     Pequena Miss Sunshine A Vida é Bela\n",
              "[1,] 0.1574471                0.315496500 0.473545882           0.0097823    \n",
              "[2,] 0.0112567                0.006732665 0.002208633           0.1573549    \n",
              "     Game of Thrones\n",
              "[1,] 0.003759661    \n",
              "[2,] 0.315162187    "
            ],
            "text/latex": "A matrix: 2 × 5 of type dbl\n\\begin{tabular}{lllll}\n Quem vai ficar com Mary? & Friends & Pequena Miss Sunshine & A Vida é Bela & Game of Thrones\\\\\n\\hline\n\t 0.1574471 & 0.315496500 & 0.473545882 & 0.0097823 & 0.003759661\\\\\n\t 0.0112567 & 0.006732665 & 0.002208633 & 0.1573549 & 0.315162187\\\\\n\\end{tabular}\n",
            "text/markdown": "\nA matrix: 2 × 5 of type dbl\n\n| Quem vai ficar com Mary? | Friends | Pequena Miss Sunshine | A Vida é Bela | Game of Thrones |\n|---|---|---|---|---|\n| 0.1574471 | 0.315496500 | 0.473545882 | 0.0097823 | 0.003759661 |\n| 0.0112567 | 0.006732665 | 0.002208633 | 0.1573549 | 0.315162187 |\n\n",
            "text/html": [
              "<table>\n",
              "<caption>A matrix: 2 × 5 of type dbl</caption>\n",
              "<thead>\n",
              "\t<tr><th scope=col>Quem vai ficar com Mary?</th><th scope=col>Friends</th><th scope=col>Pequena Miss Sunshine</th><th scope=col>A Vida é Bela</th><th scope=col>Game of Thrones</th></tr>\n",
              "</thead>\n",
              "<tbody>\n",
              "\t<tr><td>0.1574471</td><td>0.315496500</td><td>0.473545882</td><td>0.0097823</td><td>0.003759661</td></tr>\n",
              "\t<tr><td>0.0112567</td><td>0.006732665</td><td>0.002208633</td><td>0.1573549</td><td>0.315162187</td></tr>\n",
              "</tbody>\n",
              "</table>\n"
            ]
          },
          "metadata": {
            "tags": []
          }
        }
      ]
    },
    {
      "cell_type": "markdown",
      "metadata": {
        "id": "hqP5ECRutnxd",
        "colab_type": "text"
      },
      "source": [
        "Compare as matrizes! Elas estão muito diferentes das originais?"
      ]
    },
    {
      "cell_type": "code",
      "metadata": {
        "colab_type": "code",
        "outputId": "f8c2f15e-49c7-481f-c9d2-141730aeae0a",
        "id": "L9jAow9it4V8",
        "colab": {
          "base_uri": "https://localhost:8080/",
          "height": 143
        }
      },
      "source": [
        "approxa <- w %*% h\n",
        "approxa"
      ],
      "execution_count": 8,
      "outputs": [
        {
          "output_type": "display_data",
          "data": {
            "text/plain": [
              "       Quem vai ficar com Mary? Friends Pequena Miss Sunshine A Vida é Bela\n",
              "Joao   10.0                     20.0    30.0                  1.0          \n",
              "Maria   1.0                      2.0     3.0                  0.1          \n",
              "Camila  0.3                      0.3     0.3                  3.0          \n",
              "Andre   0.1                      0.1     0.1                  1.0          \n",
              "       Game of Thrones\n",
              "Joao   1.0            \n",
              "Maria  0.1            \n",
              "Camila 6.0            \n",
              "Andre  2.0            "
            ],
            "text/latex": "A matrix: 4 × 5 of type dbl\n\\begin{tabular}{r|lllll}\n  & Quem vai ficar com Mary? & Friends & Pequena Miss Sunshine & A Vida é Bela & Game of Thrones\\\\\n\\hline\n\tJoao & 10.0 & 20.0 & 30.0 & 1.0 & 1.0\\\\\n\tMaria &  1.0 &  2.0 &  3.0 & 0.1 & 0.1\\\\\n\tCamila &  0.3 &  0.3 &  0.3 & 3.0 & 6.0\\\\\n\tAndre &  0.1 &  0.1 &  0.1 & 1.0 & 2.0\\\\\n\\end{tabular}\n",
            "text/markdown": "\nA matrix: 4 × 5 of type dbl\n\n| <!--/--> | Quem vai ficar com Mary? | Friends | Pequena Miss Sunshine | A Vida é Bela | Game of Thrones |\n|---|---|---|---|---|---|\n| Joao | 10.0 | 20.0 | 30.0 | 1.0 | 1.0 |\n| Maria |  1.0 |  2.0 |  3.0 | 0.1 | 0.1 |\n| Camila |  0.3 |  0.3 |  0.3 | 3.0 | 6.0 |\n| Andre |  0.1 |  0.1 |  0.1 | 1.0 | 2.0 |\n\n",
            "text/html": [
              "<table>\n",
              "<caption>A matrix: 4 × 5 of type dbl</caption>\n",
              "<thead>\n",
              "\t<tr><th></th><th scope=col>Quem vai ficar com Mary?</th><th scope=col>Friends</th><th scope=col>Pequena Miss Sunshine</th><th scope=col>A Vida é Bela</th><th scope=col>Game of Thrones</th></tr>\n",
              "</thead>\n",
              "<tbody>\n",
              "\t<tr><th scope=row>Joao</th><td>10.0</td><td>20.0</td><td>30.0</td><td>1.0</td><td>1.0</td></tr>\n",
              "\t<tr><th scope=row>Maria</th><td> 1.0</td><td> 2.0</td><td> 3.0</td><td>0.1</td><td>0.1</td></tr>\n",
              "\t<tr><th scope=row>Camila</th><td> 0.3</td><td> 0.3</td><td> 0.3</td><td>3.0</td><td>6.0</td></tr>\n",
              "\t<tr><th scope=row>Andre</th><td> 0.1</td><td> 0.1</td><td> 0.1</td><td>1.0</td><td>2.0</td></tr>\n",
              "</tbody>\n",
              "</table>\n"
            ]
          },
          "metadata": {
            "tags": []
          }
        }
      ]
    }
  ]
}