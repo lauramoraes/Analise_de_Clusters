{
  "nbformat": 4,
  "nbformat_minor": 0,
  "metadata": {
    "colab": {
      "name": "2.1 - Medidas de Similaridade e Distância (Wine).ipynb",
      "version": "0.3.2",
      "provenance": [],
      "include_colab_link": true
    },
    "language_info": {
      "codemirror_mode": "r",
      "file_extension": ".r",
      "mimetype": "text/x-r-source",
      "name": "R",
      "pygments_lexer": "r",
      "version": "3.5.1"
    },
    "kernelspec": {
      "display_name": "R",
      "language": "R",
      "name": "ir"
    }
  },
  "cells": [
    {
      "cell_type": "markdown",
      "metadata": {
        "id": "view-in-github",
        "colab_type": "text"
      },
      "source": [
        "<a href=\"https://colab.research.google.com/github/lauramoraes/Analise_de_Clusters/blob/master/2.1%20-%20Medidas%20de%20Similaridade%20e%20Dist%C3%A2ncia%20(Wine).ipynb\" target=\"_parent\"><img src=\"https://colab.research.google.com/assets/colab-badge.svg\" alt=\"Open In Colab\"/></a>"
      ]
    },
    {
      "cell_type": "markdown",
      "metadata": {
        "id": "2ax1wW1bqsNP",
        "colab_type": "text"
      },
      "source": [
        "# Similaridade e distância\n",
        "\n",
        "Utilizamos medidas de similaridade (ou distância) para quantificar o quanto dois objetos se parecem. Essa informação é útil em diversas aplicações, como:\n",
        "\n",
        "1. Sistemas de recomendação\n",
        "2. Agrupamentos\n",
        "3. Classificação e regressão\n",
        "4. Detecção de anomalias/outliers\n",
        "5. Descoberta de casos parecidos (diagnóstico médico, precedentes legais)\n"
      ]
    },
    {
      "cell_type": "markdown",
      "metadata": {
        "id": "WBU1VCsAqsNU",
        "colab_type": "text"
      },
      "source": [
        "### Importando bibliotecas a serem usadas"
      ]
    },
    {
      "cell_type": "code",
      "metadata": {
        "id": "X66BM1SWgf0N",
        "colab_type": "code",
        "outputId": "98fab8b5-09c5-451f-c66b-fb350c8d9cb8",
        "colab": {
          "base_uri": "https://localhost:8080/",
          "height": 91
        }
      },
      "source": [
        "install.packages(\"proxy\")\n",
        "install.packages(\"gdata\")"
      ],
      "execution_count": 0,
      "outputs": [
        {
          "output_type": "stream",
          "text": [
            "Installing package into ‘/usr/local/lib/R/site-library’\n",
            "(as ‘lib’ is unspecified)\n",
            "Installing package into ‘/usr/local/lib/R/site-library’\n",
            "(as ‘lib’ is unspecified)\n"
          ],
          "name": "stderr"
        }
      ]
    },
    {
      "cell_type": "code",
      "metadata": {
        "id": "Er2PmKaBqsNX",
        "colab_type": "code",
        "outputId": "53214d4b-caf3-4df6-fa19-84c9e47687a5",
        "colab": {
          "base_uri": "https://localhost:8080/",
          "height": 202
        }
      },
      "source": [
        "suppressMessages(suppressWarnings(library(tidyverse)))\n",
        "suppressMessages(suppressWarnings(library(proxy)))\n",
        "suppressMessages(suppressWarnings(library(gdata)))"
      ],
      "execution_count": 1,
      "outputs": [
        {
          "output_type": "error",
          "ename": "ERROR",
          "evalue": "ignored",
          "traceback": [
            "Error in library(proxy): there is no package called ‘proxy’\nTraceback:\n",
            "1. suppressMessages(suppressWarnings(library(proxy)))",
            "2. withCallingHandlers(expr, message = function(c) invokeRestart(\"muffleMessage\"))",
            "3. suppressWarnings(library(proxy))",
            "4. withCallingHandlers(expr, warning = function(w) invokeRestart(\"muffleWarning\"))",
            "5. library(proxy)"
          ]
        }
      ]
    },
    {
      "cell_type": "markdown",
      "metadata": {
        "id": "sYQHf2c3g9C6",
        "colab_type": "text"
      },
      "source": [
        "# Whisky Analytics\n",
        "\n",
        "Foram criadas caraterísticas numéricas que resumem as informações das notas de degustação. Foram definidos cinco atributos gerais de uísquem cada um com muitos valores:\n",
        "\n",
        "<img src=\"https://drive.google.com/uc?export=view&id=1mN_UmQeD43_8WfA9hiIRANXLnzAcgKIM\">\n",
        "\n",
        "\n",
        "É importante notar que essas categorias de valores **não** são mutuamente exclusivas por exemplo, o paladar de Aberlour é descrito como médio, íntegro, suave, completo e macio). Em geral, qualquer um dos valores pode ocorrer ao mesmo tempo (embora alguns deles, como a cor ser clara e esfumaçada nunca acontece), mas como podem coocorrer, cada valor de cada variável foi codificado como uma característica separada."
      ]
    },
    {
      "cell_type": "markdown",
      "metadata": {
        "id": "aU3O09tQqsNt",
        "colab_type": "text"
      },
      "source": [
        "### Carregando os dados salvos anteriormente"
      ]
    },
    {
      "cell_type": "code",
      "metadata": {
        "id": "z7eXqEyrqsNw",
        "colab_type": "code",
        "outputId": "fae08aae-c529-4cdb-f3c0-7d99d29e423f",
        "colab": {
          "base_uri": "https://localhost:8080/",
          "height": 97
        }
      },
      "source": [
        "list.files()"
      ],
      "execution_count": 2,
      "outputs": [
        {
          "output_type": "display_data",
          "data": {
            "text/plain": [
              "[1] \"data_cleaned.Rdata\" \"data_names.Rdata\"   \"sample_data\"       "
            ],
            "text/latex": "\\begin{enumerate*}\n\\item 'data\\_cleaned.Rdata'\n\\item 'data\\_names.Rdata'\n\\item 'sample\\_data'\n\\end{enumerate*}\n",
            "text/markdown": "1. 'data_cleaned.Rdata'\n2. 'data_names.Rdata'\n3. 'sample_data'\n\n\n",
            "text/html": [
              "<ol class=list-inline>\n",
              "\t<li>'data_cleaned.Rdata'</li>\n",
              "\t<li>'data_names.Rdata'</li>\n",
              "\t<li>'sample_data'</li>\n",
              "</ol>\n"
            ]
          },
          "metadata": {
            "tags": []
          }
        }
      ]
    },
    {
      "cell_type": "code",
      "metadata": {
        "id": "_93wCJQ1qsN6",
        "colab_type": "code",
        "outputId": "3e63d978-4521-4ee1-d23c-15554542f861",
        "colab": {
          "base_uri": "https://localhost:8080/",
          "height": 242
        }
      },
      "source": [
        "vars = load(\"data_names.Rdata\")\n",
        "vars\n",
        "vars = load(\"data_cleaned.Rdata\")\n",
        "vars\n",
        "# vars = load(\"data_onehot.Rdata\")\n",
        "# vars\n",
        "head(data_cleaned)"
      ],
      "execution_count": 3,
      "outputs": [
        {
          "output_type": "display_data",
          "data": {
            "text/plain": [
              "[1] \"data_names\""
            ],
            "text/latex": "'data\\_names'",
            "text/markdown": "'data_names'",
            "text/html": [
              "'data_names'"
            ]
          },
          "metadata": {
            "tags": []
          }
        },
        {
          "output_type": "display_data",
          "data": {
            "text/plain": [
              "[1] \"data_cleaned\""
            ],
            "text/latex": "'data\\_cleaned'",
            "text/markdown": "'data_cleaned'",
            "text/html": [
              "'data_cleaned'"
            ]
          },
          "metadata": {
            "tags": []
          }
        },
        {
          "output_type": "display_data",
          "data": {
            "text/plain": [
              "  Alcohol Malic Ash  Alcalinity Magnesium Phenols Flavanoids Nonflavanoids\n",
              "1 14.23   1.71  2.43 15.6       127       2.80    3.06       0.28         \n",
              "2 13.20   1.78  2.14 11.2       100       2.65    2.76       0.26         \n",
              "3 13.16   2.36  2.67 18.6       101       2.80    3.24       0.30         \n",
              "4 14.37   1.95  2.50 16.8       113       3.85    3.49       0.24         \n",
              "5 13.24   2.59  2.87 21.0       118       2.80    2.69       0.39         \n",
              "6 14.20   1.76  2.45 15.2       112       3.27    3.39       0.34         \n",
              "  Proanthocyanins Color Hue  Dilution Proline\n",
              "1 2.29            5.64  1.04 3.92     1065   \n",
              "2 1.28            4.38  1.05 3.40     1050   \n",
              "3 2.81            5.68  1.03 3.17     1185   \n",
              "4 2.18            7.80  0.86 3.45     1480   \n",
              "5 1.82            4.32  1.04 2.93      735   \n",
              "6 1.97            6.75  1.05 2.85     1450   "
            ],
            "text/latex": "A data.frame: 6 × 13\n\\begin{tabular}{r|lllllllllllll}\n Alcohol & Malic & Ash & Alcalinity & Magnesium & Phenols & Flavanoids & Nonflavanoids & Proanthocyanins & Color & Hue & Dilution & Proline\\\\\n <dbl> & <dbl> & <dbl> & <dbl> & <int> & <dbl> & <dbl> & <dbl> & <dbl> & <dbl> & <dbl> & <dbl> & <int>\\\\\n\\hline\n\t 14.23 & 1.71 & 2.43 & 15.6 & 127 & 2.80 & 3.06 & 0.28 & 2.29 & 5.64 & 1.04 & 3.92 & 1065\\\\\n\t 13.20 & 1.78 & 2.14 & 11.2 & 100 & 2.65 & 2.76 & 0.26 & 1.28 & 4.38 & 1.05 & 3.40 & 1050\\\\\n\t 13.16 & 2.36 & 2.67 & 18.6 & 101 & 2.80 & 3.24 & 0.30 & 2.81 & 5.68 & 1.03 & 3.17 & 1185\\\\\n\t 14.37 & 1.95 & 2.50 & 16.8 & 113 & 3.85 & 3.49 & 0.24 & 2.18 & 7.80 & 0.86 & 3.45 & 1480\\\\\n\t 13.24 & 2.59 & 2.87 & 21.0 & 118 & 2.80 & 2.69 & 0.39 & 1.82 & 4.32 & 1.04 & 2.93 &  735\\\\\n\t 14.20 & 1.76 & 2.45 & 15.2 & 112 & 3.27 & 3.39 & 0.34 & 1.97 & 6.75 & 1.05 & 2.85 & 1450\\\\\n\\end{tabular}\n",
            "text/markdown": "\nA data.frame: 6 × 13\n\n| Alcohol &lt;dbl&gt; | Malic &lt;dbl&gt; | Ash &lt;dbl&gt; | Alcalinity &lt;dbl&gt; | Magnesium &lt;int&gt; | Phenols &lt;dbl&gt; | Flavanoids &lt;dbl&gt; | Nonflavanoids &lt;dbl&gt; | Proanthocyanins &lt;dbl&gt; | Color &lt;dbl&gt; | Hue &lt;dbl&gt; | Dilution &lt;dbl&gt; | Proline &lt;int&gt; |\n|---|---|---|---|---|---|---|---|---|---|---|---|---|\n| 14.23 | 1.71 | 2.43 | 15.6 | 127 | 2.80 | 3.06 | 0.28 | 2.29 | 5.64 | 1.04 | 3.92 | 1065 |\n| 13.20 | 1.78 | 2.14 | 11.2 | 100 | 2.65 | 2.76 | 0.26 | 1.28 | 4.38 | 1.05 | 3.40 | 1050 |\n| 13.16 | 2.36 | 2.67 | 18.6 | 101 | 2.80 | 3.24 | 0.30 | 2.81 | 5.68 | 1.03 | 3.17 | 1185 |\n| 14.37 | 1.95 | 2.50 | 16.8 | 113 | 3.85 | 3.49 | 0.24 | 2.18 | 7.80 | 0.86 | 3.45 | 1480 |\n| 13.24 | 2.59 | 2.87 | 21.0 | 118 | 2.80 | 2.69 | 0.39 | 1.82 | 4.32 | 1.04 | 2.93 |  735 |\n| 14.20 | 1.76 | 2.45 | 15.2 | 112 | 3.27 | 3.39 | 0.34 | 1.97 | 6.75 | 1.05 | 2.85 | 1450 |\n\n",
            "text/html": [
              "<table>\n",
              "<caption>A data.frame: 6 × 13</caption>\n",
              "<thead>\n",
              "\t<tr><th scope=col>Alcohol</th><th scope=col>Malic</th><th scope=col>Ash</th><th scope=col>Alcalinity</th><th scope=col>Magnesium</th><th scope=col>Phenols</th><th scope=col>Flavanoids</th><th scope=col>Nonflavanoids</th><th scope=col>Proanthocyanins</th><th scope=col>Color</th><th scope=col>Hue</th><th scope=col>Dilution</th><th scope=col>Proline</th></tr>\n",
              "\t<tr><th scope=col>&lt;dbl&gt;</th><th scope=col>&lt;dbl&gt;</th><th scope=col>&lt;dbl&gt;</th><th scope=col>&lt;dbl&gt;</th><th scope=col>&lt;int&gt;</th><th scope=col>&lt;dbl&gt;</th><th scope=col>&lt;dbl&gt;</th><th scope=col>&lt;dbl&gt;</th><th scope=col>&lt;dbl&gt;</th><th scope=col>&lt;dbl&gt;</th><th scope=col>&lt;dbl&gt;</th><th scope=col>&lt;dbl&gt;</th><th scope=col>&lt;int&gt;</th></tr>\n",
              "</thead>\n",
              "<tbody>\n",
              "\t<tr><td>14.23</td><td>1.71</td><td>2.43</td><td>15.6</td><td>127</td><td>2.80</td><td>3.06</td><td>0.28</td><td>2.29</td><td>5.64</td><td>1.04</td><td>3.92</td><td>1065</td></tr>\n",
              "\t<tr><td>13.20</td><td>1.78</td><td>2.14</td><td>11.2</td><td>100</td><td>2.65</td><td>2.76</td><td>0.26</td><td>1.28</td><td>4.38</td><td>1.05</td><td>3.40</td><td>1050</td></tr>\n",
              "\t<tr><td>13.16</td><td>2.36</td><td>2.67</td><td>18.6</td><td>101</td><td>2.80</td><td>3.24</td><td>0.30</td><td>2.81</td><td>5.68</td><td>1.03</td><td>3.17</td><td>1185</td></tr>\n",
              "\t<tr><td>14.37</td><td>1.95</td><td>2.50</td><td>16.8</td><td>113</td><td>3.85</td><td>3.49</td><td>0.24</td><td>2.18</td><td>7.80</td><td>0.86</td><td>3.45</td><td>1480</td></tr>\n",
              "\t<tr><td>13.24</td><td>2.59</td><td>2.87</td><td>21.0</td><td>118</td><td>2.80</td><td>2.69</td><td>0.39</td><td>1.82</td><td>4.32</td><td>1.04</td><td>2.93</td><td> 735</td></tr>\n",
              "\t<tr><td>14.20</td><td>1.76</td><td>2.45</td><td>15.2</td><td>112</td><td>3.27</td><td>3.39</td><td>0.34</td><td>1.97</td><td>6.75</td><td>1.05</td><td>2.85</td><td>1450</td></tr>\n",
              "</tbody>\n",
              "</table>\n"
            ]
          },
          "metadata": {
            "tags": []
          }
        }
      ]
    },
    {
      "cell_type": "code",
      "metadata": {
        "id": "XN8j0ml1obmP",
        "colab_type": "code",
        "outputId": "05ca6ed7-6400-4f55-8092-b632953e332d",
        "colab": {
          "base_uri": "https://localhost:8080/",
          "height": 1000
        }
      },
      "source": [
        "data_names"
      ],
      "execution_count": 4,
      "outputs": [
        {
          "output_type": "display_data",
          "data": {
            "text/plain": [
              "    Type\n",
              "1   1   \n",
              "2   1   \n",
              "3   1   \n",
              "4   1   \n",
              "5   1   \n",
              "6   1   \n",
              "7   1   \n",
              "8   1   \n",
              "9   1   \n",
              "10  1   \n",
              "11  1   \n",
              "12  1   \n",
              "13  1   \n",
              "14  1   \n",
              "15  1   \n",
              "16  1   \n",
              "17  1   \n",
              "18  1   \n",
              "19  1   \n",
              "20  1   \n",
              "21  1   \n",
              "22  1   \n",
              "23  1   \n",
              "24  1   \n",
              "25  1   \n",
              "26  1   \n",
              "27  1   \n",
              "28  1   \n",
              "29  1   \n",
              "30  1   \n",
              "⋮   ⋮   \n",
              "149 3   \n",
              "150 3   \n",
              "151 3   \n",
              "152 3   \n",
              "153 3   \n",
              "154 3   \n",
              "155 3   \n",
              "156 3   \n",
              "157 3   \n",
              "158 3   \n",
              "159 3   \n",
              "160 3   \n",
              "161 3   \n",
              "162 3   \n",
              "163 3   \n",
              "164 3   \n",
              "165 3   \n",
              "166 3   \n",
              "167 3   \n",
              "168 3   \n",
              "169 3   \n",
              "170 3   \n",
              "171 3   \n",
              "172 3   \n",
              "173 3   \n",
              "174 3   \n",
              "175 3   \n",
              "176 3   \n",
              "177 3   \n",
              "178 3   "
            ],
            "text/latex": "A data.frame: 178 × 1\n\\begin{tabular}{r|l}\n Type\\\\\n <int>\\\\\n\\hline\n\t 1\\\\\n\t 1\\\\\n\t 1\\\\\n\t 1\\\\\n\t 1\\\\\n\t 1\\\\\n\t 1\\\\\n\t 1\\\\\n\t 1\\\\\n\t 1\\\\\n\t 1\\\\\n\t 1\\\\\n\t 1\\\\\n\t 1\\\\\n\t 1\\\\\n\t 1\\\\\n\t 1\\\\\n\t 1\\\\\n\t 1\\\\\n\t 1\\\\\n\t 1\\\\\n\t 1\\\\\n\t 1\\\\\n\t 1\\\\\n\t 1\\\\\n\t 1\\\\\n\t 1\\\\\n\t 1\\\\\n\t 1\\\\\n\t 1\\\\\n\t ⋮\\\\\n\t 3\\\\\n\t 3\\\\\n\t 3\\\\\n\t 3\\\\\n\t 3\\\\\n\t 3\\\\\n\t 3\\\\\n\t 3\\\\\n\t 3\\\\\n\t 3\\\\\n\t 3\\\\\n\t 3\\\\\n\t 3\\\\\n\t 3\\\\\n\t 3\\\\\n\t 3\\\\\n\t 3\\\\\n\t 3\\\\\n\t 3\\\\\n\t 3\\\\\n\t 3\\\\\n\t 3\\\\\n\t 3\\\\\n\t 3\\\\\n\t 3\\\\\n\t 3\\\\\n\t 3\\\\\n\t 3\\\\\n\t 3\\\\\n\t 3\\\\\n\\end{tabular}\n",
            "text/markdown": "\nA data.frame: 178 × 1\n\n| Type &lt;int&gt; |\n|---|\n| 1 |\n| 1 |\n| 1 |\n| 1 |\n| 1 |\n| 1 |\n| 1 |\n| 1 |\n| 1 |\n| 1 |\n| 1 |\n| 1 |\n| 1 |\n| 1 |\n| 1 |\n| 1 |\n| 1 |\n| 1 |\n| 1 |\n| 1 |\n| 1 |\n| 1 |\n| 1 |\n| 1 |\n| 1 |\n| 1 |\n| 1 |\n| 1 |\n| 1 |\n| 1 |\n| ⋮ |\n| 3 |\n| 3 |\n| 3 |\n| 3 |\n| 3 |\n| 3 |\n| 3 |\n| 3 |\n| 3 |\n| 3 |\n| 3 |\n| 3 |\n| 3 |\n| 3 |\n| 3 |\n| 3 |\n| 3 |\n| 3 |\n| 3 |\n| 3 |\n| 3 |\n| 3 |\n| 3 |\n| 3 |\n| 3 |\n| 3 |\n| 3 |\n| 3 |\n| 3 |\n| 3 |\n\n",
            "text/html": [
              "<table>\n",
              "<caption>A data.frame: 178 × 1</caption>\n",
              "<thead>\n",
              "\t<tr><th scope=col>Type</th></tr>\n",
              "\t<tr><th scope=col>&lt;int&gt;</th></tr>\n",
              "</thead>\n",
              "<tbody>\n",
              "\t<tr><td>1</td></tr>\n",
              "\t<tr><td>1</td></tr>\n",
              "\t<tr><td>1</td></tr>\n",
              "\t<tr><td>1</td></tr>\n",
              "\t<tr><td>1</td></tr>\n",
              "\t<tr><td>1</td></tr>\n",
              "\t<tr><td>1</td></tr>\n",
              "\t<tr><td>1</td></tr>\n",
              "\t<tr><td>1</td></tr>\n",
              "\t<tr><td>1</td></tr>\n",
              "\t<tr><td>1</td></tr>\n",
              "\t<tr><td>1</td></tr>\n",
              "\t<tr><td>1</td></tr>\n",
              "\t<tr><td>1</td></tr>\n",
              "\t<tr><td>1</td></tr>\n",
              "\t<tr><td>1</td></tr>\n",
              "\t<tr><td>1</td></tr>\n",
              "\t<tr><td>1</td></tr>\n",
              "\t<tr><td>1</td></tr>\n",
              "\t<tr><td>1</td></tr>\n",
              "\t<tr><td>1</td></tr>\n",
              "\t<tr><td>1</td></tr>\n",
              "\t<tr><td>1</td></tr>\n",
              "\t<tr><td>1</td></tr>\n",
              "\t<tr><td>1</td></tr>\n",
              "\t<tr><td>1</td></tr>\n",
              "\t<tr><td>1</td></tr>\n",
              "\t<tr><td>1</td></tr>\n",
              "\t<tr><td>1</td></tr>\n",
              "\t<tr><td>1</td></tr>\n",
              "\t<tr><td>⋮</td></tr>\n",
              "\t<tr><td>3</td></tr>\n",
              "\t<tr><td>3</td></tr>\n",
              "\t<tr><td>3</td></tr>\n",
              "\t<tr><td>3</td></tr>\n",
              "\t<tr><td>3</td></tr>\n",
              "\t<tr><td>3</td></tr>\n",
              "\t<tr><td>3</td></tr>\n",
              "\t<tr><td>3</td></tr>\n",
              "\t<tr><td>3</td></tr>\n",
              "\t<tr><td>3</td></tr>\n",
              "\t<tr><td>3</td></tr>\n",
              "\t<tr><td>3</td></tr>\n",
              "\t<tr><td>3</td></tr>\n",
              "\t<tr><td>3</td></tr>\n",
              "\t<tr><td>3</td></tr>\n",
              "\t<tr><td>3</td></tr>\n",
              "\t<tr><td>3</td></tr>\n",
              "\t<tr><td>3</td></tr>\n",
              "\t<tr><td>3</td></tr>\n",
              "\t<tr><td>3</td></tr>\n",
              "\t<tr><td>3</td></tr>\n",
              "\t<tr><td>3</td></tr>\n",
              "\t<tr><td>3</td></tr>\n",
              "\t<tr><td>3</td></tr>\n",
              "\t<tr><td>3</td></tr>\n",
              "\t<tr><td>3</td></tr>\n",
              "\t<tr><td>3</td></tr>\n",
              "\t<tr><td>3</td></tr>\n",
              "\t<tr><td>3</td></tr>\n",
              "\t<tr><td>3</td></tr>\n",
              "</tbody>\n",
              "</table>\n"
            ]
          },
          "metadata": {
            "tags": []
          }
        }
      ]
    },
    {
      "cell_type": "markdown",
      "metadata": {
        "id": "ayLEI-zIqsOC",
        "colab_type": "text"
      },
      "source": [
        "\n",
        "### Calculando distâncias"
      ]
    },
    {
      "cell_type": "code",
      "metadata": {
        "id": "GRfnJWp1qsOE",
        "colab_type": "code",
        "outputId": "32e545fa-d911-41c8-bbec-d77d7d75c262",
        "colab": {
          "base_uri": "https://localhost:8080/",
          "height": 167
        }
      },
      "source": [
        "# Adicionando coluna de nome\n",
        "rownames(data_cleaned) <- data_names$NAME\n",
        "\n",
        "# Selecionando alguns vinhos\n",
        "names_list <- c(\"Bunnahabhain\", \"Glenglassaugh\", \"Tullibardine\", \"Ardberg\", \"Bruichladdich\", \"Glenmorangie\")\n",
        "data_selected <- data_cleaned[names_list,]\n",
        "\n",
        "# Selecionando algumas propriedades\n",
        "color <- c(\"gold\", \"pale\", \"sherry\", \"p.gold\")\n",
        "body <- c('soft','med', 'full', 'round', 'smooth', 'light', 'firm', 'oily')\n",
        "palate <- c('full.1', 'dry', 'sherry.1', 'big', 'light.1', 'smooth.1', 'clean', 'fruit', 'grass', 'smoke', 'sweet', 'spice', 'oil', 'salt', 'arome')\n",
        "nose <- c(\"AROMA\", 'PEAT', 'SWEET', 'LIGHT', 'FRESH', 'DRY', 'FRUIT', 'GRASS', 'SEA', 'SHERRY', 'SPICY', 'RICH')\n",
        "finish <- c('full.2', 'dry.1', 'warm', 'big.1', 'light.2', 'smooth.2', 'clean.1', 'fruit.1', 'grass.1', 'smoke.1', 'sweet.1', 'spice.1', 'oil.1', 'salt.1', 'arome.1', 'ling', 'long', 'very', 'quick')\n",
        "attributes <- c(color, body, palate, nose, finish)\n",
        "data_selected <- data_selected[,attributes]\n",
        "data_selected"
      ],
      "execution_count": 5,
      "outputs": [
        {
          "output_type": "error",
          "ename": "ERROR",
          "evalue": "ignored",
          "traceback": [
            "Error in `[.data.frame`(data_selected, , attributes): undefined columns selected\nTraceback:\n",
            "1. data_selected[, attributes]",
            "2. `[.data.frame`(data_selected, , attributes)",
            "3. stop(\"undefined columns selected\")"
          ]
        }
      ]
    },
    {
      "cell_type": "markdown",
      "metadata": {
        "id": "aD6P0jvd17Gl",
        "colab_type": "text"
      },
      "source": [
        "Existem diversos tipos de distância. Quando os atributos são heterogêneos e categóricos, temos algumas alternativas:\n",
        "1. Categorizá-los em números (como fizemos anteriormente)\n",
        "2. Usar uma distância apropriada para dados categóricos (como a de Jaccard, por exemplo, utilizada nesse exemplo do Whisky).\n",
        "\n",
        "Exemplos de distância são:\n",
        "1. Distância Euclidiana: normalmente a mais utilizada. É geral, intuitiva e computacionalmente muito rápida.\n",
        "1. Distância de Manhattan\n",
        "2. Distância de coseno: útil quando se quer ignorar diferenças de escala, como o tamanho dos textos.\n",
        "3. Distância de Jaccard: Trata dois objetos como conjuntos de características. Apropriado para problemas em que a posse de uma característica comum é importante, mas a ausência não.\n"
      ]
    },
    {
      "cell_type": "code",
      "metadata": {
        "id": "HkTefc5brpa9",
        "colab_type": "code",
        "outputId": "74bae395-b179-480b-dfa3-259569200614",
        "colab": {
          "base_uri": "https://localhost:8080/",
          "height": 156
        }
      },
      "source": [
        "dist(data_cleaned[1:8,], method=\"euclidean\")"
      ],
      "execution_count": 16,
      "outputs": [
        {
          "output_type": "display_data",
          "data": {
            "text/plain": [
              "          1         2         3         4         5         6         7\n",
              "2  31.26501                                                            \n",
              "3 122.83115 135.22469                                                  \n",
              "4 415.24540 430.25156 295.26271                                        \n",
              "5 330.17450 315.66880 450.33105 745.03944                              \n",
              "6 385.29596 400.21029 265.25695  30.09197 715.05460                    \n",
              "7 227.12947 240.06341 105.21146 190.79623 555.47585 160.81214          \n",
              "8 230.09160 245.98497 111.82768 185.20475 560.02040 155.29689  25.68653"
            ]
          },
          "metadata": {
            "tags": []
          }
        }
      ]
    },
    {
      "cell_type": "code",
      "metadata": {
        "id": "KQUNWbyzEye0",
        "colab_type": "code",
        "outputId": "ffe95afe-1c1b-4fdf-f747-87d72f1f9d49",
        "colab": {
          "base_uri": "https://localhost:8080/",
          "height": 272
        }
      },
      "source": [
        "pr_DB$get_entry(\"fJaccard\")"
      ],
      "execution_count": 0,
      "outputs": [
        {
          "output_type": "display_data",
          "data": {
            "text/plain": [
              "      names fJaccard, fuzzy_Jaccard\n",
              "        FUN R_fuzzy_dist\n",
              "   distance TRUE\n",
              "     PREFUN pr_fJaccard_prefun\n",
              "    POSTFUN NA\n",
              "    convert pr_dist2simil\n",
              "       type metric\n",
              "       loop FALSE\n",
              "      C_FUN TRUE\n",
              "    PACKAGE proxy\n",
              "       abcd FALSE\n",
              "    formula sum_i (min{x_i, y_i} / max{x_i, y_i})\n",
              "  reference Miyamoto S. (1990). Fuzzy sets in information retrieval and\n",
              "            cluster analysis, Kluwer Academic Publishers, Dordrecht.\n",
              "description The fuzzy Jaccard dissimilarity (C implementation)."
            ]
          },
          "metadata": {
            "tags": []
          }
        }
      ]
    }
  ]
}