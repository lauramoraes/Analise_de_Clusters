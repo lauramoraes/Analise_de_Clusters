{
  "nbformat": 4,
  "nbformat_minor": 0,
  "metadata": {
    "colab": {
      "name": "2 - Aquisição de Dados da Web",
      "version": "0.3.2",
      "provenance": [],
      "toc_visible": true,
      "include_colab_link": true
    },
    "language_info": {
      "codemirror_mode": "r",
      "file_extension": ".r",
      "mimetype": "text/x-r-source",
      "name": "R",
      "pygments_lexer": "r",
      "version": "3.3.1"
    },
    "kernelspec": {
      "display_name": "R",
      "language": "R",
      "name": "ir"
    }
  },
  "cells": [
    {
      "cell_type": "markdown",
      "metadata": {
        "id": "view-in-github",
        "colab_type": "text"
      },
      "source": [
        "<a href=\"https://colab.research.google.com/github/lauramoraes/Analise_de_Clusters/blob/master/2-%20Aquisi%C3%A7%C3%A3o%20de%20Dados%20da%20Web.ipynb\" target=\"_parent\"><img src=\"https://colab.research.google.com/assets/colab-badge.svg\" alt=\"Open In Colab\"/></a>"
      ]
    },
    {
      "cell_type": "markdown",
      "metadata": {
        "id": "wn9t4aUDQH2z",
        "colab_type": "text"
      },
      "source": [
        "# Aquisição de Dados\n",
        "\n",
        "O primeiro processo da Mineração de Texto, é garantir que temos os dados necessários para análise. A mineração de texto é muito dinâmica e provavelmente temos que montar um **fluxo contínuo** de aquisição dos dados necessário. Neste notebook vamos exemplificar como recuperar dados de uma página HTML e estruturá-los."
      ]
    },
    {
      "cell_type": "markdown",
      "metadata": {
        "id": "UixQ-Y9VKjwy",
        "colab_type": "text"
      },
      "source": [
        "### Importando bibliotecas a serem usadas"
      ]
    },
    {
      "cell_type": "code",
      "metadata": {
        "id": "SvGJ9AF0OH45",
        "colab_type": "code",
        "outputId": "9d6db8f2-b4ec-4015-ea84-da9cafc2b130",
        "colab": {
          "base_uri": "https://localhost:8080/",
          "height": 52
        }
      },
      "source": [
        "install.packages('rvest')"
      ],
      "execution_count": 1,
      "outputs": [
        {
          "output_type": "stream",
          "text": [
            "Installing package into ‘/usr/local/lib/R/site-library’\n",
            "(as ‘lib’ is unspecified)\n"
          ],
          "name": "stderr"
        }
      ]
    },
    {
      "cell_type": "code",
      "metadata": {
        "id": "Unsb8k4MKWgb",
        "colab_type": "code",
        "colab": {}
      },
      "source": [
        "suppressMessages(suppressWarnings(library(rvest)))\n",
        "suppressMessages(suppressWarnings(library(dplyr)))\n",
        "suppressMessages(suppressWarnings(library('ggplot2')))"
      ],
      "execution_count": 0,
      "outputs": []
    },
    {
      "cell_type": "markdown",
      "metadata": {
        "id": "J2pa0m1z05Om",
        "colab_type": "text"
      },
      "source": [
        "### Download dos dados\n",
        "Neste exemplo vamos recuperar informações sobre os filmes lançados em 2018 de acordo com o IMDb: https://www.imdb.com/search/title?count=100&release_date=2018,2018&title_type=feature\n",
        "\n",
        "Retirado de: https://www.analyticsvidhya.com/blog/2017/03/beginners-guide-on-web-scraping-in-r-using-rvest-with-hands-on-knowledge/\n",
        "\n",
        "Veja o que a biblioteca pode fazer: https://cran.r-project.org/web/packages/rvest/rvest.pdf"
      ]
    },
    {
      "cell_type": "code",
      "metadata": {
        "id": "Hq3wcLq-axpx",
        "colab_type": "code",
        "colab": {}
      },
      "source": [
        "#Specifying the url for desired website to be scraped\n",
        "url <- 'http://www.imdb.com/search/title?count=100&release_date=2018,2018&title_type=feature'"
      ],
      "execution_count": 0,
      "outputs": []
    },
    {
      "cell_type": "code",
      "metadata": {
        "id": "Cnbxwzj6rESP",
        "colab_type": "code",
        "colab": {}
      },
      "source": [
        "#Reading the HTML code from the website\n",
        "webpage <- read_html(url)"
      ],
      "execution_count": 0,
      "outputs": []
    },
    {
      "cell_type": "markdown",
      "metadata": {
        "id": "DwNngnbNrT8k",
        "colab_type": "text"
      },
      "source": [
        "Informações que queremos estruturar:\n",
        "\n",
        "\n",
        "1.   Rank: A posição do filme entre 1 e 100 na lista dos 100 filmes melhores avaliados em 2018.\n",
        "2. Título\n",
        "3. Descrição do filme\n",
        "4. Duração\n",
        "5. Gênero\n",
        "6. Nota: nota do filme no IMDb\n",
        "8. Quantidade de votos\n",
        "10. Diretor: diretor principal do filme\n",
        "11. Ator principal do filme\n"
      ]
    },
    {
      "cell_type": "markdown",
      "metadata": {
        "id": "vr7rc5yksWXI",
        "colab_type": "text"
      },
      "source": [
        "### 1) Começando pelo rank"
      ]
    },
    {
      "cell_type": "code",
      "metadata": {
        "id": "p9Ibn3eosTqA",
        "colab_type": "code",
        "colab": {
          "base_uri": "https://localhost:8080/",
          "height": 149
        },
        "outputId": "2172dc07-cfae-42ff-c6ea-2061cbbc56b7"
      },
      "source": [
        "#Using CSS selectors to scrap the rankings section\n",
        "rank_data_html <- html_nodes(webpage,'.text-primary')\n",
        "\n",
        "#Converting the ranking data to text\n",
        "rank_data <- html_text(rank_data_html)\n",
        "\n",
        "#Let's have a look at the rankings\n",
        "head(rank_data)"
      ],
      "execution_count": 6,
      "outputs": [
        {
          "output_type": "display_data",
          "data": {
            "text/plain": [
              "[1] \"1.\" \"2.\" \"3.\" \"4.\" \"5.\" \"6.\""
            ],
            "text/latex": "\\begin{enumerate*}\n\\item '1.'\n\\item '2.'\n\\item '3.'\n\\item '4.'\n\\item '5.'\n\\item '6.'\n\\end{enumerate*}\n",
            "text/markdown": "1. '1.'\n2. '2.'\n3. '3.'\n4. '4.'\n5. '5.'\n6. '6.'\n\n\n",
            "text/html": [
              "<ol class=list-inline>\n",
              "\t<li>'1.'</li>\n",
              "\t<li>'2.'</li>\n",
              "\t<li>'3.'</li>\n",
              "\t<li>'4.'</li>\n",
              "\t<li>'5.'</li>\n",
              "\t<li>'6.'</li>\n",
              "</ol>\n"
            ]
          },
          "metadata": {
            "tags": []
          }
        }
      ]
    },
    {
      "cell_type": "markdown",
      "metadata": {
        "id": "n6R347xJsiYH",
        "colab_type": "text"
      },
      "source": [
        "Vamos processá-la para limpá-la"
      ]
    },
    {
      "cell_type": "code",
      "metadata": {
        "id": "aPzfbM2nsiws",
        "colab_type": "code",
        "colab": {
          "base_uri": "https://localhost:8080/",
          "height": 149
        },
        "outputId": "6b32bafd-6159-4cf5-9a9c-c2e1d28f63b0"
      },
      "source": [
        "#Data-Preprocessing: Converting rankings to numerical\n",
        "rank_data<-as.numeric(rank_data)\n",
        "\n",
        "#Let's have another look at the rankings\n",
        "head(rank_data)"
      ],
      "execution_count": 7,
      "outputs": [
        {
          "output_type": "display_data",
          "data": {
            "text/plain": [
              "[1] 1 2 3 4 5 6"
            ],
            "text/latex": "\\begin{enumerate*}\n\\item 1\n\\item 2\n\\item 3\n\\item 4\n\\item 5\n\\item 6\n\\end{enumerate*}\n",
            "text/markdown": "1. 1\n2. 2\n3. 3\n4. 4\n5. 5\n6. 6\n\n\n",
            "text/html": [
              "<ol class=list-inline>\n",
              "\t<li>1</li>\n",
              "\t<li>2</li>\n",
              "\t<li>3</li>\n",
              "\t<li>4</li>\n",
              "\t<li>5</li>\n",
              "\t<li>6</li>\n",
              "</ol>\n"
            ]
          },
          "metadata": {
            "tags": []
          }
        }
      ]
    },
    {
      "cell_type": "markdown",
      "metadata": {
        "id": "WnkEuv49sq5X",
        "colab_type": "text"
      },
      "source": [
        "### 2) Título"
      ]
    },
    {
      "cell_type": "code",
      "metadata": {
        "id": "QATDlGFTsqH1",
        "colab_type": "code",
        "colab": {
          "base_uri": "https://localhost:8080/",
          "height": 149
        },
        "outputId": "cd0bbe3a-87b0-4cff-ab64-58f0c8c4fa1e"
      },
      "source": [
        "#Using CSS selectors to scrap the title section\n",
        "title_data_html <- html_nodes(webpage,'.lister-item-header a')\n",
        "\n",
        "#Converting the title data to text\n",
        "title_data <- html_text(title_data_html)\n",
        "\n",
        "#Let's have a look at the title\n",
        "head(title_data)"
      ],
      "execution_count": 8,
      "outputs": [
        {
          "output_type": "display_data",
          "data": {
            "text/plain": [
              "[1] \"The Perfection\"                    \"Avengers: Infinity War\"           \n",
              "[3] \"Bohemian Rhapsody\"                 \"Spider-Man: Into the Spider-Verse\"\n",
              "[5] \"Aquaman\"                           \"Halloween\"                        "
            ],
            "text/latex": "\\begin{enumerate*}\n\\item 'The Perfection'\n\\item 'Avengers: Infinity War'\n\\item 'Bohemian Rhapsody'\n\\item 'Spider-Man: Into the Spider-Verse'\n\\item 'Aquaman'\n\\item 'Halloween'\n\\end{enumerate*}\n",
            "text/markdown": "1. 'The Perfection'\n2. 'Avengers: Infinity War'\n3. 'Bohemian Rhapsody'\n4. 'Spider-Man: Into the Spider-Verse'\n5. 'Aquaman'\n6. 'Halloween'\n\n\n",
            "text/html": [
              "<ol class=list-inline>\n",
              "\t<li>'The Perfection'</li>\n",
              "\t<li>'Avengers: Infinity War'</li>\n",
              "\t<li>'Bohemian Rhapsody'</li>\n",
              "\t<li>'Spider-Man: Into the Spider-Verse'</li>\n",
              "\t<li>'Aquaman'</li>\n",
              "\t<li>'Halloween'</li>\n",
              "</ol>\n"
            ]
          },
          "metadata": {
            "tags": []
          }
        }
      ]
    },
    {
      "cell_type": "markdown",
      "metadata": {
        "id": "gCkOTAJ5s19f",
        "colab_type": "text"
      },
      "source": [
        "### 3) Descrição"
      ]
    },
    {
      "cell_type": "code",
      "metadata": {
        "id": "hqU85U8Ys2TF",
        "colab_type": "code",
        "colab": {
          "base_uri": "https://localhost:8080/",
          "height": 167
        },
        "outputId": "0e418f1c-1e9b-4caf-f9f8-78d788280b25"
      },
      "source": [
        "#Using CSS selectors to scrap the description section\n",
        "description_data_html <- html_nodes(webpage,'.ratings-bar+ .text-muted')\n",
        "\n",
        "#Converting the description data to text\n",
        "description_data <- html_text(description_data_html)\n",
        "\n",
        "#Let's have a look at the description data\n",
        "head(description_data)"
      ],
      "execution_count": 9,
      "outputs": [
        {
          "output_type": "display_data",
          "data": {
            "text/plain": [
              "[1] \"\\n    When troubled musical prodigy Charlotte (Allison Williams) seeks out Elizabeth (Logan Browning), the new star pupil of her former school, the encounter sends both musicians down a sinister path with shocking consequences.\"\n",
              "[2] \"\\n    The Avengers and their allies must be willing to sacrifice all in an attempt to defeat the powerful Thanos before his blitz of devastation and ruin puts an end to the universe.\"                                             \n",
              "[3] \"\\n    The story of the legendary rock band Queen and lead singer Freddie Mercury, leading up to their famous performance at Live Aid (1985).\"                                                                                       \n",
              "[4] \"\\n    Teen Miles Morales becomes Spider-Man of his reality, crossing his path with five counterparts from other dimensions to stop a threat for all realities.\"                                                                     \n",
              "[5] \"\\n    Arthur Curry, the human-born heir to the underwater kingdom of Atlantis, goes on a quest to prevent a war between the worlds of ocean and land.\"                                                                              \n",
              "[6] \"\\n    Laurie Strode confronts her long-time foe Michael Myers, the masked figure who has haunted her since she narrowly escaped his killing spree on Halloween night four decades ago.\"                                             "
            ],
            "text/latex": "\\begin{enumerate*}\n\\item '\\textbackslash{}n    When troubled musical prodigy Charlotte (Allison Williams) seeks out Elizabeth (Logan Browning), the new star pupil of her former school, the encounter sends both musicians down a sinister path with shocking consequences.'\n\\item '\\textbackslash{}n    The Avengers and their allies must be willing to sacrifice all in an attempt to defeat the powerful Thanos before his blitz of devastation and ruin puts an end to the universe.'\n\\item '\\textbackslash{}n    The story of the legendary rock band Queen and lead singer Freddie Mercury, leading up to their famous performance at Live Aid (1985).'\n\\item '\\textbackslash{}n    Teen Miles Morales becomes Spider-Man of his reality, crossing his path with five counterparts from other dimensions to stop a threat for all realities.'\n\\item '\\textbackslash{}n    Arthur Curry, the human-born heir to the underwater kingdom of Atlantis, goes on a quest to prevent a war between the worlds of ocean and land.'\n\\item '\\textbackslash{}n    Laurie Strode confronts her long-time foe Michael Myers, the masked figure who has haunted her since she narrowly escaped his killing spree on Halloween night four decades ago.'\n\\end{enumerate*}\n",
            "text/markdown": "1. <span style=white-space:pre-wrap>'\\n    When troubled musical prodigy Charlotte (Allison Williams) seeks out Elizabeth (Logan Browning), the new star pupil of her former school, the encounter sends both musicians down a sinister path with shocking consequences.'</span>\n2. <span style=white-space:pre-wrap>'\\n    The Avengers and their allies must be willing to sacrifice all in an attempt to defeat the powerful Thanos before his blitz of devastation and ruin puts an end to the universe.'</span>\n3. <span style=white-space:pre-wrap>'\\n    The story of the legendary rock band Queen and lead singer Freddie Mercury, leading up to their famous performance at Live Aid (1985).'</span>\n4. <span style=white-space:pre-wrap>'\\n    Teen Miles Morales becomes Spider-Man of his reality, crossing his path with five counterparts from other dimensions to stop a threat for all realities.'</span>\n5. <span style=white-space:pre-wrap>'\\n    Arthur Curry, the human-born heir to the underwater kingdom of Atlantis, goes on a quest to prevent a war between the worlds of ocean and land.'</span>\n6. <span style=white-space:pre-wrap>'\\n    Laurie Strode confronts her long-time foe Michael Myers, the masked figure who has haunted her since she narrowly escaped his killing spree on Halloween night four decades ago.'</span>\n\n\n",
            "text/html": [
              "<ol class=list-inline>\n",
              "\t<li><span style=white-space:pre-wrap>'\\n    When troubled musical prodigy Charlotte (Allison Williams) seeks out Elizabeth (Logan Browning), the new star pupil of her former school, the encounter sends both musicians down a sinister path with shocking consequences.'</span></li>\n",
              "\t<li><span style=white-space:pre-wrap>'\\n    The Avengers and their allies must be willing to sacrifice all in an attempt to defeat the powerful Thanos before his blitz of devastation and ruin puts an end to the universe.'</span></li>\n",
              "\t<li><span style=white-space:pre-wrap>'\\n    The story of the legendary rock band Queen and lead singer Freddie Mercury, leading up to their famous performance at Live Aid (1985).'</span></li>\n",
              "\t<li><span style=white-space:pre-wrap>'\\n    Teen Miles Morales becomes Spider-Man of his reality, crossing his path with five counterparts from other dimensions to stop a threat for all realities.'</span></li>\n",
              "\t<li><span style=white-space:pre-wrap>'\\n    Arthur Curry, the human-born heir to the underwater kingdom of Atlantis, goes on a quest to prevent a war between the worlds of ocean and land.'</span></li>\n",
              "\t<li><span style=white-space:pre-wrap>'\\n    Laurie Strode confronts her long-time foe Michael Myers, the masked figure who has haunted her since she narrowly escaped his killing spree on Halloween night four decades ago.'</span></li>\n",
              "</ol>\n"
            ]
          },
          "metadata": {
            "tags": []
          }
        }
      ]
    },
    {
      "cell_type": "code",
      "metadata": {
        "id": "X7OpGwNxrHy1",
        "colab_type": "code",
        "colab": {
          "base_uri": "https://localhost:8080/",
          "height": 167
        },
        "outputId": "3f9b091b-81e5-47d8-9c91-b0f1ed47e2d1"
      },
      "source": [
        "#Data-Preprocessing: removing '\\n'\n",
        "description_data<-gsub(\"\\n\",\"\",description_data)\n",
        "\n",
        "#Let's have another look at the description data \n",
        "head(description_data)"
      ],
      "execution_count": 10,
      "outputs": [
        {
          "output_type": "display_data",
          "data": {
            "text/plain": [
              "[1] \"    When troubled musical prodigy Charlotte (Allison Williams) seeks out Elizabeth (Logan Browning), the new star pupil of her former school, the encounter sends both musicians down a sinister path with shocking consequences.\"\n",
              "[2] \"    The Avengers and their allies must be willing to sacrifice all in an attempt to defeat the powerful Thanos before his blitz of devastation and ruin puts an end to the universe.\"                                             \n",
              "[3] \"    The story of the legendary rock band Queen and lead singer Freddie Mercury, leading up to their famous performance at Live Aid (1985).\"                                                                                       \n",
              "[4] \"    Teen Miles Morales becomes Spider-Man of his reality, crossing his path with five counterparts from other dimensions to stop a threat for all realities.\"                                                                     \n",
              "[5] \"    Arthur Curry, the human-born heir to the underwater kingdom of Atlantis, goes on a quest to prevent a war between the worlds of ocean and land.\"                                                                              \n",
              "[6] \"    Laurie Strode confronts her long-time foe Michael Myers, the masked figure who has haunted her since she narrowly escaped his killing spree on Halloween night four decades ago.\"                                             "
            ],
            "text/latex": "\\begin{enumerate*}\n\\item '    When troubled musical prodigy Charlotte (Allison Williams) seeks out Elizabeth (Logan Browning), the new star pupil of her former school, the encounter sends both musicians down a sinister path with shocking consequences.'\n\\item '    The Avengers and their allies must be willing to sacrifice all in an attempt to defeat the powerful Thanos before his blitz of devastation and ruin puts an end to the universe.'\n\\item '    The story of the legendary rock band Queen and lead singer Freddie Mercury, leading up to their famous performance at Live Aid (1985).'\n\\item '    Teen Miles Morales becomes Spider-Man of his reality, crossing his path with five counterparts from other dimensions to stop a threat for all realities.'\n\\item '    Arthur Curry, the human-born heir to the underwater kingdom of Atlantis, goes on a quest to prevent a war between the worlds of ocean and land.'\n\\item '    Laurie Strode confronts her long-time foe Michael Myers, the masked figure who has haunted her since she narrowly escaped his killing spree on Halloween night four decades ago.'\n\\end{enumerate*}\n",
            "text/markdown": "1. <span style=white-space:pre-wrap>'    When troubled musical prodigy Charlotte (Allison Williams) seeks out Elizabeth (Logan Browning), the new star pupil of her former school, the encounter sends both musicians down a sinister path with shocking consequences.'</span>\n2. <span style=white-space:pre-wrap>'    The Avengers and their allies must be willing to sacrifice all in an attempt to defeat the powerful Thanos before his blitz of devastation and ruin puts an end to the universe.'</span>\n3. <span style=white-space:pre-wrap>'    The story of the legendary rock band Queen and lead singer Freddie Mercury, leading up to their famous performance at Live Aid (1985).'</span>\n4. <span style=white-space:pre-wrap>'    Teen Miles Morales becomes Spider-Man of his reality, crossing his path with five counterparts from other dimensions to stop a threat for all realities.'</span>\n5. <span style=white-space:pre-wrap>'    Arthur Curry, the human-born heir to the underwater kingdom of Atlantis, goes on a quest to prevent a war between the worlds of ocean and land.'</span>\n6. <span style=white-space:pre-wrap>'    Laurie Strode confronts her long-time foe Michael Myers, the masked figure who has haunted her since she narrowly escaped his killing spree on Halloween night four decades ago.'</span>\n\n\n",
            "text/html": [
              "<ol class=list-inline>\n",
              "\t<li><span style=white-space:pre-wrap>'    When troubled musical prodigy Charlotte (Allison Williams) seeks out Elizabeth (Logan Browning), the new star pupil of her former school, the encounter sends both musicians down a sinister path with shocking consequences.'</span></li>\n",
              "\t<li><span style=white-space:pre-wrap>'    The Avengers and their allies must be willing to sacrifice all in an attempt to defeat the powerful Thanos before his blitz of devastation and ruin puts an end to the universe.'</span></li>\n",
              "\t<li><span style=white-space:pre-wrap>'    The story of the legendary rock band Queen and lead singer Freddie Mercury, leading up to their famous performance at Live Aid (1985).'</span></li>\n",
              "\t<li><span style=white-space:pre-wrap>'    Teen Miles Morales becomes Spider-Man of his reality, crossing his path with five counterparts from other dimensions to stop a threat for all realities.'</span></li>\n",
              "\t<li><span style=white-space:pre-wrap>'    Arthur Curry, the human-born heir to the underwater kingdom of Atlantis, goes on a quest to prevent a war between the worlds of ocean and land.'</span></li>\n",
              "\t<li><span style=white-space:pre-wrap>'    Laurie Strode confronts her long-time foe Michael Myers, the masked figure who has haunted her since she narrowly escaped his killing spree on Halloween night four decades ago.'</span></li>\n",
              "</ol>\n"
            ]
          },
          "metadata": {
            "tags": []
          }
        }
      ]
    },
    {
      "cell_type": "markdown",
      "metadata": {
        "id": "WsafoSNLs_Ii",
        "colab_type": "text"
      },
      "source": [
        "### 4) Duração"
      ]
    },
    {
      "cell_type": "code",
      "metadata": {
        "id": "kgOSsw8Qs-b5",
        "colab_type": "code",
        "colab": {
          "base_uri": "https://localhost:8080/",
          "height": 149
        },
        "outputId": "89eb213d-1fb7-4502-e767-2c4f4abdb1b7"
      },
      "source": [
        "#Using CSS selectors to scrap the Movie runtime section\n",
        "runtime_data_html <- html_nodes(webpage,'.text-muted .runtime')\n",
        "\n",
        "#Converting the runtime data to text\n",
        "runtime_data <- html_text(runtime_data_html)\n",
        "\n",
        "#Let's have a look at the runtime\n",
        "head(runtime_data)"
      ],
      "execution_count": 11,
      "outputs": [
        {
          "output_type": "display_data",
          "data": {
            "text/plain": [
              "[1] \"90 min\"  \"149 min\" \"134 min\" \"117 min\" \"143 min\" \"106 min\""
            ],
            "text/latex": "\\begin{enumerate*}\n\\item '90 min'\n\\item '149 min'\n\\item '134 min'\n\\item '117 min'\n\\item '143 min'\n\\item '106 min'\n\\end{enumerate*}\n",
            "text/markdown": "1. '90 min'\n2. '149 min'\n3. '134 min'\n4. '117 min'\n5. '143 min'\n6. '106 min'\n\n\n",
            "text/html": [
              "<ol class=list-inline>\n",
              "\t<li>'90 min'</li>\n",
              "\t<li>'149 min'</li>\n",
              "\t<li>'134 min'</li>\n",
              "\t<li>'117 min'</li>\n",
              "\t<li>'143 min'</li>\n",
              "\t<li>'106 min'</li>\n",
              "</ol>\n"
            ]
          },
          "metadata": {
            "tags": []
          }
        }
      ]
    },
    {
      "cell_type": "code",
      "metadata": {
        "id": "jA4_dXo2tBBD",
        "colab_type": "code",
        "colab": {
          "base_uri": "https://localhost:8080/",
          "height": 149
        },
        "outputId": "e75db1c5-6bed-48d9-d6a3-2bf0e9c15735"
      },
      "source": [
        "#Data-Preprocessing: removing mins and converting it to numerical\n",
        "\n",
        "runtime_data<-gsub(\" min\",\"\",runtime_data)\n",
        "runtime_data<-as.numeric(runtime_data)\n",
        "\n",
        "#Let's have another look at the runtime data\n",
        "head(runtime_data)"
      ],
      "execution_count": 12,
      "outputs": [
        {
          "output_type": "display_data",
          "data": {
            "text/plain": [
              "[1]  90 149 134 117 143 106"
            ],
            "text/latex": "\\begin{enumerate*}\n\\item 90\n\\item 149\n\\item 134\n\\item 117\n\\item 143\n\\item 106\n\\end{enumerate*}\n",
            "text/markdown": "1. 90\n2. 149\n3. 134\n4. 117\n5. 143\n6. 106\n\n\n",
            "text/html": [
              "<ol class=list-inline>\n",
              "\t<li>90</li>\n",
              "\t<li>149</li>\n",
              "\t<li>134</li>\n",
              "\t<li>117</li>\n",
              "\t<li>143</li>\n",
              "\t<li>106</li>\n",
              "</ol>\n"
            ]
          },
          "metadata": {
            "tags": []
          }
        }
      ]
    },
    {
      "cell_type": "markdown",
      "metadata": {
        "id": "3JxKcwTwtGJc",
        "colab_type": "text"
      },
      "source": [
        "### 5) Gênero"
      ]
    },
    {
      "cell_type": "code",
      "metadata": {
        "id": "p3wsWvGutJQs",
        "colab_type": "code",
        "colab": {
          "base_uri": "https://localhost:8080/",
          "height": 149
        },
        "outputId": "f0c35fb9-d1dd-4d6d-96fd-f0dd22e15336"
      },
      "source": [
        "#Using CSS selectors to scrap the Movie genre section\n",
        "genre_data_html <- html_nodes(webpage,'.genre')\n",
        "\n",
        "#Converting the genre data to text\n",
        "genre_data <- html_text(genre_data_html)\n",
        "\n",
        "#Let's have a look at the runtime\n",
        "head(genre_data)"
      ],
      "execution_count": 13,
      "outputs": [
        {
          "output_type": "display_data",
          "data": {
            "text/plain": [
              "[1] \"\\nDrama, Horror, Thriller            \"     \n",
              "[2] \"\\nAction, Adventure, Sci-Fi            \"   \n",
              "[3] \"\\nBiography, Drama, Music            \"     \n",
              "[4] \"\\nAnimation, Action, Adventure            \"\n",
              "[5] \"\\nAction, Adventure, Fantasy            \"  \n",
              "[6] \"\\nHorror, Thriller            \"            "
            ],
            "text/latex": "\\begin{enumerate*}\n\\item '\\textbackslash{}nDrama, Horror, Thriller            '\n\\item '\\textbackslash{}nAction, Adventure, Sci-Fi            '\n\\item '\\textbackslash{}nBiography, Drama, Music            '\n\\item '\\textbackslash{}nAnimation, Action, Adventure            '\n\\item '\\textbackslash{}nAction, Adventure, Fantasy            '\n\\item '\\textbackslash{}nHorror, Thriller            '\n\\end{enumerate*}\n",
            "text/markdown": "1. <span style=white-space:pre-wrap>'\\nDrama, Horror, Thriller            '</span>\n2. <span style=white-space:pre-wrap>'\\nAction, Adventure, Sci-Fi            '</span>\n3. <span style=white-space:pre-wrap>'\\nBiography, Drama, Music            '</span>\n4. <span style=white-space:pre-wrap>'\\nAnimation, Action, Adventure            '</span>\n5. <span style=white-space:pre-wrap>'\\nAction, Adventure, Fantasy            '</span>\n6. <span style=white-space:pre-wrap>'\\nHorror, Thriller            '</span>\n\n\n",
            "text/html": [
              "<ol class=list-inline>\n",
              "\t<li><span style=white-space:pre-wrap>'\\nDrama, Horror, Thriller            '</span></li>\n",
              "\t<li><span style=white-space:pre-wrap>'\\nAction, Adventure, Sci-Fi            '</span></li>\n",
              "\t<li><span style=white-space:pre-wrap>'\\nBiography, Drama, Music            '</span></li>\n",
              "\t<li><span style=white-space:pre-wrap>'\\nAnimation, Action, Adventure            '</span></li>\n",
              "\t<li><span style=white-space:pre-wrap>'\\nAction, Adventure, Fantasy            '</span></li>\n",
              "\t<li><span style=white-space:pre-wrap>'\\nHorror, Thriller            '</span></li>\n",
              "</ol>\n"
            ]
          },
          "metadata": {
            "tags": []
          }
        }
      ]
    },
    {
      "cell_type": "code",
      "metadata": {
        "id": "V5pi51dUtM_v",
        "colab_type": "code",
        "colab": {
          "base_uri": "https://localhost:8080/",
          "height": 167
        },
        "outputId": "cf4560ea-a4b4-410e-ae8c-a81828261ee3"
      },
      "source": [
        "#Data-Preprocessing: removing \\n\n",
        "genre_data<-gsub(\"\\n\",\"\",genre_data)\n",
        "\n",
        "#Data-Preprocessing: removing excess spaces\n",
        "genre_data<-gsub(\" \",\"\",genre_data)\n",
        "\n",
        "#taking only the first genre of each movie\n",
        "genre_data<-gsub(\",.*\",\"\",genre_data)\n",
        "\n",
        "#Convering each genre from text to factor\n",
        "genre_data<-as.factor(genre_data)\n",
        "\n",
        "#Let's have another look at the genre data\n",
        "head(genre_data)"
      ],
      "execution_count": 14,
      "outputs": [
        {
          "output_type": "display_data",
          "data": {
            "text/plain": [
              "[1] Drama     Action    Biography Animation Action    Horror   \n",
              "9 Levels: Action Adventure Animation Biography Comedy Crime Drama ... Horror"
            ],
            "text/latex": "\\begin{enumerate*}\n\\item Drama\n\\item Action\n\\item Biography\n\\item Animation\n\\item Action\n\\item Horror\n\\end{enumerate*}\n\n\\emph{Levels}: \\begin{enumerate*}\n\\item 'Action'\n\\item 'Adventure'\n\\item 'Animation'\n\\item 'Biography'\n\\item 'Comedy'\n\\item 'Crime'\n\\item 'Drama'\n\\item 'Fantasy'\n\\item 'Horror'\n\\end{enumerate*}\n",
            "text/markdown": "1. Drama\n2. Action\n3. Biography\n4. Animation\n5. Action\n6. Horror\n\n\n\n**Levels**: 1. 'Action'\n2. 'Adventure'\n3. 'Animation'\n4. 'Biography'\n5. 'Comedy'\n6. 'Crime'\n7. 'Drama'\n8. 'Fantasy'\n9. 'Horror'\n\n\n",
            "text/html": [
              "<ol class=list-inline>\n",
              "\t<li>Drama</li>\n",
              "\t<li>Action</li>\n",
              "\t<li>Biography</li>\n",
              "\t<li>Animation</li>\n",
              "\t<li>Action</li>\n",
              "\t<li>Horror</li>\n",
              "</ol>\n",
              "\n",
              "<details>\n",
              "\t<summary style=display:list-item;cursor:pointer>\n",
              "\t\t<strong>Levels</strong>:\n",
              "\t</summary>\n",
              "\t<ol class=list-inline>\n",
              "\t\t<li>'Action'</li>\n",
              "\t\t<li>'Adventure'</li>\n",
              "\t\t<li>'Animation'</li>\n",
              "\t\t<li>'Biography'</li>\n",
              "\t\t<li>'Comedy'</li>\n",
              "\t\t<li>'Crime'</li>\n",
              "\t\t<li>'Drama'</li>\n",
              "\t\t<li>'Fantasy'</li>\n",
              "\t\t<li>'Horror'</li>\n",
              "\t</ol>\n",
              "</details>"
            ]
          },
          "metadata": {
            "tags": []
          }
        }
      ]
    },
    {
      "cell_type": "markdown",
      "metadata": {
        "id": "y--a5-HctTRl",
        "colab_type": "text"
      },
      "source": [
        "### 6) Notas"
      ]
    },
    {
      "cell_type": "code",
      "metadata": {
        "id": "-iwcbzfOtcSA",
        "colab_type": "code",
        "colab": {
          "base_uri": "https://localhost:8080/",
          "height": 149
        },
        "outputId": "fbd83fb4-a38a-46ca-ba15-38c657aec9f7"
      },
      "source": [
        "#Using CSS selectors to scrap the IMDB rating section\n",
        "rating_data_html <- html_nodes(webpage,'.ratings-imdb-rating strong')\n",
        "\n",
        "#Converting the ratings data to text\n",
        "rating_data <- html_text(rating_data_html)\n",
        "\n",
        "#Let's have a look at the ratings\n",
        "head(rating_data)"
      ],
      "execution_count": 15,
      "outputs": [
        {
          "output_type": "display_data",
          "data": {
            "text/plain": [
              "[1] \"6.2\" \"8.5\" \"8.1\" \"8.5\" \"7.1\" \"6.6\""
            ],
            "text/latex": "\\begin{enumerate*}\n\\item '6.2'\n\\item '8.5'\n\\item '8.1'\n\\item '8.5'\n\\item '7.1'\n\\item '6.6'\n\\end{enumerate*}\n",
            "text/markdown": "1. '6.2'\n2. '8.5'\n3. '8.1'\n4. '8.5'\n5. '7.1'\n6. '6.6'\n\n\n",
            "text/html": [
              "<ol class=list-inline>\n",
              "\t<li>'6.2'</li>\n",
              "\t<li>'8.5'</li>\n",
              "\t<li>'8.1'</li>\n",
              "\t<li>'8.5'</li>\n",
              "\t<li>'7.1'</li>\n",
              "\t<li>'6.6'</li>\n",
              "</ol>\n"
            ]
          },
          "metadata": {
            "tags": []
          }
        }
      ]
    },
    {
      "cell_type": "code",
      "metadata": {
        "id": "y0jbFEv0tjp6",
        "colab_type": "code",
        "colab": {
          "base_uri": "https://localhost:8080/",
          "height": 149
        },
        "outputId": "978f7236-5272-4ebb-a761-4c1133d91078"
      },
      "source": [
        "#Data-Preprocessing: converting ratings to numerical\n",
        "rating_data<-as.numeric(rating_data)\n",
        "\n",
        "#Let's have another look at the ratings data\n",
        "head(rating_data)"
      ],
      "execution_count": 17,
      "outputs": [
        {
          "output_type": "display_data",
          "data": {
            "text/plain": [
              "[1] 6.2 8.5 8.1 8.5 7.1 6.6"
            ],
            "text/latex": "\\begin{enumerate*}\n\\item 6.2\n\\item 8.5\n\\item 8.1\n\\item 8.5\n\\item 7.1\n\\item 6.6\n\\end{enumerate*}\n",
            "text/markdown": "1. 6.2\n2. 8.5\n3. 8.1\n4. 8.5\n5. 7.1\n6. 6.6\n\n\n",
            "text/html": [
              "<ol class=list-inline>\n",
              "\t<li>6.2</li>\n",
              "\t<li>8.5</li>\n",
              "\t<li>8.1</li>\n",
              "\t<li>8.5</li>\n",
              "\t<li>7.1</li>\n",
              "\t<li>6.6</li>\n",
              "</ol>\n"
            ]
          },
          "metadata": {
            "tags": []
          }
        }
      ]
    },
    {
      "cell_type": "markdown",
      "metadata": {
        "id": "97iZGWKMtvAe",
        "colab_type": "text"
      },
      "source": [
        "### 7) Votos"
      ]
    },
    {
      "cell_type": "code",
      "metadata": {
        "id": "Ewh0IxBMtk5j",
        "colab_type": "code",
        "colab": {
          "base_uri": "https://localhost:8080/",
          "height": 149
        },
        "outputId": "451e3bea-225f-4fc2-cd25-9880e4008845"
      },
      "source": [
        "#Using CSS selectors to scrap the votes section\n",
        "votes_data_html <- html_nodes(webpage,'.sort-num_votes-visible span:nth-child(2)')\n",
        "\n",
        "#Converting the votes data to text\n",
        "votes_data <- html_text(votes_data_html)\n",
        "\n",
        "#Let's have a look at the votes data\n",
        "head(votes_data)"
      ],
      "execution_count": 18,
      "outputs": [
        {
          "output_type": "display_data",
          "data": {
            "text/plain": [
              "[1] \"10,790\"  \"667,444\" \"342,646\" \"208,023\" \"260,421\" \"87,678\" "
            ],
            "text/latex": "\\begin{enumerate*}\n\\item '10,790'\n\\item '667,444'\n\\item '342,646'\n\\item '208,023'\n\\item '260,421'\n\\item '87,678'\n\\end{enumerate*}\n",
            "text/markdown": "1. '10,790'\n2. '667,444'\n3. '342,646'\n4. '208,023'\n5. '260,421'\n6. '87,678'\n\n\n",
            "text/html": [
              "<ol class=list-inline>\n",
              "\t<li>'10,790'</li>\n",
              "\t<li>'667,444'</li>\n",
              "\t<li>'342,646'</li>\n",
              "\t<li>'208,023'</li>\n",
              "\t<li>'260,421'</li>\n",
              "\t<li>'87,678'</li>\n",
              "</ol>\n"
            ]
          },
          "metadata": {
            "tags": []
          }
        }
      ]
    },
    {
      "cell_type": "code",
      "metadata": {
        "id": "OYAdORjstwfA",
        "colab_type": "code",
        "colab": {
          "base_uri": "https://localhost:8080/",
          "height": 149
        },
        "outputId": "58e1d76c-d1b8-4275-b104-833198e2ac17"
      },
      "source": [
        "#Data-Preprocessing: removing commas\n",
        "votes_data<-gsub(\",\",\"\",votes_data)\n",
        "\n",
        "#Data-Preprocessing: converting votes to numerical\n",
        "votes_data<-as.numeric(votes_data)\n",
        "\n",
        "#Let's have another look at the votes data\n",
        "head(votes_data)"
      ],
      "execution_count": 19,
      "outputs": [
        {
          "output_type": "display_data",
          "data": {
            "text/plain": [
              "[1]  10790 667444 342646 208023 260421  87678"
            ],
            "text/latex": "\\begin{enumerate*}\n\\item 10790\n\\item 667444\n\\item 342646\n\\item 208023\n\\item 260421\n\\item 87678\n\\end{enumerate*}\n",
            "text/markdown": "1. 10790\n2. 667444\n3. 342646\n4. 208023\n5. 260421\n6. 87678\n\n\n",
            "text/html": [
              "<ol class=list-inline>\n",
              "\t<li>10790</li>\n",
              "\t<li>667444</li>\n",
              "\t<li>342646</li>\n",
              "\t<li>208023</li>\n",
              "\t<li>260421</li>\n",
              "\t<li>87678</li>\n",
              "</ol>\n"
            ]
          },
          "metadata": {
            "tags": []
          }
        }
      ]
    },
    {
      "cell_type": "markdown",
      "metadata": {
        "id": "TpPmfrlGt2pV",
        "colab_type": "text"
      },
      "source": [
        "### 8) Diretor"
      ]
    },
    {
      "cell_type": "code",
      "metadata": {
        "id": "Z2cBYZcmtzU4",
        "colab_type": "code",
        "colab": {
          "base_uri": "https://localhost:8080/",
          "height": 149
        },
        "outputId": "b5859b0b-3bca-4048-9cf2-a4858f392eda"
      },
      "source": [
        "#Using CSS selectors to scrap the directors section\n",
        "directors_data_html <- html_nodes(webpage,'.text-muted+ p a:nth-child(1)')\n",
        "\n",
        "#Converting the directors data to text\n",
        "directors_data <- html_text(directors_data_html)\n",
        "\n",
        "#Let's have a look at the directors data\n",
        "head(directors_data)"
      ],
      "execution_count": 20,
      "outputs": [
        {
          "output_type": "display_data",
          "data": {
            "text/plain": [
              "[1] \"Richard Shepard\"    \"Anthony Russo\"      \"Bryan Singer\"      \n",
              "[4] \"Bob Persichetti\"    \"James Wan\"          \"David Gordon Green\""
            ],
            "text/latex": "\\begin{enumerate*}\n\\item 'Richard Shepard'\n\\item 'Anthony Russo'\n\\item 'Bryan Singer'\n\\item 'Bob Persichetti'\n\\item 'James Wan'\n\\item 'David Gordon Green'\n\\end{enumerate*}\n",
            "text/markdown": "1. 'Richard Shepard'\n2. 'Anthony Russo'\n3. 'Bryan Singer'\n4. 'Bob Persichetti'\n5. 'James Wan'\n6. 'David Gordon Green'\n\n\n",
            "text/html": [
              "<ol class=list-inline>\n",
              "\t<li>'Richard Shepard'</li>\n",
              "\t<li>'Anthony Russo'</li>\n",
              "\t<li>'Bryan Singer'</li>\n",
              "\t<li>'Bob Persichetti'</li>\n",
              "\t<li>'James Wan'</li>\n",
              "\t<li>'David Gordon Green'</li>\n",
              "</ol>\n"
            ]
          },
          "metadata": {
            "tags": []
          }
        }
      ]
    },
    {
      "cell_type": "code",
      "metadata": {
        "id": "EFSxTkdMt3lV",
        "colab_type": "code",
        "colab": {
          "base_uri": "https://localhost:8080/",
          "height": 167
        },
        "outputId": "b39edbec-6a98-41ce-8504-26a4b634bbe9"
      },
      "source": [
        "#Data-Preprocessing: converting directors data into factors\n",
        "directors_data<-as.factor(directors_data)\n",
        "#Let's have a look at the directors data\n",
        "head(directors_data)"
      ],
      "execution_count": 22,
      "outputs": [
        {
          "output_type": "display_data",
          "data": {
            "text/plain": [
              "[1] Richard Shepard    Anthony Russo      Bryan Singer       Bob Persichetti   \n",
              "[5] James Wan          David Gordon Green\n",
              "100 Levels: Adam McKay Alex Garland Aneesh Chaganty ... Zach Lipovsky"
            ],
            "text/latex": "\\begin{enumerate*}\n\\item Richard Shepard\n\\item Anthony Russo\n\\item Bryan Singer\n\\item Bob Persichetti\n\\item James Wan\n\\item David Gordon Green\n\\end{enumerate*}\n\n\\emph{Levels}: \\begin{enumerate*}\n\\item 'Adam McKay'\n\\item 'Alex Garland'\n\\item 'Aneesh Chaganty'\n\\item 'Anthony Maras'\n\\item 'Anthony Russo'\n\\item 'Antoine Fuqua'\n\\item 'Ari Aster'\n\\item 'Baltasar Kormákur'\n\\item 'Bill Holderman'\n\\item 'Bob Persichetti'\n\\item 'Brad Bird'\n\\item 'Bradley Cooper'\n\\item 'Bryan Singer'\n\\item 'Chang-dong Lee'\n\\item 'Christian Gudegast'\n\\item 'Christian Rivers'\n\\item 'Christopher McQuarrie'\n\\item 'Claire Denis'\n\\item 'Clint Eastwood'\n\\item 'Corin Hardy'\n\\item 'Damien Chazelle'\n\\item 'David Gordon Green'\n\\item 'David Leitch'\n\\item 'David Robert Mitchell'\n\\item 'David Yates'\n\\item 'Don Michael Paul'\n\\item 'Donovan Marsh'\n\\item 'Drew Goddard'\n\\item 'Etan Cohen'\n\\item 'Ethan Coen'\n\\item 'Fede Alvarez'\n\\item 'Felix van Groeningen'\n\\item 'Florian Henckel von Donnersmarck'\n\\item 'Francis Lawrence'\n\\item 'Gary Ross'\n\\item 'Gaspar Noé'\n\\item 'J.A. Bayona'\n\\item 'James Wan'\n\\item 'Jeff Tomsic'\n\\item 'Jeffrey Nachmanoff'\n\\item 'Jennifer Kent'\n\\item 'Jennifer Yuh Nelson'\n\\item 'Joe Penna'\n\\item 'John Francis Daley'\n\\item 'John Krasinski'\n\\item 'Jon M. Chu'\n\\item 'Jon Turteltaub'\n\\item 'Jonah Hill'\n\\item 'Josie Rourke'\n\\item 'Julius Avery'\n\\item 'Karey Kirkpatrick'\n\\item 'Karyn Kusama'\n\\item 'Kay Cannon'\n\\item 'Kenneth Branagh'\n\\item 'Lars von Trier'\n\\item 'Lasse Hallström'\n\\item 'Leigh Whannell'\n\\item 'Luca Guadagnino'\n\\item 'Malcolm D. Lee'\n\\item 'Michael J. Gallagher'\n\\item 'Mimi Leder'\n\\item 'Nadine Labaki'\n\\item 'Neil Jordan'\n\\item 'Nicolai Fuglsig'\n\\item 'Ol Parker'\n\\item 'Oriol Paulo'\n\\item 'Otto Bathurst'\n\\item 'Paul Feig'\n\\item 'Peter Farrelly'\n\\item 'Peter Hedges'\n\\item 'Peyton Reed'\n\\item 'Phil Johnston'\n\\item 'Ralph Fiennes'\n\\item 'Richard Shepard'\n\\item 'Roar Uthaug'\n\\item 'Rob Marshall'\n\\item 'Robert Budreau'\n\\item 'Ron Howard'\n\\item 'Ruben Fleischer'\n\\item 'Ryan Coogler'\n\\item 'S. Craig Zahler'\n\\item 'Sarah Daggar-Nickson'\n\\item 'Sean Anders'\n\\item 'Sebastián Lelio'\n\\item 'Shane Black'\n\\item 'Spike Lee'\n\\item 'Stacie Passon'\n\\item 'Stefano Sollima'\n\\item 'Steve McQueen'\n\\item 'Steven Caple Jr.'\n\\item 'Steven Spielberg'\n\\item 'Susanne Bier'\n\\item 'Thomas Vinterberg'\n\\item 'Travis Knight'\n\\item 'Vince Marcello'\n\\item 'Wayne Roberts'\n\\item 'Xavier Dolan'\n\\item 'Yimou Zhang'\n\\item 'Yorgos Lanthimos'\n\\item 'Zach Lipovsky'\n\\end{enumerate*}\n",
            "text/markdown": "1. Richard Shepard\n2. Anthony Russo\n3. Bryan Singer\n4. Bob Persichetti\n5. James Wan\n6. David Gordon Green\n\n\n\n**Levels**: 1. 'Adam McKay'\n2. 'Alex Garland'\n3. 'Aneesh Chaganty'\n4. 'Anthony Maras'\n5. 'Anthony Russo'\n6. 'Antoine Fuqua'\n7. 'Ari Aster'\n8. 'Baltasar Kormákur'\n9. 'Bill Holderman'\n10. 'Bob Persichetti'\n11. 'Brad Bird'\n12. 'Bradley Cooper'\n13. 'Bryan Singer'\n14. 'Chang-dong Lee'\n15. 'Christian Gudegast'\n16. 'Christian Rivers'\n17. 'Christopher McQuarrie'\n18. 'Claire Denis'\n19. 'Clint Eastwood'\n20. 'Corin Hardy'\n21. 'Damien Chazelle'\n22. 'David Gordon Green'\n23. 'David Leitch'\n24. 'David Robert Mitchell'\n25. 'David Yates'\n26. 'Don Michael Paul'\n27. 'Donovan Marsh'\n28. 'Drew Goddard'\n29. 'Etan Cohen'\n30. 'Ethan Coen'\n31. 'Fede Alvarez'\n32. 'Felix van Groeningen'\n33. 'Florian Henckel von Donnersmarck'\n34. 'Francis Lawrence'\n35. 'Gary Ross'\n36. 'Gaspar Noé'\n37. 'J.A. Bayona'\n38. 'James Wan'\n39. 'Jeff Tomsic'\n40. 'Jeffrey Nachmanoff'\n41. 'Jennifer Kent'\n42. 'Jennifer Yuh Nelson'\n43. 'Joe Penna'\n44. 'John Francis Daley'\n45. 'John Krasinski'\n46. 'Jon M. Chu'\n47. 'Jon Turteltaub'\n48. 'Jonah Hill'\n49. 'Josie Rourke'\n50. 'Julius Avery'\n51. 'Karey Kirkpatrick'\n52. 'Karyn Kusama'\n53. 'Kay Cannon'\n54. 'Kenneth Branagh'\n55. 'Lars von Trier'\n56. 'Lasse Hallström'\n57. 'Leigh Whannell'\n58. 'Luca Guadagnino'\n59. 'Malcolm D. Lee'\n60. 'Michael J. Gallagher'\n61. 'Mimi Leder'\n62. 'Nadine Labaki'\n63. 'Neil Jordan'\n64. 'Nicolai Fuglsig'\n65. 'Ol Parker'\n66. 'Oriol Paulo'\n67. 'Otto Bathurst'\n68. 'Paul Feig'\n69. 'Peter Farrelly'\n70. 'Peter Hedges'\n71. 'Peyton Reed'\n72. 'Phil Johnston'\n73. 'Ralph Fiennes'\n74. 'Richard Shepard'\n75. 'Roar Uthaug'\n76. 'Rob Marshall'\n77. 'Robert Budreau'\n78. 'Ron Howard'\n79. 'Ruben Fleischer'\n80. 'Ryan Coogler'\n81. 'S. Craig Zahler'\n82. 'Sarah Daggar-Nickson'\n83. 'Sean Anders'\n84. 'Sebastián Lelio'\n85. 'Shane Black'\n86. 'Spike Lee'\n87. 'Stacie Passon'\n88. 'Stefano Sollima'\n89. 'Steve McQueen'\n90. 'Steven Caple Jr.'\n91. 'Steven Spielberg'\n92. 'Susanne Bier'\n93. 'Thomas Vinterberg'\n94. 'Travis Knight'\n95. 'Vince Marcello'\n96. 'Wayne Roberts'\n97. 'Xavier Dolan'\n98. 'Yimou Zhang'\n99. 'Yorgos Lanthimos'\n100. 'Zach Lipovsky'\n\n\n",
            "text/html": [
              "<ol class=list-inline>\n",
              "\t<li>Richard Shepard</li>\n",
              "\t<li>Anthony Russo</li>\n",
              "\t<li>Bryan Singer</li>\n",
              "\t<li>Bob Persichetti</li>\n",
              "\t<li>James Wan</li>\n",
              "\t<li>David Gordon Green</li>\n",
              "</ol>\n",
              "\n",
              "<details>\n",
              "\t<summary style=display:list-item;cursor:pointer>\n",
              "\t\t<strong>Levels</strong>:\n",
              "\t</summary>\n",
              "\t<ol class=list-inline>\n",
              "\t\t<li>'Adam McKay'</li>\n",
              "\t\t<li>'Alex Garland'</li>\n",
              "\t\t<li>'Aneesh Chaganty'</li>\n",
              "\t\t<li>'Anthony Maras'</li>\n",
              "\t\t<li>'Anthony Russo'</li>\n",
              "\t\t<li>'Antoine Fuqua'</li>\n",
              "\t\t<li>'Ari Aster'</li>\n",
              "\t\t<li>'Baltasar Kormákur'</li>\n",
              "\t\t<li>'Bill Holderman'</li>\n",
              "\t\t<li>'Bob Persichetti'</li>\n",
              "\t\t<li>'Brad Bird'</li>\n",
              "\t\t<li>'Bradley Cooper'</li>\n",
              "\t\t<li>'Bryan Singer'</li>\n",
              "\t\t<li>'Chang-dong Lee'</li>\n",
              "\t\t<li>'Christian Gudegast'</li>\n",
              "\t\t<li>'Christian Rivers'</li>\n",
              "\t\t<li>'Christopher McQuarrie'</li>\n",
              "\t\t<li>'Claire Denis'</li>\n",
              "\t\t<li>'Clint Eastwood'</li>\n",
              "\t\t<li>'Corin Hardy'</li>\n",
              "\t\t<li>'Damien Chazelle'</li>\n",
              "\t\t<li>'David Gordon Green'</li>\n",
              "\t\t<li>'David Leitch'</li>\n",
              "\t\t<li>'David Robert Mitchell'</li>\n",
              "\t\t<li>'David Yates'</li>\n",
              "\t\t<li>'Don Michael Paul'</li>\n",
              "\t\t<li>'Donovan Marsh'</li>\n",
              "\t\t<li>'Drew Goddard'</li>\n",
              "\t\t<li>'Etan Cohen'</li>\n",
              "\t\t<li>'Ethan Coen'</li>\n",
              "\t\t<li>'Fede Alvarez'</li>\n",
              "\t\t<li>'Felix van Groeningen'</li>\n",
              "\t\t<li>'Florian Henckel von Donnersmarck'</li>\n",
              "\t\t<li>'Francis Lawrence'</li>\n",
              "\t\t<li>'Gary Ross'</li>\n",
              "\t\t<li>'Gaspar Noé'</li>\n",
              "\t\t<li>'J.A. Bayona'</li>\n",
              "\t\t<li>'James Wan'</li>\n",
              "\t\t<li>'Jeff Tomsic'</li>\n",
              "\t\t<li>'Jeffrey Nachmanoff'</li>\n",
              "\t\t<li>'Jennifer Kent'</li>\n",
              "\t\t<li>'Jennifer Yuh Nelson'</li>\n",
              "\t\t<li>'Joe Penna'</li>\n",
              "\t\t<li>'John Francis Daley'</li>\n",
              "\t\t<li>'John Krasinski'</li>\n",
              "\t\t<li>'Jon M. Chu'</li>\n",
              "\t\t<li>'Jon Turteltaub'</li>\n",
              "\t\t<li>'Jonah Hill'</li>\n",
              "\t\t<li>'Josie Rourke'</li>\n",
              "\t\t<li>'Julius Avery'</li>\n",
              "\t\t<li>'Karey Kirkpatrick'</li>\n",
              "\t\t<li>'Karyn Kusama'</li>\n",
              "\t\t<li>'Kay Cannon'</li>\n",
              "\t\t<li>'Kenneth Branagh'</li>\n",
              "\t\t<li>'Lars von Trier'</li>\n",
              "\t\t<li>'Lasse Hallström'</li>\n",
              "\t\t<li>'Leigh Whannell'</li>\n",
              "\t\t<li>'Luca Guadagnino'</li>\n",
              "\t\t<li>'Malcolm D. Lee'</li>\n",
              "\t\t<li>'Michael J. Gallagher'</li>\n",
              "\t\t<li>'Mimi Leder'</li>\n",
              "\t\t<li>'Nadine Labaki'</li>\n",
              "\t\t<li>'Neil Jordan'</li>\n",
              "\t\t<li>'Nicolai Fuglsig'</li>\n",
              "\t\t<li>'Ol Parker'</li>\n",
              "\t\t<li>'Oriol Paulo'</li>\n",
              "\t\t<li>'Otto Bathurst'</li>\n",
              "\t\t<li>'Paul Feig'</li>\n",
              "\t\t<li>'Peter Farrelly'</li>\n",
              "\t\t<li>'Peter Hedges'</li>\n",
              "\t\t<li>'Peyton Reed'</li>\n",
              "\t\t<li>'Phil Johnston'</li>\n",
              "\t\t<li>'Ralph Fiennes'</li>\n",
              "\t\t<li>'Richard Shepard'</li>\n",
              "\t\t<li>'Roar Uthaug'</li>\n",
              "\t\t<li>'Rob Marshall'</li>\n",
              "\t\t<li>'Robert Budreau'</li>\n",
              "\t\t<li>'Ron Howard'</li>\n",
              "\t\t<li>'Ruben Fleischer'</li>\n",
              "\t\t<li>'Ryan Coogler'</li>\n",
              "\t\t<li>'S. Craig Zahler'</li>\n",
              "\t\t<li>'Sarah Daggar-Nickson'</li>\n",
              "\t\t<li>'Sean Anders'</li>\n",
              "\t\t<li>'Sebastián Lelio'</li>\n",
              "\t\t<li>'Shane Black'</li>\n",
              "\t\t<li>'Spike Lee'</li>\n",
              "\t\t<li>'Stacie Passon'</li>\n",
              "\t\t<li>'Stefano Sollima'</li>\n",
              "\t\t<li>'Steve McQueen'</li>\n",
              "\t\t<li>'Steven Caple Jr.'</li>\n",
              "\t\t<li>'Steven Spielberg'</li>\n",
              "\t\t<li>'Susanne Bier'</li>\n",
              "\t\t<li>'Thomas Vinterberg'</li>\n",
              "\t\t<li>'Travis Knight'</li>\n",
              "\t\t<li>'Vince Marcello'</li>\n",
              "\t\t<li>'Wayne Roberts'</li>\n",
              "\t\t<li>'Xavier Dolan'</li>\n",
              "\t\t<li>'Yimou Zhang'</li>\n",
              "\t\t<li>'Yorgos Lanthimos'</li>\n",
              "\t\t<li>'Zach Lipovsky'</li>\n",
              "\t</ol>\n",
              "</details>"
            ]
          },
          "metadata": {
            "tags": []
          }
        }
      ]
    },
    {
      "cell_type": "markdown",
      "metadata": {
        "id": "O3zNiJL2t_qm",
        "colab_type": "text"
      },
      "source": [
        "### 9) Ator:"
      ]
    },
    {
      "cell_type": "code",
      "metadata": {
        "id": "jnjVTV11uAu5",
        "colab_type": "code",
        "colab": {
          "base_uri": "https://localhost:8080/",
          "height": 285
        },
        "outputId": "c4c20c84-0f55-481a-a7a5-4abbf8b4de59"
      },
      "source": [
        "#Using CSS selectors to scrap the actors section\n",
        "actors_data_html <- html_nodes(webpage,'.lister-item-content .ghost+ a')\n",
        "\n",
        "#Converting the gross actors data to text\n",
        "actors_data <- html_text(actors_data_html)\n",
        "\n",
        "#Let's have a look at the actors data\n",
        "head(actors_data)\n",
        "\n",
        "#Data-Preprocessing: converting actors data into factors\n",
        "actors_data<-as.factor(actors_data)\n",
        "\n",
        "\n",
        "#Let's have a look at the actors data\n",
        "head(actors_data)"
      ],
      "execution_count": 24,
      "outputs": [
        {
          "output_type": "display_data",
          "data": {
            "text/plain": [
              "[1] \"Allison Williams\"  \"Robert Downey Jr.\" \"Rami Malek\"       \n",
              "[4] \"Shameik Moore\"     \"Jason Momoa\"       \"Jamie Lee Curtis\" "
            ],
            "text/latex": "\\begin{enumerate*}\n\\item 'Allison Williams'\n\\item 'Robert Downey Jr.'\n\\item 'Rami Malek'\n\\item 'Shameik Moore'\n\\item 'Jason Momoa'\n\\item 'Jamie Lee Curtis'\n\\end{enumerate*}\n",
            "text/markdown": "1. 'Allison Williams'\n2. 'Robert Downey Jr.'\n3. 'Rami Malek'\n4. 'Shameik Moore'\n5. 'Jason Momoa'\n6. 'Jamie Lee Curtis'\n\n\n",
            "text/html": [
              "<ol class=list-inline>\n",
              "\t<li>'Allison Williams'</li>\n",
              "\t<li>'Robert Downey Jr.'</li>\n",
              "\t<li>'Rami Malek'</li>\n",
              "\t<li>'Shameik Moore'</li>\n",
              "\t<li>'Jason Momoa'</li>\n",
              "\t<li>'Jamie Lee Curtis'</li>\n",
              "</ol>\n"
            ]
          },
          "metadata": {
            "tags": []
          }
        },
        {
          "output_type": "display_data",
          "data": {
            "text/plain": [
              "[1] Allison Williams  Robert Downey Jr. Rami Malek        Shameik Moore    \n",
              "[5] Jason Momoa       Jamie Lee Curtis \n",
              "97 Levels: Adriana Ugarte Ah-in Yoo Alden Ehrenreich ... Zain Al Rafeea"
            ],
            "text/latex": "\\begin{enumerate*}\n\\item Allison Williams\n\\item Robert Downey Jr.\n\\item Rami Malek\n\\item Shameik Moore\n\\item Jason Momoa\n\\item Jamie Lee Curtis\n\\end{enumerate*}\n\n\\emph{Levels}: \\begin{enumerate*}\n\\item 'Adriana Ugarte'\n\\item 'Ah-in Yoo'\n\\item 'Alden Ehrenreich'\n\\item 'Alicia Vikander'\n\\item 'Allison Williams'\n\\item 'Amandla Stenberg'\n\\item 'Andrew Garfield'\n\\item 'Anna Kendrick'\n\\item 'Benicio Del Toro'\n\\item 'Boyd Holbrook'\n\\item 'Chadwick Boseman'\n\\item 'Channing Tatum'\n\\item 'Chao Deng'\n\\item 'Chloë Grace Moretz'\n\\item 'Chris Hemsworth'\n\\item 'Chris Pratt'\n\\item 'Christian Bale'\n\\item 'Claire Foy'\n\\item 'Clint Eastwood'\n\\item 'Constance Wu'\n\\item 'Craig T. Nelson'\n\\item 'Demián Bichir'\n\\item 'Denzel Washington'\n\\item 'Dev Patel'\n\\item 'Diane Keaton'\n\\item 'Eddie Redmayne'\n\\item 'Emile Hirsch'\n\\item 'Emily Blunt'\n\\item 'Felicity Jones'\n\\item 'Gerard Butler'\n\\item 'Hailee Steinfeld'\n\\item 'Hera Hilmar'\n\\item 'Isabelle Huppert'\n\\item 'Jamie Lee Curtis'\n\\item 'Jason Bateman'\n\\item 'Jason Momoa'\n\\item 'Jason Statham'\n\\item 'Jeff Bridges'\n\\item 'Jennifer Lawrence'\n\\item 'Jeremy Renner'\n\\item 'Joey King'\n\\item 'John C. Reilly'\n\\item 'John Cho'\n\\item 'John David Washington'\n\\item 'Johnny Depp'\n\\item 'Jovan Adepo'\n\\item 'Julia Roberts'\n\\item 'Keanu Reeves'\n\\item 'Kenneth Branagh'\n\\item 'Kevin Hart'\n\\item 'Kit Harington'\n\\item 'Lady Gaga'\n\\item 'Leslie Mann'\n\\item 'Lily James'\n\\item 'Logan Marshall-Green'\n\\item 'Mackenzie Foy'\n\\item 'Mads Mikkelsen'\n\\item 'Mark Wahlberg'\n\\item 'Matt Dillon'\n\\item 'Matthew Glave'\n\\item 'Matthias Schoenaerts'\n\\item 'Mel Gibson'\n\\item 'Michael B. Jordan'\n\\item 'Natalie Portman'\n\\item 'Nicole Kidman'\n\\item 'Noomi Rapace'\n\\item 'Oleg Ivenko'\n\\item 'Olivia Colman'\n\\item 'Olivia Wilde'\n\\item 'Paul Rudd'\n\\item 'Rami Malek'\n\\item 'Robert Downey Jr.'\n\\item 'Robert Pattinson'\n\\item 'Ryan Gosling'\n\\item 'Ryan Reynolds'\n\\item 'Sam Claflin'\n\\item 'Sandra Bullock'\n\\item 'Saoirse Ronan'\n\\item 'Sean Astin'\n\\item 'Shailene Woodley'\n\\item 'Shameik Moore'\n\\item 'Sofia Boutella'\n\\item 'Steve Carell'\n\\item 'Sunny Suljic'\n\\item 'Taissa Farmiga'\n\\item 'Taron Egerton'\n\\item 'Tim Blake Nelson'\n\\item 'Tom Cruise'\n\\item 'Tom Hardy'\n\\item 'Tom Schilling'\n\\item 'Toni Collette'\n\\item 'Tye Sheridan'\n\\item 'Viggo Mortensen'\n\\item 'Viola Davis'\n\\item 'Will Ferrell'\n\\item 'Zach McGowan'\n\\item 'Zain Al Rafeea'\n\\end{enumerate*}\n",
            "text/markdown": "1. Allison Williams\n2. Robert Downey Jr.\n3. Rami Malek\n4. Shameik Moore\n5. Jason Momoa\n6. Jamie Lee Curtis\n\n\n\n**Levels**: 1. 'Adriana Ugarte'\n2. 'Ah-in Yoo'\n3. 'Alden Ehrenreich'\n4. 'Alicia Vikander'\n5. 'Allison Williams'\n6. 'Amandla Stenberg'\n7. 'Andrew Garfield'\n8. 'Anna Kendrick'\n9. 'Benicio Del Toro'\n10. 'Boyd Holbrook'\n11. 'Chadwick Boseman'\n12. 'Channing Tatum'\n13. 'Chao Deng'\n14. 'Chloë Grace Moretz'\n15. 'Chris Hemsworth'\n16. 'Chris Pratt'\n17. 'Christian Bale'\n18. 'Claire Foy'\n19. 'Clint Eastwood'\n20. 'Constance Wu'\n21. 'Craig T. Nelson'\n22. 'Demián Bichir'\n23. 'Denzel Washington'\n24. 'Dev Patel'\n25. 'Diane Keaton'\n26. 'Eddie Redmayne'\n27. 'Emile Hirsch'\n28. 'Emily Blunt'\n29. 'Felicity Jones'\n30. 'Gerard Butler'\n31. 'Hailee Steinfeld'\n32. 'Hera Hilmar'\n33. 'Isabelle Huppert'\n34. 'Jamie Lee Curtis'\n35. 'Jason Bateman'\n36. 'Jason Momoa'\n37. 'Jason Statham'\n38. 'Jeff Bridges'\n39. 'Jennifer Lawrence'\n40. 'Jeremy Renner'\n41. 'Joey King'\n42. 'John C. Reilly'\n43. 'John Cho'\n44. 'John David Washington'\n45. 'Johnny Depp'\n46. 'Jovan Adepo'\n47. 'Julia Roberts'\n48. 'Keanu Reeves'\n49. 'Kenneth Branagh'\n50. 'Kevin Hart'\n51. 'Kit Harington'\n52. 'Lady Gaga'\n53. 'Leslie Mann'\n54. 'Lily James'\n55. 'Logan Marshall-Green'\n56. 'Mackenzie Foy'\n57. 'Mads Mikkelsen'\n58. 'Mark Wahlberg'\n59. 'Matt Dillon'\n60. 'Matthew Glave'\n61. 'Matthias Schoenaerts'\n62. 'Mel Gibson'\n63. 'Michael B. Jordan'\n64. 'Natalie Portman'\n65. 'Nicole Kidman'\n66. 'Noomi Rapace'\n67. 'Oleg Ivenko'\n68. 'Olivia Colman'\n69. 'Olivia Wilde'\n70. 'Paul Rudd'\n71. 'Rami Malek'\n72. 'Robert Downey Jr.'\n73. 'Robert Pattinson'\n74. 'Ryan Gosling'\n75. 'Ryan Reynolds'\n76. 'Sam Claflin'\n77. 'Sandra Bullock'\n78. 'Saoirse Ronan'\n79. 'Sean Astin'\n80. 'Shailene Woodley'\n81. 'Shameik Moore'\n82. 'Sofia Boutella'\n83. 'Steve Carell'\n84. 'Sunny Suljic'\n85. 'Taissa Farmiga'\n86. 'Taron Egerton'\n87. 'Tim Blake Nelson'\n88. 'Tom Cruise'\n89. 'Tom Hardy'\n90. 'Tom Schilling'\n91. 'Toni Collette'\n92. 'Tye Sheridan'\n93. 'Viggo Mortensen'\n94. 'Viola Davis'\n95. 'Will Ferrell'\n96. 'Zach McGowan'\n97. 'Zain Al Rafeea'\n\n\n",
            "text/html": [
              "<ol class=list-inline>\n",
              "\t<li>Allison Williams</li>\n",
              "\t<li>Robert Downey Jr.</li>\n",
              "\t<li>Rami Malek</li>\n",
              "\t<li>Shameik Moore</li>\n",
              "\t<li>Jason Momoa</li>\n",
              "\t<li>Jamie Lee Curtis</li>\n",
              "</ol>\n",
              "\n",
              "<details>\n",
              "\t<summary style=display:list-item;cursor:pointer>\n",
              "\t\t<strong>Levels</strong>:\n",
              "\t</summary>\n",
              "\t<ol class=list-inline>\n",
              "\t\t<li>'Adriana Ugarte'</li>\n",
              "\t\t<li>'Ah-in Yoo'</li>\n",
              "\t\t<li>'Alden Ehrenreich'</li>\n",
              "\t\t<li>'Alicia Vikander'</li>\n",
              "\t\t<li>'Allison Williams'</li>\n",
              "\t\t<li>'Amandla Stenberg'</li>\n",
              "\t\t<li>'Andrew Garfield'</li>\n",
              "\t\t<li>'Anna Kendrick'</li>\n",
              "\t\t<li>'Benicio Del Toro'</li>\n",
              "\t\t<li>'Boyd Holbrook'</li>\n",
              "\t\t<li>'Chadwick Boseman'</li>\n",
              "\t\t<li>'Channing Tatum'</li>\n",
              "\t\t<li>'Chao Deng'</li>\n",
              "\t\t<li>'Chloë Grace Moretz'</li>\n",
              "\t\t<li>'Chris Hemsworth'</li>\n",
              "\t\t<li>'Chris Pratt'</li>\n",
              "\t\t<li>'Christian Bale'</li>\n",
              "\t\t<li>'Claire Foy'</li>\n",
              "\t\t<li>'Clint Eastwood'</li>\n",
              "\t\t<li>'Constance Wu'</li>\n",
              "\t\t<li>'Craig T. Nelson'</li>\n",
              "\t\t<li>'Demián Bichir'</li>\n",
              "\t\t<li>'Denzel Washington'</li>\n",
              "\t\t<li>'Dev Patel'</li>\n",
              "\t\t<li>'Diane Keaton'</li>\n",
              "\t\t<li>'Eddie Redmayne'</li>\n",
              "\t\t<li>'Emile Hirsch'</li>\n",
              "\t\t<li>'Emily Blunt'</li>\n",
              "\t\t<li>'Felicity Jones'</li>\n",
              "\t\t<li>'Gerard Butler'</li>\n",
              "\t\t<li>'Hailee Steinfeld'</li>\n",
              "\t\t<li>'Hera Hilmar'</li>\n",
              "\t\t<li>'Isabelle Huppert'</li>\n",
              "\t\t<li>'Jamie Lee Curtis'</li>\n",
              "\t\t<li>'Jason Bateman'</li>\n",
              "\t\t<li>'Jason Momoa'</li>\n",
              "\t\t<li>'Jason Statham'</li>\n",
              "\t\t<li>'Jeff Bridges'</li>\n",
              "\t\t<li>'Jennifer Lawrence'</li>\n",
              "\t\t<li>'Jeremy Renner'</li>\n",
              "\t\t<li>'Joey King'</li>\n",
              "\t\t<li>'John C. Reilly'</li>\n",
              "\t\t<li>'John Cho'</li>\n",
              "\t\t<li>'John David Washington'</li>\n",
              "\t\t<li>'Johnny Depp'</li>\n",
              "\t\t<li>'Jovan Adepo'</li>\n",
              "\t\t<li>'Julia Roberts'</li>\n",
              "\t\t<li>'Keanu Reeves'</li>\n",
              "\t\t<li>'Kenneth Branagh'</li>\n",
              "\t\t<li>'Kevin Hart'</li>\n",
              "\t\t<li>'Kit Harington'</li>\n",
              "\t\t<li>'Lady Gaga'</li>\n",
              "\t\t<li>'Leslie Mann'</li>\n",
              "\t\t<li>'Lily James'</li>\n",
              "\t\t<li>'Logan Marshall-Green'</li>\n",
              "\t\t<li>'Mackenzie Foy'</li>\n",
              "\t\t<li>'Mads Mikkelsen'</li>\n",
              "\t\t<li>'Mark Wahlberg'</li>\n",
              "\t\t<li>'Matt Dillon'</li>\n",
              "\t\t<li>'Matthew Glave'</li>\n",
              "\t\t<li>'Matthias Schoenaerts'</li>\n",
              "\t\t<li>'Mel Gibson'</li>\n",
              "\t\t<li>'Michael B. Jordan'</li>\n",
              "\t\t<li>'Natalie Portman'</li>\n",
              "\t\t<li>'Nicole Kidman'</li>\n",
              "\t\t<li>'Noomi Rapace'</li>\n",
              "\t\t<li>'Oleg Ivenko'</li>\n",
              "\t\t<li>'Olivia Colman'</li>\n",
              "\t\t<li>'Olivia Wilde'</li>\n",
              "\t\t<li>'Paul Rudd'</li>\n",
              "\t\t<li>'Rami Malek'</li>\n",
              "\t\t<li>'Robert Downey Jr.'</li>\n",
              "\t\t<li>'Robert Pattinson'</li>\n",
              "\t\t<li>'Ryan Gosling'</li>\n",
              "\t\t<li>'Ryan Reynolds'</li>\n",
              "\t\t<li>'Sam Claflin'</li>\n",
              "\t\t<li>'Sandra Bullock'</li>\n",
              "\t\t<li>'Saoirse Ronan'</li>\n",
              "\t\t<li>'Sean Astin'</li>\n",
              "\t\t<li>'Shailene Woodley'</li>\n",
              "\t\t<li>'Shameik Moore'</li>\n",
              "\t\t<li>'Sofia Boutella'</li>\n",
              "\t\t<li>'Steve Carell'</li>\n",
              "\t\t<li>'Sunny Suljic'</li>\n",
              "\t\t<li>'Taissa Farmiga'</li>\n",
              "\t\t<li>'Taron Egerton'</li>\n",
              "\t\t<li>'Tim Blake Nelson'</li>\n",
              "\t\t<li>'Tom Cruise'</li>\n",
              "\t\t<li>'Tom Hardy'</li>\n",
              "\t\t<li>'Tom Schilling'</li>\n",
              "\t\t<li>'Toni Collette'</li>\n",
              "\t\t<li>'Tye Sheridan'</li>\n",
              "\t\t<li>'Viggo Mortensen'</li>\n",
              "\t\t<li>'Viola Davis'</li>\n",
              "\t\t<li>'Will Ferrell'</li>\n",
              "\t\t<li>'Zach McGowan'</li>\n",
              "\t\t<li>'Zain Al Rafeea'</li>\n",
              "\t</ol>\n",
              "</details>"
            ]
          },
          "metadata": {
            "tags": []
          }
        }
      ]
    },
    {
      "cell_type": "markdown",
      "metadata": {
        "id": "lx35xf2Ku3Aq",
        "colab_type": "text"
      },
      "source": [
        "## Estruturando os dados"
      ]
    },
    {
      "cell_type": "code",
      "metadata": {
        "id": "9SBhnmGdu2oL",
        "colab_type": "code",
        "colab": {
          "base_uri": "https://localhost:8080/",
          "height": 312
        },
        "outputId": "52f846e0-6333-4cb4-8084-7d92ccb37e38"
      },
      "source": [
        "#Combining all the lists to form a data frame\n",
        "movies_df<-data.frame(Rank = rank_data, Title = title_data, \n",
        "                      Description = description_data, Runtime = runtime_data,\n",
        "                      Genre = genre_data, Rating = rating_data,\n",
        "                      Votes = votes_data, Director = directors_data, \n",
        "                      Actor = actors_data)\n",
        "\n",
        "head(movies_df)\n",
        "write.csv(file='movies.csv', x=movies_df)"
      ],
      "execution_count": 29,
      "outputs": [
        {
          "output_type": "display_data",
          "data": {
            "text/plain": [
              "  Rank Title                            \n",
              "1 1    The Perfection                   \n",
              "2 2    Avengers: Infinity War           \n",
              "3 3    Bohemian Rhapsody                \n",
              "4 4    Spider-Man: Into the Spider-Verse\n",
              "5 5    Aquaman                          \n",
              "6 6    Halloween                        \n",
              "  Description                                                                                                                                                                                                                      \n",
              "1     When troubled musical prodigy Charlotte (Allison Williams) seeks out Elizabeth (Logan Browning), the new star pupil of her former school, the encounter sends both musicians down a sinister path with shocking consequences.\n",
              "2     The Avengers and their allies must be willing to sacrifice all in an attempt to defeat the powerful Thanos before his blitz of devastation and ruin puts an end to the universe.                                             \n",
              "3     The story of the legendary rock band Queen and lead singer Freddie Mercury, leading up to their famous performance at Live Aid (1985).                                                                                       \n",
              "4     Teen Miles Morales becomes Spider-Man of his reality, crossing his path with five counterparts from other dimensions to stop a threat for all realities.                                                                     \n",
              "5     Arthur Curry, the human-born heir to the underwater kingdom of Atlantis, goes on a quest to prevent a war between the worlds of ocean and land.                                                                              \n",
              "6     Laurie Strode confronts her long-time foe Michael Myers, the masked figure who has haunted her since she narrowly escaped his killing spree on Halloween night four decades ago.                                             \n",
              "  Runtime Genre     Rating Votes  Director           Actor            \n",
              "1  90     Drama     6.2     10790 Richard Shepard    Allison Williams \n",
              "2 149     Action    8.5    667444 Anthony Russo      Robert Downey Jr.\n",
              "3 134     Biography 8.1    342646 Bryan Singer       Rami Malek       \n",
              "4 117     Animation 8.5    208023 Bob Persichetti    Shameik Moore    \n",
              "5 143     Action    7.1    260421 James Wan          Jason Momoa      \n",
              "6 106     Horror    6.6     87678 David Gordon Green Jamie Lee Curtis "
            ],
            "text/latex": "A data.frame: 6 × 9\n\\begin{tabular}{r|lllllllll}\n Rank & Title & Description & Runtime & Genre & Rating & Votes & Director & Actor\\\\\n <dbl> & <fct> & <fct> & <dbl> & <fct> & <dbl> & <dbl> & <fct> & <fct>\\\\\n\\hline\n\t 1 & The Perfection                    &     When troubled musical prodigy Charlotte (Allison Williams) seeks out Elizabeth (Logan Browning), the new star pupil of her former school, the encounter sends both musicians down a sinister path with shocking consequences. &  90 & Drama     & 6.2 &  10790 & Richard Shepard    & Allison Williams \\\\\n\t 2 & Avengers: Infinity War            &     The Avengers and their allies must be willing to sacrifice all in an attempt to defeat the powerful Thanos before his blitz of devastation and ruin puts an end to the universe.                                              & 149 & Action    & 8.5 & 667444 & Anthony Russo      & Robert Downey Jr.\\\\\n\t 3 & Bohemian Rhapsody                 &     The story of the legendary rock band Queen and lead singer Freddie Mercury, leading up to their famous performance at Live Aid (1985).                                                                                        & 134 & Biography & 8.1 & 342646 & Bryan Singer       & Rami Malek       \\\\\n\t 4 & Spider-Man: Into the Spider-Verse &     Teen Miles Morales becomes Spider-Man of his reality, crossing his path with five counterparts from other dimensions to stop a threat for all realities.                                                                      & 117 & Animation & 8.5 & 208023 & Bob Persichetti    & Shameik Moore    \\\\\n\t 5 & Aquaman                           &     Arthur Curry, the human-born heir to the underwater kingdom of Atlantis, goes on a quest to prevent a war between the worlds of ocean and land.                                                                               & 143 & Action    & 7.1 & 260421 & James Wan          & Jason Momoa      \\\\\n\t 6 & Halloween                         &     Laurie Strode confronts her long-time foe Michael Myers, the masked figure who has haunted her since she narrowly escaped his killing spree on Halloween night four decades ago.                                              & 106 & Horror    & 6.6 &  87678 & David Gordon Green & Jamie Lee Curtis \\\\\n\\end{tabular}\n",
            "text/markdown": "\nA data.frame: 6 × 9\n\n| Rank &lt;dbl&gt; | Title &lt;fct&gt; | Description &lt;fct&gt; | Runtime &lt;dbl&gt; | Genre &lt;fct&gt; | Rating &lt;dbl&gt; | Votes &lt;dbl&gt; | Director &lt;fct&gt; | Actor &lt;fct&gt; |\n|---|---|---|---|---|---|---|---|---|\n| 1 | The Perfection                    |     When troubled musical prodigy Charlotte (Allison Williams) seeks out Elizabeth (Logan Browning), the new star pupil of her former school, the encounter sends both musicians down a sinister path with shocking consequences. |  90 | Drama     | 6.2 |  10790 | Richard Shepard    | Allison Williams  |\n| 2 | Avengers: Infinity War            |     The Avengers and their allies must be willing to sacrifice all in an attempt to defeat the powerful Thanos before his blitz of devastation and ruin puts an end to the universe.                                              | 149 | Action    | 8.5 | 667444 | Anthony Russo      | Robert Downey Jr. |\n| 3 | Bohemian Rhapsody                 |     The story of the legendary rock band Queen and lead singer Freddie Mercury, leading up to their famous performance at Live Aid (1985).                                                                                        | 134 | Biography | 8.1 | 342646 | Bryan Singer       | Rami Malek        |\n| 4 | Spider-Man: Into the Spider-Verse |     Teen Miles Morales becomes Spider-Man of his reality, crossing his path with five counterparts from other dimensions to stop a threat for all realities.                                                                      | 117 | Animation | 8.5 | 208023 | Bob Persichetti    | Shameik Moore     |\n| 5 | Aquaman                           |     Arthur Curry, the human-born heir to the underwater kingdom of Atlantis, goes on a quest to prevent a war between the worlds of ocean and land.                                                                               | 143 | Action    | 7.1 | 260421 | James Wan          | Jason Momoa       |\n| 6 | Halloween                         |     Laurie Strode confronts her long-time foe Michael Myers, the masked figure who has haunted her since she narrowly escaped his killing spree on Halloween night four decades ago.                                              | 106 | Horror    | 6.6 |  87678 | David Gordon Green | Jamie Lee Curtis  |\n\n",
            "text/html": [
              "<table>\n",
              "<caption>A data.frame: 6 × 9</caption>\n",
              "<thead>\n",
              "\t<tr><th scope=col>Rank</th><th scope=col>Title</th><th scope=col>Description</th><th scope=col>Runtime</th><th scope=col>Genre</th><th scope=col>Rating</th><th scope=col>Votes</th><th scope=col>Director</th><th scope=col>Actor</th></tr>\n",
              "\t<tr><th scope=col>&lt;dbl&gt;</th><th scope=col>&lt;fct&gt;</th><th scope=col>&lt;fct&gt;</th><th scope=col>&lt;dbl&gt;</th><th scope=col>&lt;fct&gt;</th><th scope=col>&lt;dbl&gt;</th><th scope=col>&lt;dbl&gt;</th><th scope=col>&lt;fct&gt;</th><th scope=col>&lt;fct&gt;</th></tr>\n",
              "</thead>\n",
              "<tbody>\n",
              "\t<tr><td>1</td><td>The Perfection                   </td><td>    When troubled musical prodigy Charlotte (Allison Williams) seeks out Elizabeth (Logan Browning), the new star pupil of her former school, the encounter sends both musicians down a sinister path with shocking consequences.</td><td> 90</td><td>Drama    </td><td>6.2</td><td> 10790</td><td>Richard Shepard   </td><td>Allison Williams </td></tr>\n",
              "\t<tr><td>2</td><td>Avengers: Infinity War           </td><td>    The Avengers and their allies must be willing to sacrifice all in an attempt to defeat the powerful Thanos before his blitz of devastation and ruin puts an end to the universe.                                             </td><td>149</td><td>Action   </td><td>8.5</td><td>667444</td><td>Anthony Russo     </td><td>Robert Downey Jr.</td></tr>\n",
              "\t<tr><td>3</td><td>Bohemian Rhapsody                </td><td>    The story of the legendary rock band Queen and lead singer Freddie Mercury, leading up to their famous performance at Live Aid (1985).                                                                                       </td><td>134</td><td>Biography</td><td>8.1</td><td>342646</td><td>Bryan Singer      </td><td>Rami Malek       </td></tr>\n",
              "\t<tr><td>4</td><td>Spider-Man: Into the Spider-Verse</td><td>    Teen Miles Morales becomes Spider-Man of his reality, crossing his path with five counterparts from other dimensions to stop a threat for all realities.                                                                     </td><td>117</td><td>Animation</td><td>8.5</td><td>208023</td><td>Bob Persichetti   </td><td>Shameik Moore    </td></tr>\n",
              "\t<tr><td>5</td><td>Aquaman                          </td><td>    Arthur Curry, the human-born heir to the underwater kingdom of Atlantis, goes on a quest to prevent a war between the worlds of ocean and land.                                                                              </td><td>143</td><td>Action   </td><td>7.1</td><td>260421</td><td>James Wan         </td><td>Jason Momoa      </td></tr>\n",
              "\t<tr><td>6</td><td>Halloween                        </td><td>    Laurie Strode confronts her long-time foe Michael Myers, the masked figure who has haunted her since she narrowly escaped his killing spree on Halloween night four decades ago.                                             </td><td>106</td><td>Horror   </td><td>6.6</td><td> 87678</td><td>David Gordon Green</td><td>Jamie Lee Curtis </td></tr>\n",
              "</tbody>\n",
              "</table>\n"
            ]
          },
          "metadata": {
            "tags": []
          }
        }
      ]
    },
    {
      "cell_type": "code",
      "metadata": {
        "id": "TuXFzBmZvEYf",
        "colab_type": "code",
        "colab": {
          "base_uri": "https://localhost:8080/",
          "height": 857
        },
        "outputId": "b933d12e-a8ba-4bb7-d457-f3018216a75c"
      },
      "source": [
        "qplot(data = movies_df,Runtime,fill = Genre,bins = 30)"
      ],
      "execution_count": 27,
      "outputs": [
        {
          "output_type": "display_data",
          "data": {
            "image/png": "[encoded data removed]",
            "text/plain": [
              "plot without title"
            ]
          },
          "metadata": {
            "tags": []
          }
        }
      ]
    },
    {
      "cell_type": "code",
      "metadata": {
        "id": "TYJwYazRvjum",
        "colab_type": "code",
        "colab": {
          "base_uri": "https://localhost:8080/",
          "height": 857
        },
        "outputId": "edb3460e-e349-4380-ea6f-a355c1956a6d"
      },
      "source": [
        "ggplot(movies_df,aes(x=Runtime,y=Rating))+\n",
        "geom_point(aes(size=Votes,col=Genre))"
      ],
      "execution_count": 28,
      "outputs": [
        {
          "output_type": "display_data",
          "data": {
            "image/png": "[encoded data removed]",
            "text/plain": [
              "plot without title"
            ]
          },
          "metadata": {
            "tags": []
          }
        }
      ]
    }
  ]
}