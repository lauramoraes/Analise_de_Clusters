{
  "nbformat": 4,
  "nbformat_minor": 0,
  "metadata": {
    "colab": {
      "name": "Ex 5 - Clusterização e avaliação.ipynb",
      "version": "0.3.2",
      "provenance": [],
      "include_colab_link": true
    },
    "language_info": {
      "codemirror_mode": "r",
      "file_extension": ".r",
      "mimetype": "text/x-r-source",
      "name": "R",
      "pygments_lexer": "r",
      "version": "3.5.1"
    },
    "kernelspec": {
      "display_name": "R",
      "language": "R",
      "name": "ir"
    }
  },
  "cells": [
    {
      "cell_type": "markdown",
      "metadata": {
        "id": "view-in-github",
        "colab_type": "text"
      },
      "source": [
        "<a href=\"https://colab.research.google.com/github/lauramoraes/Analise_de_Clusters/blob/master/Ex_5_Clusteriza%C3%A7%C3%A3o_e_avalia%C3%A7%C3%A3o.ipynb\" target=\"_parent\"><img src=\"https://colab.research.google.com/assets/colab-badge.svg\" alt=\"Open In Colab\"/></a>"
      ]
    },
    {
      "cell_type": "markdown",
      "metadata": {
        "id": "2ax1wW1bqsNP",
        "colab_type": "text"
      },
      "source": [
        "# Clusterização\n"
      ]
    },
    {
      "cell_type": "markdown",
      "metadata": {
        "id": "WBU1VCsAqsNU",
        "colab_type": "text"
      },
      "source": [
        "### Importando bibliotecas a serem usadas"
      ]
    },
    {
      "cell_type": "code",
      "metadata": {
        "id": "X66BM1SWgf0N",
        "colab_type": "code",
        "outputId": "2a969ea9-0965-4899-8409-5ea2d6a2196c",
        "colab": {
          "base_uri": "https://localhost:8080/",
          "height": 87
        }
      },
      "source": [
        "install.packages(\"proxy\")\n",
        "install.packages(\"gdata\")"
      ],
      "execution_count": 0,
      "outputs": [
        {
          "output_type": "stream",
          "text": [
            "Installing package into ‘/usr/local/lib/R/site-library’\n",
            "(as ‘lib’ is unspecified)\n",
            "Installing package into ‘/usr/local/lib/R/site-library’\n",
            "(as ‘lib’ is unspecified)\n"
          ],
          "name": "stderr"
        }
      ]
    },
    {
      "cell_type": "code",
      "metadata": {
        "id": "Er2PmKaBqsNX",
        "colab_type": "code",
        "colab": {}
      },
      "source": [
        "suppressMessages(suppressWarnings(library(tidyverse)))\n",
        "suppressMessages(suppressWarnings(library(proxy)))\n",
        "suppressMessages(suppressWarnings(library(gdata)))"
      ],
      "execution_count": 0,
      "outputs": []
    },
    {
      "cell_type": "markdown",
      "metadata": {
        "id": "aU3O09tQqsNt",
        "colab_type": "text"
      },
      "source": [
        "### Carregando os dados salvos anteriormente"
      ]
    },
    {
      "cell_type": "code",
      "metadata": {
        "id": "z7eXqEyrqsNw",
        "colab_type": "code",
        "outputId": "926782d3-b40f-443a-9af5-0a2f45bc6c78",
        "colab": {
          "base_uri": "https://localhost:8080/",
          "height": 111
        }
      },
      "source": [
        "list.files()"
      ],
      "execution_count": 0,
      "outputs": [
        {
          "output_type": "display_data",
          "data": {
            "text/plain": [
              "[1] \"data_cleaned.Rdata\" \"data_names.Rdata\"   \"data_onehot.Rdata\" \n",
              "[4] \"sample_data\"       "
            ],
            "text/latex": "\\begin{enumerate*}\n\\item 'data\\_cleaned.Rdata'\n\\item 'data\\_names.Rdata'\n\\item 'data\\_onehot.Rdata'\n\\item 'sample\\_data'\n\\end{enumerate*}\n",
            "text/markdown": "1. 'data_cleaned.Rdata'\n2. 'data_names.Rdata'\n3. 'data_onehot.Rdata'\n4. 'sample_data'\n\n\n",
            "text/html": [
              "<ol class=list-inline>\n",
              "\t<li>'data_cleaned.Rdata'</li>\n",
              "\t<li>'data_names.Rdata'</li>\n",
              "\t<li>'data_onehot.Rdata'</li>\n",
              "\t<li>'sample_data'</li>\n",
              "</ol>\n"
            ]
          },
          "metadata": {
            "tags": []
          }
        }
      ]
    },
    {
      "cell_type": "code",
      "metadata": {
        "id": "_93wCJQ1qsN6",
        "colab_type": "code",
        "outputId": "629c21d7-1be3-408c-85ac-35f75c5c7c27",
        "colab": {
          "base_uri": "https://localhost:8080/",
          "height": 226
        }
      },
      "source": [
        "vars = load(\"data_names.Rdata\")\n",
        "vars\n",
        "vars = load(\"data_cleaned.Rdata\")\n",
        "vars\n",
        "vars = load(\"data_onehot.Rdata\")\n",
        "vars\n",
        "head(data_cleaned)"
      ],
      "execution_count": 0,
      "outputs": [
        {
          "output_type": "display_data",
          "data": {
            "text/plain": [
              "[1] \"data_names\""
            ],
            "text/latex": "'data\\_names'",
            "text/markdown": "'data_names'",
            "text/html": [
              "'data_names'"
            ]
          },
          "metadata": {
            "tags": []
          }
        },
        {
          "output_type": "display_data",
          "data": {
            "text/plain": [
              "[1] \"data_cleaned\""
            ],
            "text/latex": "'data\\_cleaned'",
            "text/markdown": "'data_cleaned'",
            "text/html": [
              "'data_cleaned'"
            ]
          },
          "metadata": {
            "tags": []
          }
        },
        {
          "output_type": "display_data",
          "data": {
            "text/plain": [
              "[1] \"data_onehot\""
            ],
            "text/latex": "'data\\_onehot'",
            "text/markdown": "'data_onehot'",
            "text/html": [
              "'data_onehot'"
            ]
          },
          "metadata": {
            "tags": []
          }
        },
        {
          "output_type": "display_data",
          "data": {
            "text/plain": [
              "  wyne yellow v.pale pale p.gold gold o.gold f.gold bronze p.amber ⋯ DISTRICT\n",
              "1 0    1      0      0    0      0    0      0      0      0       ⋯ MIDLAND \n",
              "2 0    0      0      0    0      0    0      0      0      0       ⋯ SPEY    \n",
              "3 0    0      0      0    0      0    0      0      0      0       ⋯ SOUTH   \n",
              "4 0    0      0      0    1      0    0      0      0      0       ⋯ SPEY    \n",
              "5 0    0      0      0    1      0    0      0      0      0       ⋯ WEST    \n",
              "6 0    0      1      0    0      0    0      0      0      0       ⋯ SPEY    \n",
              "  islay midland spey east west north lowland campbell islands\n",
              "1 0     1       0    0    0    0     0       0        0      \n",
              "2 0     0       1    0    0    0     0       0        0      \n",
              "3 1     0       0    0    0    0     0       0        0      \n",
              "4 0     0       1    0    0    0     0       0        0      \n",
              "5 0     0       0    0    0    0     1       0        0      \n",
              "6 0     0       1    0    0    0     0       0        0      "
            ],
            "text/latex": "A data.frame: 6 × 82\n\\begin{tabular}{r|llllllllllllllllllllllllllllllllllllllllllllllllllllllllllllllllllllllllllllllllll}\n wyne & yellow & v.pale & pale & p.gold & gold & o.gold & f.gold & bronze & p.amber & amber & f.amber & red & sherry & AROMA & PEAT & SWEET & LIGHT & FRESH & DRY & FRUIT & GRASS & SEA & SHERRY & SPICY & RICH & soft & med & full & round & smooth & light & firm & oily & full.1 & dry & sherry.1 & big & light.1 & smooth.1 & clean & fruit & grass & smoke & sweet & spice & oil & salt & arome & full.2 & dry.1 & warm & big.1 & light.2 & smooth.2 & clean.1 & fruit.1 & grass.1 & smoke.1 & sweet.1 & spice.1 & oil.1 & salt.1 & arome.1 & ling & long & very & quick & AGE & DIST & SCORE & REGION & DISTRICT & islay & midland & spey & east & west & north & lowland & campbell & islands\\\\\n <int> & <int> & <int> & <int> & <int> & <int> & <int> & <int> & <int> & <int> & <int> & <int> & <int> & <int> & <int> & <int> & <int> & <int> & <int> & <int> & <int> & <int> & <int> & <int> & <int> & <int> & <int> & <int> & <int> & <int> & <int> & <int> & <int> & <int> & <int> & <int> & <int> & <int> & <int> & <int> & <int> & <int> & <int> & <int> & <int> & <int> & <int> & <int> & <int> & <int> & <int> & <int> & <int> & <int> & <int> & <int> & <int> & <int> & <int> & <int> & <int> & <int> & <int> & <int> & <int> & <int> & <int> & <int> & <int> & <int> & <int> & <fct> & <fct> & <int> & <int> & <int> & <int> & <int> & <int> & <int> & <int> & <int>\\\\\n\\hline\n\t 0 & 1 & 0 & 0 & 0 & 0 & 0 & 0 & 0 & 0 & 0 & 0 & 0 & 0 & 1 & 1 & 0 & 0 & 0 & 0 & 1 & 0 & 0 & 0 & 0 & 0 & 1 & 1 & 0 & 0 & 0 & 0 & 0 & 0 & 0 & 0 & 1 & 0 & 0 & 0 & 0 & 0 & 0 & 0 & 0 & 0 & 1 & 0 & 0 & 1 & 1 & 0 & 0 & 0 & 0 & 0 & 1 & 0 & 0 & 0 & 1 & 0 & 0 & 0 & 0 & 0 & 0 & 0 & -9 & 2 & 69 & HIGH  & MIDLAND & 0 & 1 & 0 & 0 & 0 & 0 & 0 & 0 & 0\\\\\n\t 0 & 0 & 0 & 0 & 0 & 0 & 0 & 0 & 0 & 0 & 0 & 0 & 1 & 0 & 0 & 0 & 1 & 0 & 0 & 0 & 0 & 0 & 0 & 0 & 0 & 1 & 1 & 1 & 1 & 1 & 1 & 0 & 0 & 0 & 1 & 0 & 1 & 0 & 0 & 0 & 0 & 1 & 0 & 0 & 1 & 1 & 0 & 0 & 0 & 0 & 0 & 0 & 0 & 0 & 0 & 1 & 0 & 0 & 0 & 0 & 0 & 0 & 0 & 0 & 1 & 0 & 0 & 0 & 12 & 4 & 83 & HIGH  & SPEY    & 0 & 0 & 1 & 0 & 0 & 0 & 0 & 0 & 0\\\\\n\t 0 & 0 & 0 & 0 & 0 & 0 & 0 & 0 & 0 & 0 & 0 & 0 & 0 & 1 & 0 & 1 & 0 & 0 & 0 & 1 & 0 & 0 & 1 & 0 & 0 & 0 & 0 & 1 & 1 & 0 & 0 & 1 & 1 & 0 & 0 & 0 & 0 & 0 & 0 & 0 & 0 & 0 & 0 & 0 & 1 & 0 & 0 & 0 & 0 & 0 & 0 & 0 & 0 & 0 & 0 & 0 & 0 & 0 & 0 & 0 & 0 & 0 & 1 & 0 & 0 & 0 & 0 & 0 & 10 & 4 & 85 & ISLAY & SOUTH   & 1 & 0 & 0 & 0 & 0 & 0 & 0 & 0 & 0\\\\\n\t 0 & 0 & 0 & 0 & 1 & 0 & 0 & 0 & 0 & 0 & 0 & 0 & 0 & 0 & 0 & 0 & 1 & 0 & 0 & 0 & 0 & 1 & 0 & 1 & 0 & 0 & 0 & 0 & 1 & 0 & 0 & 0 & 0 & 0 & 0 & 0 & 0 & 1 & 0 & 0 & 0 & 0 & 1 & 0 & 1 & 0 & 0 & 0 & 0 & 0 & 0 & 0 & 1 & 0 & 0 & 0 & 0 & 0 & 0 & 0 & 0 & 0 & 0 & 0 & 0 & 0 & 0 & 0 & 18 & 2 & 66 & HIGH  & SPEY    & 0 & 0 & 1 & 0 & 0 & 0 & 0 & 0 & 0\\\\\n\t 0 & 0 & 0 & 0 & 1 & 0 & 0 & 0 & 0 & 0 & 0 & 0 & 0 & 0 & 0 & 0 & 0 & 0 & 1 & 0 & 1 & 1 & 0 & 0 & 0 & 0 & 1 & 0 & 0 & 0 & 0 & 0 & 0 & 0 & 0 & 0 & 0 & 0 & 1 & 0 & 0 & 1 & 1 & 0 & 1 & 0 & 0 & 0 & 0 & 0 & 0 & 0 & 0 & 0 & 0 & 0 & 0 & 0 & 0 & 0 & 1 & 0 & 0 & 0 & 0 & 0 & 0 & 0 & 10 & 5 & 85 & LOW   & WEST    & 0 & 0 & 0 & 0 & 0 & 0 & 1 & 0 & 0\\\\\n\t 0 & 0 & 1 & 0 & 0 & 0 & 0 & 0 & 0 & 0 & 0 & 0 & 0 & 0 & 1 & 0 & 0 & 0 & 1 & 0 & 0 & 0 & 0 & 0 & 0 & 0 & 0 & 0 & 0 & 0 & 0 & 0 & 1 & 0 & 0 & 0 & 0 & 0 & 1 & 0 & 0 & 1 & 0 & 0 & 0 & 1 & 0 & 0 & 0 & 0 & 1 & 0 & 0 & 0 & 0 & 0 & 0 & 0 & 0 & 0 & 0 & 0 & 0 & 0 & 0 & 0 & 0 & 0 & 12 & 3 & 75 & HIGH  & SPEY    & 0 & 0 & 1 & 0 & 0 & 0 & 0 & 0 & 0\\\\\n\\end{tabular}\n",
            "text/markdown": "\nA data.frame: 6 × 82\n\n| wyne &lt;int&gt; | yellow &lt;int&gt; | v.pale &lt;int&gt; | pale &lt;int&gt; | p.gold &lt;int&gt; | gold &lt;int&gt; | o.gold &lt;int&gt; | f.gold &lt;int&gt; | bronze &lt;int&gt; | p.amber &lt;int&gt; | ⋯ ⋯ | DISTRICT &lt;fct&gt; | islay &lt;int&gt; | midland &lt;int&gt; | spey &lt;int&gt; | east &lt;int&gt; | west &lt;int&gt; | north &lt;int&gt; | lowland &lt;int&gt; | campbell &lt;int&gt; | islands &lt;int&gt; |\n|---|---|---|---|---|---|---|---|---|---|---|---|---|---|---|---|---|---|---|---|---|\n| 0 | 1 | 0 | 0 | 0 | 0 | 0 | 0 | 0 | 0 | ⋯ | MIDLAND | 0 | 1 | 0 | 0 | 0 | 0 | 0 | 0 | 0 |\n| 0 | 0 | 0 | 0 | 0 | 0 | 0 | 0 | 0 | 0 | ⋯ | SPEY    | 0 | 0 | 1 | 0 | 0 | 0 | 0 | 0 | 0 |\n| 0 | 0 | 0 | 0 | 0 | 0 | 0 | 0 | 0 | 0 | ⋯ | SOUTH   | 1 | 0 | 0 | 0 | 0 | 0 | 0 | 0 | 0 |\n| 0 | 0 | 0 | 0 | 1 | 0 | 0 | 0 | 0 | 0 | ⋯ | SPEY    | 0 | 0 | 1 | 0 | 0 | 0 | 0 | 0 | 0 |\n| 0 | 0 | 0 | 0 | 1 | 0 | 0 | 0 | 0 | 0 | ⋯ | WEST    | 0 | 0 | 0 | 0 | 0 | 0 | 1 | 0 | 0 |\n| 0 | 0 | 1 | 0 | 0 | 0 | 0 | 0 | 0 | 0 | ⋯ | SPEY    | 0 | 0 | 1 | 0 | 0 | 0 | 0 | 0 | 0 |\n\n",
            "text/html": [
              "<table>\n",
              "<caption>A data.frame: 6 × 82</caption>\n",
              "<thead>\n",
              "\t<tr><th scope=col>wyne</th><th scope=col>yellow</th><th scope=col>v.pale</th><th scope=col>pale</th><th scope=col>p.gold</th><th scope=col>gold</th><th scope=col>o.gold</th><th scope=col>f.gold</th><th scope=col>bronze</th><th scope=col>p.amber</th><th scope=col>⋯</th><th scope=col>DISTRICT</th><th scope=col>islay</th><th scope=col>midland</th><th scope=col>spey</th><th scope=col>east</th><th scope=col>west</th><th scope=col>north</th><th scope=col>lowland</th><th scope=col>campbell</th><th scope=col>islands</th></tr>\n",
              "\t<tr><th scope=col>&lt;int&gt;</th><th scope=col>&lt;int&gt;</th><th scope=col>&lt;int&gt;</th><th scope=col>&lt;int&gt;</th><th scope=col>&lt;int&gt;</th><th scope=col>&lt;int&gt;</th><th scope=col>&lt;int&gt;</th><th scope=col>&lt;int&gt;</th><th scope=col>&lt;int&gt;</th><th scope=col>&lt;int&gt;</th><th scope=col>⋯</th><th scope=col>&lt;fct&gt;</th><th scope=col>&lt;int&gt;</th><th scope=col>&lt;int&gt;</th><th scope=col>&lt;int&gt;</th><th scope=col>&lt;int&gt;</th><th scope=col>&lt;int&gt;</th><th scope=col>&lt;int&gt;</th><th scope=col>&lt;int&gt;</th><th scope=col>&lt;int&gt;</th><th scope=col>&lt;int&gt;</th></tr>\n",
              "</thead>\n",
              "<tbody>\n",
              "\t<tr><td>0</td><td>1</td><td>0</td><td>0</td><td>0</td><td>0</td><td>0</td><td>0</td><td>0</td><td>0</td><td>⋯</td><td>MIDLAND</td><td>0</td><td>1</td><td>0</td><td>0</td><td>0</td><td>0</td><td>0</td><td>0</td><td>0</td></tr>\n",
              "\t<tr><td>0</td><td>0</td><td>0</td><td>0</td><td>0</td><td>0</td><td>0</td><td>0</td><td>0</td><td>0</td><td>⋯</td><td>SPEY   </td><td>0</td><td>0</td><td>1</td><td>0</td><td>0</td><td>0</td><td>0</td><td>0</td><td>0</td></tr>\n",
              "\t<tr><td>0</td><td>0</td><td>0</td><td>0</td><td>0</td><td>0</td><td>0</td><td>0</td><td>0</td><td>0</td><td>⋯</td><td>SOUTH  </td><td>1</td><td>0</td><td>0</td><td>0</td><td>0</td><td>0</td><td>0</td><td>0</td><td>0</td></tr>\n",
              "\t<tr><td>0</td><td>0</td><td>0</td><td>0</td><td>1</td><td>0</td><td>0</td><td>0</td><td>0</td><td>0</td><td>⋯</td><td>SPEY   </td><td>0</td><td>0</td><td>1</td><td>0</td><td>0</td><td>0</td><td>0</td><td>0</td><td>0</td></tr>\n",
              "\t<tr><td>0</td><td>0</td><td>0</td><td>0</td><td>1</td><td>0</td><td>0</td><td>0</td><td>0</td><td>0</td><td>⋯</td><td>WEST   </td><td>0</td><td>0</td><td>0</td><td>0</td><td>0</td><td>0</td><td>1</td><td>0</td><td>0</td></tr>\n",
              "\t<tr><td>0</td><td>0</td><td>1</td><td>0</td><td>0</td><td>0</td><td>0</td><td>0</td><td>0</td><td>0</td><td>⋯</td><td>SPEY   </td><td>0</td><td>0</td><td>1</td><td>0</td><td>0</td><td>0</td><td>0</td><td>0</td><td>0</td></tr>\n",
              "</tbody>\n",
              "</table>\n"
            ]
          },
          "metadata": {
            "tags": []
          }
        }
      ]
    },
    {
      "cell_type": "markdown",
      "metadata": {
        "id": "ayLEI-zIqsOC",
        "colab_type": "text"
      },
      "source": [
        "\n",
        "### 1) Utilize uma das técnicas de clusterização apresentadas para agrupar os seus dados"
      ]
    },
    {
      "cell_type": "code",
      "metadata": {
        "id": "TIVuAgU3WJvM",
        "colab_type": "code",
        "outputId": "26c10e83-8350-466b-94ea-b8ca15142796",
        "colab": {
          "base_uri": "https://localhost:8080/",
          "height": 105
        }
      },
      "source": [
        "set.seed(110)\n",
        "k_list <- list()\n",
        "for (i in c(1:50)) {\n",
        "  c <- i + 1\n",
        "  if (c <= 50) {\n",
        "    k_list[[i]] <- kmeans(data_onehot, centers = c, algorithm = \"Lloyd\", nstart=50, iter.max=100)\n",
        "  }\n",
        "}\n",
        "  "
      ],
      "execution_count": 0,
      "outputs": [
        {
          "output_type": "stream",
          "text": [
            "Warning message:\n",
            "“empty cluster: try a better set of initial centers”Warning message:\n",
            "“empty cluster: try a better set of initial centers”Warning message:\n",
            "“empty cluster: try a better set of initial centers”Warning message:\n",
            "“empty cluster: try a better set of initial centers”"
          ],
          "name": "stderr"
        }
      ]
    },
    {
      "cell_type": "markdown",
      "metadata": {
        "id": "c52uSahi6ahi",
        "colab_type": "text"
      },
      "source": [
        "### 2) Escolha um número razoável de clusters. Justifique sua escolha."
      ]
    },
    {
      "cell_type": "markdown",
      "metadata": {
        "id": "TqupVCaNfz2L",
        "colab_type": "text"
      },
      "source": [
        "Computação dos resultados do loop."
      ]
    },
    {
      "cell_type": "code",
      "metadata": {
        "id": "HkTefc5brpa9",
        "colab_type": "code",
        "colab": {}
      },
      "source": [
        "tot_withins = c()\n",
        "for (j in k_list) {\n",
        "  tot_withins = c(tot_withins, j$tot.withinss)\n",
        "}                 "
      ],
      "execution_count": 0,
      "outputs": []
    },
    {
      "cell_type": "code",
      "metadata": {
        "id": "K8Fd5xoWVn8N",
        "colab_type": "code",
        "outputId": "85b0800e-c05a-46b2-a515-db8140dfac99",
        "colab": {
          "base_uri": "https://localhost:8080/",
          "height": 856
        }
      },
      "source": [
        "ggplot() +\n",
        "  geom_line(aes(x=c(2:50), y=tot_withins)) +\n",
        "  geom_point(aes(x=c(2:50), y=tot_withins))"
      ],
      "execution_count": 0,
      "outputs": [
        {
          "output_type": "display_data",
          "data": {
            "image/png": "[encoded data removed]",
            "text/plain": [
              "plot without title"
            ]
          },
          "metadata": {
            "tags": []
          }
        }
      ]
    },
    {
      "cell_type": "markdown",
      "metadata": {
        "id": "uTtl0tacfX6d",
        "colab_type": "text"
      },
      "source": [
        "O \"cotovelo\" do gráfico acima está na marca de 5 clusters.\n",
        "Apenas para facilitar a visualização vamos reduzir a dimensionalidade e rodar o kmeans com os 5 clusters."
      ]
    },
    {
      "cell_type": "code",
      "metadata": {
        "id": "T1iCVjoRcXCr",
        "colab_type": "code",
        "colab": {}
      },
      "source": [
        "pca <- prcomp(data_onehot, scale=TRUE, center=TRUE)\n",
        "pca_df <- data.frame(x=pca$x[,\"PC1\"], y=pca$x[,\"PC2\"])"
      ],
      "execution_count": 0,
      "outputs": []
    },
    {
      "cell_type": "code",
      "metadata": {
        "id": "meN1ZLJQc7N_",
        "colab_type": "code",
        "colab": {}
      },
      "source": [
        "clusters_5 <- kmeans(pca_df, centers = 5, algorithm = \"Lloyd\")"
      ],
      "execution_count": 0,
      "outputs": []
    },
    {
      "cell_type": "code",
      "metadata": {
        "id": "uRsi6_52dDkZ",
        "colab_type": "code",
        "outputId": "8d2dec0b-658d-491e-bc8a-5648647b4e39",
        "colab": {
          "base_uri": "https://localhost:8080/",
          "height": 856
        }
      },
      "source": [
        "ggplot() +\n",
        "  geom_point(aes(x=pca_df[, 1], y=pca_df[, 2], color=factor(clusters_5$cluster))) + \n",
        "  geom_point(aes(x=clusters_5$centers[, 1], y=clusters_5$centers[, 2]), color=\"black\", size=5, shape=3, stroke=2) +\n",
        "  scale_color_discrete(name = \"Clusters\")"
      ],
      "execution_count": 0,
      "outputs": [
        {
          "output_type": "display_data",
          "data": {
            "image/png": "[encoded data removed]",
            "text/plain": [
              "plot without title"
            ]
          },
          "metadata": {
            "tags": []
          }
        }
      ]
    },
    {
      "cell_type": "markdown",
      "metadata": {
        "id": "ZrSdxsZPhRPj",
        "colab_type": "text"
      },
      "source": [
        "#### Executando agora o k-means com 5 clusters e no datasets original"
      ]
    },
    {
      "cell_type": "code",
      "metadata": {
        "id": "M3ItBBUShfB8",
        "colab_type": "code",
        "colab": {}
      },
      "source": [
        "clusters_5_df <- kmeans(data_onehot, centers = 5, algorithm = \"Lloyd\")"
      ],
      "execution_count": 0,
      "outputs": []
    },
    {
      "cell_type": "code",
      "metadata": {
        "id": "w6MTAjzKiI_K",
        "colab_type": "code",
        "outputId": "b4d8010f-8264-4b77-bd7b-f4e9b36e8e04",
        "colab": {
          "base_uri": "https://localhost:8080/",
          "height": 194
        }
      },
      "source": [
        "summary(clusters_5_df)"
      ],
      "execution_count": 0,
      "outputs": [
        {
          "output_type": "display_data",
          "data": {
            "text/plain": [
              "             Length Class  Mode   \n",
              "cluster      109    -none- numeric\n",
              "centers      490    -none- numeric\n",
              "totss          1    -none- numeric\n",
              "withinss       5    -none- numeric\n",
              "tot.withinss   1    -none- numeric\n",
              "betweenss      1    -none- numeric\n",
              "size           5    -none- numeric\n",
              "iter           1    -none- numeric\n",
              "ifault         0    -none- NULL   "
            ]
          },
          "metadata": {
            "tags": []
          }
        }
      ]
    },
    {
      "cell_type": "markdown",
      "metadata": {
        "id": "ppHzGgRR6k97",
        "colab_type": "text"
      },
      "source": [
        "### 3) Verifique se o número escolhido de clusters apresenta uma boa separação. Escolha uma métrica como Silhoueta ou Davis-Bouldin.\n"
      ]
    },
    {
      "cell_type": "code",
      "metadata": {
        "id": "V4Vy2LlsIuu5",
        "colab_type": "code",
        "colab": {}
      },
      "source": [
        "# Escreva seu código aqui"
      ],
      "execution_count": 0,
      "outputs": []
    },
    {
      "cell_type": "markdown",
      "metadata": {
        "id": "HtDFsDgz6pci",
        "colab_type": "text"
      },
      "source": [
        "### 4) Escolha um dos clusters resultantes e utilize uma árvore de decisão  para tentar compreender os resultados dos agrupamentos"
      ]
    },
    {
      "cell_type": "code",
      "metadata": {
        "id": "5vNbpZT4JF97",
        "colab_type": "code",
        "colab": {}
      },
      "source": [
        "# Escreva seu código aqui"
      ],
      "execution_count": 0,
      "outputs": []
    }
  ]
}